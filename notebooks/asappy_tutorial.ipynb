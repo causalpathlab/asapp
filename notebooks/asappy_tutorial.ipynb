{
 "cells": [
  {
   "cell_type": "markdown",
   "metadata": {},
   "source": [
    "Create a directory for data analysis and put h5 or h5ad file/files in data direcotry\n",
    "\n",
    "```\n",
    "mkdir example\n",
    "cd example\n",
    "mkdir data\n",
    "mkdir results\n",
    "```\n",
    "\n",
    "We will first create a dataset for asap object. The dataset can be created from multiple or single source dataset in H5, H5AD, and MTX format."
   ]
  },
  {
   "cell_type": "code",
   "execution_count": null,
   "metadata": {},
   "outputs": [],
   "source": [
    "import asappy\n",
    "import anndata as an\n",
    "\n",
    "import pandas as pd\n",
    "import numpy as np\n",
    "\n",
    "import matplotlib.pylab as plt\n",
    "import seaborn as sns\n",
    "\n"
   ]
  },
  {
   "cell_type": "code",
   "execution_count": null,
   "metadata": {},
   "outputs": [],
   "source": [
    "\n",
    "\n",
    "sample = 'pancreas'\n",
    "wdir = '../example/'\n",
    "\n",
    "asappy.create_asap_data(sample,working_dirpath=wdir)"
   ]
  },
  {
   "cell_type": "markdown",
   "metadata": {},
   "source": [
    "Next, we create ASAPPY object and link dataset to it. Depending on the size of data_size, the object will load the data on memory or setup on-disk option to run further analysis.\n",
    "- if total size of the data is less than data_size then load on memory else run alaysis on-disk"
   ]
  },
  {
   "cell_type": "code",
   "execution_count": null,
   "metadata": {},
   "outputs": [],
   "source": [
    "\n",
    "data_size = 10000\n",
    "number_batches = 1\n",
    "asap_object = asappy.create_asap_object(sample=sample,data_size=data_size,number_batches=number_batches,working_dirpath=wdir)"
   ]
  },
  {
   "cell_type": "code",
   "execution_count": null,
   "metadata": {},
   "outputs": [],
   "source": [
    "asap_object.adata.get_datainfo()"
   ]
  },
  {
   "cell_type": "code",
   "execution_count": null,
   "metadata": {},
   "outputs": [],
   "source": [
    "asappy.generate_pseudobulk(asap_object,tree_depth=10)"
   ]
  },
  {
   "cell_type": "code",
   "execution_count": null,
   "metadata": {},
   "outputs": [],
   "source": [
    "n_topics = 12 \n",
    "asappy.asap_nmf(asap_object,num_factors=n_topics,seed=42)"
   ]
  },
  {
   "cell_type": "code",
   "execution_count": null,
   "metadata": {},
   "outputs": [],
   "source": [
    "# asappy.generate_model(asap_object)\n",
    "\n",
    "# asap_object = asappy.generate_model(asap_object,return_object=True)\n",
    "\n",
    "\n",
    "asap_object = an.read_h5ad(wdir+'results/'+sample+'.h5asap')"
   ]
  },
  {
   "cell_type": "code",
   "execution_count": null,
   "metadata": {},
   "outputs": [],
   "source": [
    "cluster_resolution= 0.3 ## paper\n",
    "asappy.leiden_cluster(asap_object,resolution=cluster_resolution)"
   ]
  },
  {
   "cell_type": "code",
   "execution_count": null,
   "metadata": {},
   "outputs": [],
   "source": [
    "asappy.run_umap(asap_object,distance='euclidean',min_dist=0.3)"
   ]
  },
  {
   "cell_type": "code",
   "execution_count": null,
   "metadata": {},
   "outputs": [],
   "source": [
    "asappy.plot_umap(asap_object,col='cluster',pt_size=2.5,ftype='png')"
   ]
  },
  {
   "cell_type": "markdown",
   "metadata": {},
   "source": [
    "<img src=\"/home/BCCRC.CA/ssubedi/projects/experiments/asapp/example/results/pancreas_cluster_umap.png\" width=\"500\">"
   ]
  },
  {
   "cell_type": "code",
   "execution_count": null,
   "metadata": {},
   "outputs": [],
   "source": [
    "def getct(ids,sample):\n",
    "\tids = [x.replace('@'+sample,'') for x in ids]\n",
    "\tdfid = pd.DataFrame(ids,columns=['cell'])\n",
    "\tdfl = pd.read_csv(wdir+'results/'+sample+'_celltype.csv.gz')\n",
    "\tdfl['cell'] = [x.replace('@'+sample,'') for x in dfl['cell']]\n",
    "\tdfjoin = pd.merge(dfl,dfid,on='cell',how='right')\n",
    "\tct = dfjoin['celltype'].values\n",
    "\treturn ct"
   ]
  },
  {
   "cell_type": "code",
   "execution_count": null,
   "metadata": {},
   "outputs": [],
   "source": [
    "asap_object.obs['celltype']  = pd.Categorical(getct(asap_object.obs.index.values,sample))\n",
    "asappy.plot_umap(asap_object,col='celltype',pt_size=2.5,ftype='png')"
   ]
  },
  {
   "cell_type": "markdown",
   "metadata": {},
   "source": [
    "<img src=\"/home/BCCRC.CA/ssubedi/projects/experiments/asapp/example/results/pancreas_celltype_umap.png\" width=\"500\">"
   ]
  },
  {
   "cell_type": "code",
   "execution_count": null,
   "metadata": {},
   "outputs": [],
   "source": [
    "top_n_genes = 10\n",
    "asappy.plot_gene_loading(asap_object,top_n=top_n_genes)\n"
   ]
  },
  {
   "cell_type": "markdown",
   "metadata": {},
   "source": [
    "<img src=\"/home/BCCRC.CA/ssubedi/projects/experiments/asapp/example/results/pancreas_beta_th_100.png\" width=\"500\">"
   ]
  },
  {
   "cell_type": "code",
   "execution_count": null,
   "metadata": {},
   "outputs": [],
   "source": [
    "\n",
    "pmf2t = asappy.pmf2topic(beta=asap_object.uns['pseudobulk']['pb_beta'] ,theta=asap_object.obsm['theta'])\n",
    "df = pd.DataFrame(pmf2t['prop'])\n",
    "df.columns = ['t'+str(x) for x in df.columns]\n",
    "df['celltype'] = asap_object.obs['celltype'].values\n",
    "df.set_index('celltype',inplace=True)\n",
    "\n",
    "\n",
    "sns.clustermap(df,cmap='Oranges')\n",
    "plt.savefig(asap_object.uns['inpath']+'_prop_hmap.png');plt.close()"
   ]
  },
  {
   "cell_type": "markdown",
   "metadata": {},
   "source": [
    "<img src=\"example/results/pancreas_prop_hmap.png\" width=\"500\">"
   ]
  }
 ],
 "metadata": {
  "kernelspec": {
   "display_name": "ssubedi",
   "language": "python",
   "name": "python3"
  },
  "language_info": {
   "codemirror_mode": {
    "name": "ipython",
    "version": 3
   },
   "file_extension": ".py",
   "mimetype": "text/x-python",
   "name": "python",
   "nbconvert_exporter": "python",
   "pygments_lexer": "ipython3",
   "version": "3.9.9"
  }
 },
 "nbformat": 4,
 "nbformat_minor": 2
}
