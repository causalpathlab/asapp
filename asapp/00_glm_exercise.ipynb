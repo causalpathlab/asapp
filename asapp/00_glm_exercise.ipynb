{
 "cells": [
  {
   "cell_type": "code",
   "execution_count": 3,
   "metadata": {},
   "outputs": [],
   "source": [
    "import pandas as pd\n",
    "import numpy as np"
   ]
  },
  {
   "cell_type": "markdown",
   "metadata": {},
   "source": [
    "Poisson regression-\n",
    "\n",
    "$$ log L = \\sum_{i} y_{i} X_{i}\\beta - e^{X_{i}\\beta} - log y_{i}! $$\n",
    "\n",
    "$$ \\nabla log L = \\sum_{i} (y_{i}  - e^{X_{i}\\beta}) X_{i}^{T}$$\n",
    "\n",
    "$$ \\nabla^{2} log L = - \\sum_{i}  e^{X_{i}\\beta}  X_{i}X_{i}^{T}$$\n",
    "\n",
    "Newton-Raphson update steps for $\\beta$-\n",
    "\n",
    "$$ \\beta^{t+1}  = \\beta^{t} - (\\nabla^{2} log L)^{-1}(\\nabla log L)$$\n"
   ]
  },
  {
   "cell_type": "code",
   "execution_count": 4,
   "metadata": {},
   "outputs": [],
   "source": [
    "from numpy.random import normal\n",
    "np.random.seed(37)\n",
    "\n",
    "\n",
    "M = 10000\n",
    "X = np.hstack([\n",
    "    normal(0.0, 1.0, M).reshape(M, 1),\n",
    "    normal(0.0, 1.0, M).reshape(M, 1),\n",
    "    normal(0.0, 1.0, M).reshape(M, 1)\n",
    "])\n",
    "z = np.dot(X, np.array([0.15, 0.5, 0.2])) + 2.0 + normal(0.0, 0.01, M)\n",
    "y = np.exp(z)"
   ]
  },
  {
   "cell_type": "code",
   "execution_count": 5,
   "metadata": {},
   "outputs": [
    {
     "name": "stdout",
     "output_type": "stream",
     "text": [
      "[-1.99996534 -0.14999278 -0.49976397 -0.20017282]\n"
     ]
    }
   ],
   "source": [
    "import _approx\n",
    "\n",
    "beta = _approx.newton_opt(X,y,10000)\n",
    "print(beta)"
   ]
  },
  {
   "cell_type": "code",
   "execution_count": 41,
   "metadata": {},
   "outputs": [
    {
     "data": {
      "text/plain": [
       "array([0.13554465, 0.44964595, 0.17958408])"
      ]
     },
     "execution_count": 41,
     "metadata": {},
     "output_type": "execute_result"
    }
   ],
   "source": [
    "from sklearn import linear_model\n",
    "clf = linear_model.PoissonRegressor()\n",
    "clf.fit(X, y)\n",
    "clf.coef_\n"
   ]
  },
  {
   "cell_type": "markdown",
   "metadata": {},
   "source": [
    "$$\\nabla w = \\frac{1}{m} \\sum^{m}_{i=1} x^{(i)}(\\hat{y}^{(i)} - y^{(i)}) \\Rightarrow \\frac{1}{m} X(\\hat{Y} - Y)$$\n",
    "\n",
    "$$\\nabla b = \\frac{1}{m} \\sum^{m}_{i=1} \\hat{y}^{(i)} - y^{(i)} \\Rightarrow \\frac{1}{m} (\\hat{Y} - Y)$$\n",
    "\n",
    "$$loss = \\frac{1}{m} \\sum^{m}_{i = 1}\\hat{y}^{(i)} - log(\\hat{y}^{(i)})y^{(i)}$$"
   ]
  },
  {
   "cell_type": "code",
   "execution_count": 6,
   "metadata": {},
   "outputs": [
    {
     "name": "stdout",
     "output_type": "stream",
     "text": [
      "1.9967150776180067 [0.15060772 0.50186413 0.20109732]\n"
     ]
    }
   ],
   "source": [
    "w, b = _approx.gradient_descent(X, y, 1000)\n",
    "print(b,w)\n"
   ]
  },
  {
   "cell_type": "code",
   "execution_count": 14,
   "metadata": {},
   "outputs": [
    {
     "data": {
      "text/plain": [
       "<module '_approx' from '/home/BCCRC.CA/ssubedi/projects/experiments/fastsca/fastsca/_approx.py'>"
      ]
     },
     "execution_count": 14,
     "metadata": {},
     "output_type": "execute_result"
    }
   ],
   "source": [
    "import importlib\n",
    "\n",
    "importlib.reload(_approx)"
   ]
  },
  {
   "cell_type": "code",
   "execution_count": 15,
   "metadata": {},
   "outputs": [
    {
     "name": "stdout",
     "output_type": "stream",
     "text": [
      "[199.99794656  14.91099419  49.90809526  20.01858883]\n",
      "[0.14994115 0.50005107 0.20001164]\n"
     ]
    }
   ],
   "source": [
    "\n",
    "\n",
    "M = 10000\n",
    "X = np.hstack([\n",
    "    normal(0.0, 1.0, M).reshape(M, 1),\n",
    "    normal(0.0, 1.0, M).reshape(M, 1),\n",
    "    normal(0.0, 1.0, M).reshape(M, 1)\n",
    "])\n",
    "z = np.dot(X, np.array([0.15, 0.5, 0.2])) + 2.0 + normal(0.0, 0.01, M)\n",
    "\n",
    "w = _approx.coordinate_descent(X,z,1000)\n",
    "print(w)\n",
    "\n",
    "from sklearn.linear_model import LinearRegression\n",
    " \n",
    "regr = LinearRegression()\n",
    "regr.fit(X,z)\n",
    " \n",
    "print(regr.coef_)"
   ]
  },
  {
   "cell_type": "code",
   "execution_count": 4,
   "metadata": {},
   "outputs": [],
   "source": [
    "import numpy as np\n",
    "from numpy.random import normal\n",
    "import pandas as pd\n",
    "\n",
    "M = 10000\n",
    "X = np.hstack([\n",
    "    normal(0.0, 1.0, M).reshape(M, 1),\n",
    "    normal(0.0, 1.0, M).reshape(M, 1),\n",
    "    normal(0.0, 1.0, M).reshape(M, 1)\n",
    "])\n",
    "z = np.dot(X, np.array([0.15, 0.5, 0.2])) + 2.0 + normal(0.0, 0.01, M)"
   ]
  },
  {
   "cell_type": "code",
   "execution_count": 5,
   "metadata": {},
   "outputs": [],
   "source": [
    "df = pd.DataFrame(X)\n",
    "dfy = pd.DataFrame(z)\n"
   ]
  },
  {
   "cell_type": "code",
   "execution_count": 8,
   "metadata": {},
   "outputs": [],
   "source": [
    "import scipy.io, scipy.sparse\n",
    "\n",
    "scipy.io.mmwrite(\"test_x.mtx\", scipy.sparse.csr_matrix(df))\n",
    "scipy.io.mmwrite(\"test_y.mtx\", scipy.sparse.csr_matrix(dfy))"
   ]
  },
  {
   "cell_type": "code",
   "execution_count": 10,
   "metadata": {},
   "outputs": [
    {
     "name": "stdout",
     "output_type": "stream",
     "text": [
      "[0.15005483 0.50004064 0.19986727]\n",
      "2.0000617190805206\n"
     ]
    }
   ],
   "source": [
    "from sklearn.linear_model import LinearRegression\n",
    " \n",
    "regr = LinearRegression()\n",
    "regr.fit(X,z)\n",
    " \n",
    "print(regr.coef_)\n",
    "print(regr.intercept_)"
   ]
  },
  {
   "cell_type": "code",
   "execution_count": 4,
   "metadata": {},
   "outputs": [],
   "source": [
    "import numpy as np\n",
    "import pandas as pd\n",
    "from numpy.random import normal\n",
    "np.random.seed(37)\n",
    "dfht = pd.DataFrame([\n",
    "[0.8,0.15,0.05],\n",
    "[0.75,0.15,0.1],\n",
    "[0.15,0.05,0.8],\n",
    "[0.05,0.8,0.15],\n",
    "])\n",
    "\n",
    "a = list(normal(5,1,10)) + list(normal(1,1,10)) + list(normal(1,1,10))\n",
    "b = list(normal(1,1,10)) + list(normal(1,1,10)) + list(normal(5,1,10))\n",
    "c = list(normal(1,1,10)) + list(normal(5,1,10)) + list(normal(1,1,10))\n",
    "dfwt = pd.DataFrame([a,b,c])\n",
    "\n",
    "\n",
    "dfy = pd.DataFrame(np.dot(dfwt.T.to_numpy(),dfht.T.to_numpy()))"
   ]
  },
  {
   "cell_type": "code",
   "execution_count": 7,
   "metadata": {},
   "outputs": [],
   "source": [
    "from sklearn.decomposition import NMF\n",
    "model = NMF(n_components=3, init='random', random_state=0)\n",
    "W = model.fit_transform(np.exp(dfy.to_numpy()))\n",
    "H = model.components_"
   ]
  },
  {
   "cell_type": "code",
   "execution_count": 10,
   "metadata": {},
   "outputs": [
    {
     "data": {
      "text/plain": [
       "<AxesSubplot:>"
      ]
     },
     "execution_count": 10,
     "metadata": {},
     "output_type": "execute_result"
    },
    {
     "data": {
      "image/png": "[encoded data removed]",
      "text/plain": [
       "<Figure size 432x288 with 2 Axes>"
      ]
     },
     "metadata": {
      "needs_background": "light"
     },
     "output_type": "display_data"
    }
   ],
   "source": [
    "import matplotlib.pylab as plt\n",
    "import seaborn as sns\n",
    "\n",
    "sns.heatmap(H)"
   ]
  },
  {
   "cell_type": "code",
   "execution_count": 9,
   "metadata": {},
   "outputs": [
    {
     "data": {
      "text/plain": [
       "<AxesSubplot:>"
      ]
     },
     "execution_count": 9,
     "metadata": {},
     "output_type": "execute_result"
    },
    {
     "data": {
      "image/png": "[encoded data removed]",
      "text/plain": [
       "<Figure size 432x288 with 2 Axes>"
      ]
     },
     "metadata": {
      "needs_background": "light"
     },
     "output_type": "display_data"
    }
   ],
   "source": [
    "sns.heatmap(W)"
   ]
  },
  {
   "cell_type": "markdown",
   "metadata": {},
   "source": [
    "TODO-  recheck code and test\n",
    "\n",
    "### Alternative local Poisson approximation\n",
    "\n",
    "Let $Y_{gb}$ be pseudobulk matrix.\n",
    "\n",
    "$$\\mathbb{E}\\!\\left[Y_{gb}\\right] = \\exp\\left( \\sum_{k} W_{gk} H_{bk} \\right)$$\n",
    "\n",
    "Let $\\eta_{gb} = \\sum_{k} W_{gk} H_{bk}$\n",
    "\n",
    "$$\\sum_{g,b} Y_{gb} \\ln \\eta_{gb} - \\eta_{gb}$$\n",
    "\n",
    "\n",
    "We can construct quadratic approximation from previous $\\tilde{\\eta}$\n",
    "\n",
    "$\\tilde{Y}_{gb} = Y_{gb} -1 + \\tilde{\\eta}_{gb} + \\exp(-\\tilde{\\eta}_{gb})$\n",
    "\n",
    "$\\tilde{w}_{gb} = \\exp(\\tilde{\\eta}_{gb})$\n",
    "\n",
    "Solving for $H$ given $W$:\n",
    "$$\\sum_{g}\\tilde{w}_{gb} \\left( \\tilde{Y}_{gb} - \\sum_{k} W_{gk} H_{bk} \\right)^{2}$$\n",
    "\n",
    "\n",
    "$$H_{bk} \\gets \n",
    "\\frac{\\sum_{g} \\tilde{w}_{gb} (\\tilde{Y} - \\sum_{s \\neq k} W_{gs} H_{bs}) W_{gk}}\n",
    "     {\\sum_{g} \\tilde{w}_{gb} W_{gk}^{2}}$$\n",
    "\n",
    "Solving for $W$ given $H$:\n",
    "\n",
    "$$\\sum_{b}\\tilde{w}_{gb} \\left( \\tilde{Y}_{gb} - \\sum_{k} H_{bk} W_{gk} \\right)^{2}$$\n",
    "\n",
    "\n",
    "$$W_{gk} \\gets \n",
    "\\frac{\\sum_{b} \\tilde{w}_{gb} (\\tilde{Y}_{gb} - \\sum_{s \\neq k} H_{bs} W_{gs} )H_{bk} }\n",
    "     {\\sum_{b} \\tilde{w}_{gb} H_{bk}^{2}}$$\n",
    "\n",
    "\n"
   ]
  },
  {
   "cell_type": "code",
   "execution_count": null,
   "metadata": {},
   "outputs": [],
   "source": [
    "from numpy.random import normal \n",
    "\n",
    "y= np.matrix(df.to_numpy())\n",
    "k = 10\n",
    "g = y.shape[1]\n",
    "b = y.shape[0]\n",
    "W = np.matrix(normal(0.0, 1.0, g * k).reshape(g, k))\n",
    "H = np.matrix(normal(0.0, 1.0, k * b).reshape(k, b))\n",
    "\n",
    "w = np.exp(np.dot(W,H))\n",
    "#update \n",
    "for iter in range(100):\n",
    "    yhat = np.dot(W,H)\n",
    "    \n",
    "    for ki in range(k):\n",
    "\n",
    "        yhat_k = np.dot(W[:,ki],H[ki,:])\n",
    "        yhat_ex_k = yhat - yhat_k\n",
    "        res = y.T - yhat_ex_k    \n",
    "        res_gb = np.multiply(res,w)\n",
    "        res_kb = np.dot(W[:,ki].T,res_gb)\n",
    "        res_allk = np.dot(np.square(W[:,ki]).T,w)\n",
    "        H[ki,:] =  res_kb / res_allk\n",
    "\n",
    "    for ki in range(k):\n",
    "\n",
    "\n",
    "        yhat_k = np.dot(W[:,ki],H[ki,:])\n",
    "        yhat_ex_k = yhat - yhat_k\n",
    "        res = y.T - yhat_ex_k\n",
    "        res_gb = np.multiply(res,w)\n",
    "        res_kg = np.dot(H[ki,:],res_gb.T)\n",
    "        res_allk = np.dot(np.square(H[ki,:]),w.T)\n",
    "        W[:,ki] =  (res_kg / res_allk).T\n"
   ]
  }
 ],
 "metadata": {
  "kernelspec": {
   "display_name": "Python 3.9.9 ('ssubedi')",
   "language": "python",
   "name": "python3"
  },
  "language_info": {
   "codemirror_mode": {
    "name": "ipython",
    "version": 3
   },
   "file_extension": ".py",
   "mimetype": "text/x-python",
   "name": "python",
   "nbconvert_exporter": "python",
   "pygments_lexer": "ipython3",
   "version": "3.9.9"
  },
  "orig_nbformat": 4,
  "vscode": {
   "interpreter": {
    "hash": "456174486433d0df38b6c3d43662f9cf9ff34eb8be065c50f397edd6e06d981c"
   }
  }
 },
 "nbformat": 4,
 "nbformat_minor": 2
}
