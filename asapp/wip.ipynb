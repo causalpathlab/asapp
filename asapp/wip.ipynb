{
 "cells": [
  {
   "cell_type": "code",
   "execution_count": 44,
   "metadata": {},
   "outputs": [],
   "source": [
    "from util._io import read_config\n",
    "from collections import namedtuple\n",
    "from pathlib import Path\n",
    "import pandas as pd\n",
    "import numpy as np\n",
    "import fastsca\n",
    "import logging\n",
    "import _rpstruct as rp\n",
    "import _pnmf\n",
    "from sklearn.decomposition import NMF\n",
    "from sklearn import preprocessing\n",
    "import random\n",
    "from scipy.special import softmax\n",
    "from sklearn.metrics.cluster import contingency_matrix,silhouette_score,adjusted_rand_score,calinski_harabasz_score,davies_bouldin_score\n",
    "np.random.seed(42)\n",
    "\n",
    "experiment = '/projects/experiments/asapp/'\n",
    "server = Path.home().as_posix()\n",
    "experiment_home = server+experiment\n",
    "experiment_config = read_config(experiment_home+'config.yaml')\n",
    "args = namedtuple('Struct',experiment_config.keys())(*experiment_config.values())\n",
    "\n",
    "sca = fastsca.FASTSCA()\n",
    "sca.config = args\n",
    "sca.initdata()\n",
    "# sca.loaddata()\n",
    "# print(sca.data.mtx.shape)\n",
    "fn = sca.config.home + sca.config.experiment +sca.config.output + sca.config.sample_id+'/'+sca.config.sample_id\n",
    "\n"
   ]
  },
  {
   "cell_type": "code",
   "execution_count": 45,
   "metadata": {},
   "outputs": [
    {
     "data": {
      "text/plain": [
       "(1146, 19798)"
      ]
     },
     "execution_count": 45,
     "metadata": {},
     "output_type": "execute_result"
    }
   ],
   "source": [
    "df_y = pd.read_csv(fn+'_rp_bulk.csv.gz')\n",
    "df_y.shape\n"
   ]
  },
  {
   "cell_type": "code",
   "execution_count": 2,
   "metadata": {},
   "outputs": [
    {
     "name": "stdout",
     "output_type": "stream",
     "text": [
      "W m x k (12, 3)\n",
      "H k x n (3, 300)\n",
      "A m x n (12, 300)\n"
     ]
    }
   ],
   "source": [
    "import numpy as np\n",
    "import pandas as pd\n",
    "from numpy.random import normal\n",
    "np.random.seed(37)\n",
    "\n",
    "df_w = pd.DataFrame([\n",
    "[0.8,0.15,0.05],\n",
    "[0.75,0.15,0.1],\n",
    "[0.8,0.15,0.05],\n",
    "[0.75,0.15,0.1],\n",
    "[0.15,0.05,0.8],\n",
    "[0.15,0.05,0.8],\n",
    "[0.15,0.05,0.8],\n",
    "[0.15,0.05,0.8],\n",
    "[0.05,0.8,0.15],\n",
    "[0.05,0.8,0.15],\n",
    "[0.05,0.8,0.15],\n",
    "[0.05,0.8,0.15],\n",
    "])\n",
    "\n",
    "print('W m x k',df_w.shape)\n",
    "\n",
    "a = list(normal(5,1,100)) + list(normal(1,1,100)) + list(normal(1,1,100))\n",
    "b = list(normal(1,1,100)) + list(normal(1,1,100)) + list(normal(5,1,100))\n",
    "c = list(normal(1,1,100)) + list(normal(5,1,100)) + list(normal(1,1,100))\n",
    "df_h = pd.DataFrame([a,b,c])\n",
    "\n",
    "print('H k x n',df_h.shape)\n",
    "\n",
    "\n",
    "df_y = pd.DataFrame(np.dot(df_w.to_numpy(),df_h.to_numpy()))\n",
    "print('A m x n',df_y.shape)\n"
   ]
  },
  {
   "attachments": {},
   "cell_type": "markdown",
   "metadata": {},
   "source": [
    "#### Single Effect Factorization (SEF)\n",
    "\n",
    "Instead of resolving $\\eta_{bg} = \\sum_{k} H_{bk} W_{gk}$ all at once,\n",
    "\n",
    "\n",
    "For $k = 1$, \n",
    "\n",
    "$$\\eta_{bg}^{(k)} = H_{bk} W_{gk}$$\n",
    "\n",
    "For $k > 1$,\n",
    "\n",
    "1. Update running average: $\\eta_{bg}^{(k)} = \\eta_{bg}^{(k-1)} +  H_{bk} W_{gk}$\n",
    "\n",
    "2. Update quadratic approximation\n",
    "\n",
    "    a. $\\omega_{bg} = \\exp(\\eta)$\n",
    "\t\n",
    "\tb. $\\tilde{Y}_{bg} = \\eta_{bg} - 1 + Y_{bg} \\exp(-\\eta_{bg})$\n",
    "\n",
    "    c. $L_{Q}^{(k)} = -\\frac{1}{2} \\sum_{bg} \\omega_{bg} \\left(\\tilde{Y}_{bg} - H_{bk} W_{gk}\\right)^{2}$\n",
    "\n",
    "3. update the latent loading for all the batches $H$: \n",
    "\n",
    "    - $H_{bk} = \\sum_{g} \\omega_{bg} \\tilde{Y}_{bg} W_{gk}/ ( \\sum_{g} \\omega_{bg} W_{gk}^{2} + \\epsilon)$\n",
    "\n",
    "4. update the gene selection probability $W$: \n",
    "\n",
    "    - $W_{gk} = \\exp\\left( -\\frac{1}{2} \\sum_{b} \\omega_{bg} (\\tilde{Y}_{bg} - H_{bk})^{2} \\right)$ and $\\sum_{g} W_{gk} = 1$\n",
    "\n",
    "\n",
    "\n"
   ]
  },
  {
   "cell_type": "code",
   "execution_count": null,
   "metadata": {},
   "outputs": [],
   "source": [
    "\n",
    "y= np.matrix(df_y.iloc[:,0].T.to_numpy())\n",
    "k = 3\n",
    "g = y.shape[1]\n",
    "b = y.shape[0]\n",
    "W = np.matrix(np.random.rand(g,k))\n",
    "H = np.matrix(np.random.rand(b,k))\n",
    "\n",
    "# llik_res = []\n",
    "\n",
    "for k_i in range(k):\n",
    "\n",
    "    if k_i ==0:            \n",
    "        eta = np.dot(H[:,k_i],W[:,k_i].T)\n",
    "    else:\n",
    "        eta =  eta + np.dot(H[:,k_i],W[:,k_i].T)\n",
    "        omega = np.exp(eta)\n",
    "        y_approx = eta - 1 + np.multiply(y,np.exp(-eta))\n",
    "\n",
    "        llik = (-0.5 * np.square(np.multiply(omega , y_approx - np.dot(H[:,:k_i],W[:,:k_i].T)))).sum()\n",
    "        frob_norm = np.linalg.norm(y - np.dot(H[:,:k_i],W[:,:k_i].T), 'fro')\n",
    "        print(k_i,llik,frob_norm)\n",
    "\n",
    "        hd = np.dot(omega,np.square(W[:,k_i])) + 1e-5\n",
    "        y_approx_k = y_approx - np.dot(H[:,k_i],W[:,k_i].T)\n",
    "        hn = np.dot(np.multiply(omega,y_approx_k),W[:,k_i])\n",
    "        H[:,k_i] = hn/hd\n",
    "\n",
    "        W_gk = np.exp(-0.5 * np.multiply(omega , np.square(y_approx - H[:,k_i])).sum(0))\n",
    "        W[:,k_i] = softmax(W_gk).T\n",
    "\n"
   ]
  },
  {
   "cell_type": "code",
   "execution_count": 61,
   "metadata": {},
   "outputs": [
    {
     "name": "stdout",
     "output_type": "stream",
     "text": [
      "0\n",
      "1\n",
      "2\n",
      "3\n",
      "4\n"
     ]
    }
   ],
   "source": [
    "import numpy as np\n",
    "import _nmf2\n",
    "import importlib\n",
    "importlib.reload(_nmf2)\n",
    "model = _nmf2.nmf_solver(df_y.T.to_numpy(),10,5)\n"
   ]
  },
  {
   "cell_type": "code",
   "execution_count": 62,
   "metadata": {},
   "outputs": [
    {
     "name": "stderr",
     "output_type": "stream",
     "text": [
      "/home/BCCRC.CA/ssubedi/.conda/envs/ssubedi/lib/python3.9/site-packages/seaborn/_decorators.py:36: FutureWarning: Pass the following variables as keyword args: x, y. From version 0.12, the only valid positional argument will be `data`, and passing other arguments without an explicit keyword will result in an error or misinterpretation.\n",
      "  warnings.warn(\n"
     ]
    },
    {
     "data": {
      "image/png": "[encoded data removed]",
      "text/plain": [
       "<Figure size 432x288 with 1 Axes>"
      ]
     },
     "metadata": {
      "needs_background": "light"
     },
     "output_type": "display_data"
    }
   ],
   "source": [
    "import seaborn as sns \n",
    "sns.scatterplot(range(len(model['loss'])),model['loss'])\n",
    "H = model['H']\n",
    "W = model['W']"
   ]
  },
  {
   "cell_type": "code",
   "execution_count": 63,
   "metadata": {},
   "outputs": [
    {
     "name": "stderr",
     "output_type": "stream",
     "text": [
      "/home/BCCRC.CA/ssubedi/projects/experiments/asapp/asapp/_topics_util.py:8: FutureWarning: In a future version of pandas all arguments of Series.sort_values will be keyword-only.\n",
      "  gtab = df.T.iloc[:,x].sort_values(0,ascending=False)[:top_n].reset_index()\n",
      "/home/BCCRC.CA/ssubedi/projects/experiments/asapp/asapp/_topics_util.py:8: FutureWarning: In a future version of pandas all arguments of Series.sort_values will be keyword-only.\n",
      "  gtab = df.T.iloc[:,x].sort_values(0,ascending=False)[:top_n].reset_index()\n",
      "/home/BCCRC.CA/ssubedi/projects/experiments/asapp/asapp/_topics_util.py:8: FutureWarning: In a future version of pandas all arguments of Series.sort_values will be keyword-only.\n",
      "  gtab = df.T.iloc[:,x].sort_values(0,ascending=False)[:top_n].reset_index()\n",
      "/home/BCCRC.CA/ssubedi/projects/experiments/asapp/asapp/_topics_util.py:8: FutureWarning: In a future version of pandas all arguments of Series.sort_values will be keyword-only.\n",
      "  gtab = df.T.iloc[:,x].sort_values(0,ascending=False)[:top_n].reset_index()\n",
      "/home/BCCRC.CA/ssubedi/projects/experiments/asapp/asapp/_topics_util.py:8: FutureWarning: In a future version of pandas all arguments of Series.sort_values will be keyword-only.\n",
      "  gtab = df.T.iloc[:,x].sort_values(0,ascending=False)[:top_n].reset_index()\n",
      "/home/BCCRC.CA/ssubedi/projects/experiments/asapp/asapp/_topics_util.py:8: FutureWarning: In a future version of pandas all arguments of Series.sort_values will be keyword-only.\n",
      "  gtab = df.T.iloc[:,x].sort_values(0,ascending=False)[:top_n].reset_index()\n",
      "/home/BCCRC.CA/ssubedi/projects/experiments/asapp/asapp/_topics_util.py:8: FutureWarning: In a future version of pandas all arguments of Series.sort_values will be keyword-only.\n",
      "  gtab = df.T.iloc[:,x].sort_values(0,ascending=False)[:top_n].reset_index()\n",
      "/home/BCCRC.CA/ssubedi/projects/experiments/asapp/asapp/_topics_util.py:8: FutureWarning: In a future version of pandas all arguments of Series.sort_values will be keyword-only.\n",
      "  gtab = df.T.iloc[:,x].sort_values(0,ascending=False)[:top_n].reset_index()\n",
      "/home/BCCRC.CA/ssubedi/projects/experiments/asapp/asapp/_topics_util.py:8: FutureWarning: In a future version of pandas all arguments of Series.sort_values will be keyword-only.\n",
      "  gtab = df.T.iloc[:,x].sort_values(0,ascending=False)[:top_n].reset_index()\n",
      "/home/BCCRC.CA/ssubedi/projects/experiments/asapp/asapp/_topics_util.py:8: FutureWarning: In a future version of pandas all arguments of Series.sort_values will be keyword-only.\n",
      "  gtab = df.T.iloc[:,x].sort_values(0,ascending=False)[:top_n].reset_index()\n"
     ]
    }
   ],
   "source": [
    "import _topics_util as tpu \n",
    "import matplotlib.pylab as plt\n",
    "import seaborn as sns\n",
    "\n",
    "df_w = pd.DataFrame(W.T)\n",
    "df_w.columns = sca.data.cols\n",
    "df_top = tpu.get_topic_top_genes(df_w,10)"
   ]
  },
  {
   "cell_type": "code",
   "execution_count": 64,
   "metadata": {},
   "outputs": [
    {
     "data": {
      "text/plain": [
       "<seaborn.matrix.ClusterGrid at 0x7efbde1116d0>"
      ]
     },
     "execution_count": 64,
     "metadata": {},
     "output_type": "execute_result"
    },
    {
     "data": {
      "image/png": "[encoded data removed]",
      "text/plain": [
       "<Figure size 720x720 with 4 Axes>"
      ]
     },
     "metadata": {
      "needs_background": "light"
     },
     "output_type": "display_data"
    }
   ],
   "source": [
    "df_top = df_top.pivot(index='Topic',columns='Gene',values='Proportion')\n",
    "sns.clustermap(df_top.T,cmap='viridis')"
   ]
  },
  {
   "cell_type": "code",
   "execution_count": 66,
   "metadata": {},
   "outputs": [
    {
     "data": {
      "text/plain": [
       "IGLV1-40        1592.409723\n",
       "IGLV3-19         476.841935\n",
       "CH17-224D4.2     303.995813\n",
       "IGKV4-1           57.927442\n",
       "IGHV4-39          55.487613\n",
       "                   ...     \n",
       "IGHG3              2.614812\n",
       "IGLV3-21           2.575745\n",
       "RPS23              2.570900\n",
       "RPL39              2.552428\n",
       "H2AFJ              2.481670\n",
       "Name: 2, Length: 100, dtype: float64"
      ]
     },
     "execution_count": 66,
     "metadata": {},
     "output_type": "execute_result"
    }
   ],
   "source": [
    "df_w.iloc[2,].sort_values(ascending=False).head(25)\n"
   ]
  }
 ],
 "metadata": {
  "kernelspec": {
   "display_name": "Python 3.9.9 ('ssubedi')",
   "language": "python",
   "name": "python3"
  },
  "language_info": {
   "codemirror_mode": {
    "name": "ipython",
    "version": 3
   },
   "file_extension": ".py",
   "mimetype": "text/x-python",
   "name": "python",
   "nbconvert_exporter": "python",
   "pygments_lexer": "ipython3",
   "version": "3.9.9 | packaged by conda-forge | (main, Dec 20 2021, 02:41:03) \n[GCC 9.4.0]"
  },
  "orig_nbformat": 4,
  "vscode": {
   "interpreter": {
    "hash": "456174486433d0df38b6c3d43662f9cf9ff34eb8be065c50f397edd6e06d981c"
   }
  }
 },
 "nbformat": 4,
 "nbformat_minor": 2
}
