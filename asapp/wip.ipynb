{
 "cells": [
  {
   "cell_type": "code",
   "execution_count": 3,
   "metadata": {},
   "outputs": [],
   "source": [
    "import pandas as pd\n",
    "import numpy as np\n",
    "import _dcnpnmf\n",
    "import matplotlib.pylab as plt\n",
    "import seaborn as sns\n"
   ]
  },
  {
   "cell_type": "code",
   "execution_count": 4,
   "metadata": {},
   "outputs": [
    {
     "name": "stdout",
     "output_type": "stream",
     "text": [
      "(10, 100)\n",
      "(1000, 10)\n",
      "(100, 1000)\n",
      "(100, 1000)\n"
     ]
    }
   ],
   "source": [
    "import _sim\n",
    "import importlib\n",
    "importlib.reload(_sim)\n",
    "\n",
    "N=100\n",
    "K=10\n",
    "P=1000\n",
    "\n",
    "H = _sim.generate_H(N, K)\n",
    "W = _sim.generate_W(P, K)\n",
    "R = np.matmul(H.T, W.T) \n",
    "X = np.random.poisson(R)\n",
    "print(H.shape)\n",
    "print(W.shape)\n",
    "print(R.shape)\n",
    "print(X.shape)"
   ]
  },
  {
   "cell_type": "code",
   "execution_count": 5,
   "metadata": {},
   "outputs": [
    {
     "data": {
      "text/plain": [
       "<AxesSubplot:>"
      ]
     },
     "execution_count": 5,
     "metadata": {},
     "output_type": "execute_result"
    },
    {
     "data": {
      "image/png": "[encoded data removed]",
      "text/plain": [
       "<Figure size 432x288 with 2 Axes>"
      ]
     },
     "metadata": {
      "needs_background": "light"
     },
     "output_type": "display_data"
    }
   ],
   "source": [
    "sns.heatmap(W)"
   ]
  },
  {
   "attachments": {},
   "cell_type": "markdown",
   "metadata": {},
   "source": [
    "1. Run degree correction model only"
   ]
  },
  {
   "cell_type": "code",
   "execution_count": 6,
   "metadata": {},
   "outputs": [
    {
     "name": "stdout",
     "output_type": "stream",
     "text": [
      "updating null model....\n",
      "\tAfter ITERATION: 0\tObjective: 908022024.02\tOld objective: -inf\tImprovement: nan\n",
      "\tAfter ITERATION: 1\tObjective: 908022024.02\tOld objective: 908022024.02\tImprovement: 0.00000\n",
      "\n",
      "\n"
     ]
    },
    {
     "name": "stderr",
     "output_type": "stream",
     "text": [
      "/home/BCCRC.CA/ssubedi/projects/experiments/asapp/asapp/_dcnpnmf.py:56: RuntimeWarning: invalid value encountered in double_scalars\n",
      "  improvement = (bound - old_bd) / abs(old_bd)\n"
     ]
    },
    {
     "data": {
      "text/plain": [
       "<_dcnpnmf.DCNPoissonMF at 0x7fcaf9b94d30>"
      ]
     },
     "execution_count": 6,
     "metadata": {},
     "output_type": "execute_result"
    }
   ],
   "source": [
    "\n",
    "model = _dcnpnmf.DCNPoissonMF()\n",
    "model.fit_null(np.asarray(X))\n",
    "\n"
   ]
  },
  {
   "cell_type": "code",
   "execution_count": 11,
   "metadata": {},
   "outputs": [
    {
     "data": {
      "text/plain": [
       "962    245.651438\n",
       "958    219.462741\n",
       "968    202.045138\n",
       "902    183.976754\n",
       "928    173.061525\n",
       "          ...    \n",
       "34       0.005593\n",
       "814      0.004717\n",
       "157      0.003662\n",
       "42       0.003522\n",
       "233      0.001320\n",
       "Name: 9, Length: 1000, dtype: float64"
      ]
     },
     "execution_count": 11,
     "metadata": {},
     "output_type": "execute_result"
    }
   ],
   "source": [
    "pd.DataFrame(W.T).iloc[9,:].sort_values(ascending=False)"
   ]
  },
  {
   "cell_type": "code",
   "execution_count": 10,
   "metadata": {},
   "outputs": [
    {
     "data": {
      "text/plain": [
       "962    0.002295\n",
       "958    0.002023\n",
       "454    0.002005\n",
       "824    0.001973\n",
       "303    0.001935\n",
       "         ...   \n",
       "404    0.000408\n",
       "628    0.000401\n",
       "491    0.000391\n",
       "890    0.000380\n",
       "905    0.000346\n",
       "Name: 0, Length: 1000, dtype: float64"
      ]
     },
     "execution_count": 10,
     "metadata": {},
     "output_type": "execute_result"
    }
   ],
   "source": [
    "pd.DataFrame(model.EF).iloc[0,:].sort_values(ascending=False)"
   ]
  },
  {
   "cell_type": "code",
   "execution_count": 14,
   "metadata": {},
   "outputs": [
    {
     "data": {
      "text/plain": [
       "13    181.506343\n",
       "15    155.500543\n",
       "10    129.595513\n",
       "12    106.145002\n",
       "14     96.785734\n",
       "         ...    \n",
       "1       0.052301\n",
       "37      0.050078\n",
       "93      0.043268\n",
       "74      0.019631\n",
       "75      0.002824\n",
       "Name: 1, Length: 100, dtype: float64"
      ]
     },
     "execution_count": 14,
     "metadata": {},
     "output_type": "execute_result"
    }
   ],
   "source": [
    "pd.DataFrame(H.T).iloc[:,1].sort_values(ascending=False)\n"
   ]
  },
  {
   "cell_type": "code",
   "execution_count": 15,
   "metadata": {},
   "outputs": [
    {
     "data": {
      "text/plain": [
       "72    2.518681e+06\n",
       "34    2.444147e+06\n",
       "13    2.203097e+06\n",
       "85    2.109216e+06\n",
       "67    2.102542e+06\n",
       "          ...     \n",
       "37    8.615580e+05\n",
       "16    7.912740e+05\n",
       "52    7.871930e+05\n",
       "38    6.965480e+05\n",
       "19    6.721210e+05\n",
       "Name: 0, Length: 100, dtype: float64"
      ]
     },
     "execution_count": 15,
     "metadata": {},
     "output_type": "execute_result"
    }
   ],
   "source": [
    "pd.DataFrame(model.ED.T).iloc[0,:].sort_values(ascending=False)"
   ]
  },
  {
   "cell_type": "code",
   "execution_count": null,
   "metadata": {},
   "outputs": [],
   "source": []
  }
 ],
 "metadata": {
  "kernelspec": {
   "display_name": "Python 3.9.9 ('ssubedi')",
   "language": "python",
   "name": "python3"
  },
  "language_info": {
   "codemirror_mode": {
    "name": "ipython",
    "version": 3
   },
   "file_extension": ".py",
   "mimetype": "text/x-python",
   "name": "python",
   "nbconvert_exporter": "python",
   "pygments_lexer": "ipython3",
   "version": "3.9.9"
  },
  "orig_nbformat": 4,
  "vscode": {
   "interpreter": {
    "hash": "456174486433d0df38b6c3d43662f9cf9ff34eb8be065c50f397edd6e06d981c"
   }
  }
 },
 "nbformat": 4,
 "nbformat_minor": 2
}
