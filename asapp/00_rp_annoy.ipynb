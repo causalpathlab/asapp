{
 "cells": [
  {
   "cell_type": "markdown",
   "metadata": {},
   "source": [
    "Aim: Run random projection on pbmc dataset and test collapsing cells using annoy.\n",
    "\n"
   ]
  },
  {
   "cell_type": "code",
   "execution_count": 1,
   "metadata": {},
   "outputs": [],
   "source": [
    "from util._io import read_config\n",
    "from collections import namedtuple\n",
    "from pathlib import Path\n",
    "import pandas as pd\n",
    "import numpy as np\n",
    "import fastsca\n",
    "import logging"
   ]
  },
  {
   "cell_type": "code",
   "execution_count": 2,
   "metadata": {},
   "outputs": [],
   "source": [
    "experiment = '/projects/experiments/fastsca/'\n",
    "# experiment = sys.argv[1]\n",
    "\n",
    "server = Path.home().as_posix()\n",
    "experiment_home = server+experiment\n",
    "experiment_config = read_config(experiment_home+'config.yaml')\n",
    "args = namedtuple('Struct',experiment_config.keys())(*experiment_config.values())"
   ]
  },
  {
   "cell_type": "markdown",
   "metadata": {},
   "source": [
    "Create an object to read data (scipy csr format)."
   ]
  },
  {
   "cell_type": "code",
   "execution_count": 3,
   "metadata": {},
   "outputs": [],
   "source": [
    "sca = fastsca.FASTSCA()\n",
    "sca.config = args\n",
    "sca.initdata()\n",
    "sca.loaddata()"
   ]
  },
  {
   "cell_type": "markdown",
   "metadata": {},
   "source": [
    "## Random Projection\n",
    "\n",
    "Johnson-Lindenstrauss Lemma-\n",
    "The distance between two points in a high-dimension data is approximately preserved when projected onto a randomly selected subspace of suitable dimension.\n",
    "\n",
    "$$X_{k \\times N}^{RP} =  R_{k \\times d} X_{d \\times N}$$\n",
    "\n",
    "Complexity : RP vs PCA\n",
    "$$O(kdN)$$\n",
    "$$O(d^{2}N + d^{3}+ kdN)$$\n",
    "\n",
    "Non orthogonal transformation can significantly distort data.\n",
    "\n",
    "R is generally not orthogonal and computation to orthogonalize R is expensive.\n",
    "\n",
    "Hecht-Nielsen study - \n",
    "In a high-dimensional space, there exists a much larger number of almost orthogonal than orthogonal directions. Vectors having random directions might be sufficiently close to orthogonal.\n",
    "\n",
    "$$R^{T}R \\sim I$$\n",
    "\n",
    "How to calculate number of reduced dimension:\n",
    "$$k>ln(N)/ \\epsilon^{2}$$\n",
    "\n",
    "Gaussian random projection: $N(0,1/k)$\n",
    "\n"
   ]
  },
  {
   "cell_type": "code",
   "execution_count": 4,
   "metadata": {},
   "outputs": [
    {
     "name": "stdout",
     "output_type": "stream",
     "text": [
      "(2700, 13745)\n",
      "(2700, 6772)\n"
     ]
    }
   ],
   "source": [
    "from sklearn import random_projection\n",
    "from sklearn.preprocessing import StandardScaler\n",
    "\n",
    "print(sca.data.mtx.shape)\n",
    "transformer = random_projection.GaussianRandomProjection(eps=0.1)\n",
    "x_r_n = transformer.fit_transform(np.asarray(sca.data.mtx))\n",
    "print(x_r_n.shape)\n",
    "\n",
    "# scaling data to zero mean and unit variance\n",
    "scaler = StandardScaler()\n",
    "x_r_n = scaler.fit_transform(x_r_n)"
   ]
  },
  {
   "cell_type": "code",
   "execution_count": 5,
   "metadata": {},
   "outputs": [],
   "source": [
    "fpath = sca.config.home + sca.config.experiment +sca.config.output + sca.config.sample_id+'/'+sca.config.sample_id"
   ]
  },
  {
   "cell_type": "markdown",
   "metadata": {},
   "source": [
    "## Collapsing cells into groups using greedy algorithm-\n",
    "\n",
    "We want to obtain entire hyperplane bounded region of a query point in the annoy forest as our collapsing region.\n",
    "\n",
    "1. First, we get any random cell and query its neighbors. This set will be the first collapsed entry in a dictionary. We will mark all the point in this region as \"occupied\" points.\n",
    "\n",
    "2. Shuffle and pick next point and its neighbors. \n",
    "    If all neighbors ( size equal to the user input neighbor size) are not \"occupied\" then mark this as new collapsing space in a dictionary.\n",
    "\tIf any neighbor in this list are previously occupied then find the farthest neighbor and assign this entire list to its respective space.\n",
    "\n",
    "\n",
    "\n",
    "https://www.microsoft.com/en-us/research/publication/how-to-partition-a-billion-node-graph/\n"
   ]
  },
  {
   "cell_type": "code",
   "execution_count": 8,
   "metadata": {},
   "outputs": [
    {
     "name": "stdout",
     "output_type": "stream",
     "text": [
      "collapsing... 5\n",
      "collapsing... 1001\n",
      "collapsing... 2001\n"
     ]
    }
   ],
   "source": [
    "import _neighbour\n",
    "\n",
    "# nbrsize=int(x_r_n.shape[0]*0.1)\n",
    "nbrsize= 5\n",
    "sample_ratio = 1\n",
    "collapsed_dict, cells_used = _neighbour.get_collapsed_neighbors_greedy(x_r_n,sca.data.rows,nbrsize,sample_ratio)\n"
   ]
  },
  {
   "cell_type": "code",
   "execution_count": 9,
   "metadata": {},
   "outputs": [
    {
     "name": "stdout",
     "output_type": "stream",
     "text": [
      "72\n",
      "1652 108\n",
      "1191 64\n",
      "1796 61\n",
      "1202 262\n",
      "2250 20\n",
      "2602 21\n",
      "554 53\n",
      "146 179\n",
      "909 18\n",
      "1519 28\n",
      "2580 56\n",
      "2465 12\n",
      "2433 44\n",
      "864 49\n",
      "224 29\n",
      "410 107\n",
      "2023 26\n",
      "2068 46\n",
      "450 18\n",
      "1138 20\n",
      "1024 27\n",
      "1195 248\n",
      "891 5\n",
      "1942 132\n",
      "1307 56\n",
      "2506 56\n",
      "2417 9\n",
      "1949 24\n",
      "44 36\n",
      "1854 7\n",
      "849 33\n",
      "1391 9\n",
      "2688 38\n",
      "1326 46\n",
      "1266 27\n",
      "2535 8\n",
      "2224 16\n",
      "2251 50\n",
      "586 19\n",
      "1500 25\n",
      "793 66\n",
      "643 13\n",
      "1240 21\n",
      "1983 28\n",
      "1331 29\n",
      "1761 14\n",
      "652 41\n",
      "1131 20\n",
      "630 10\n",
      "1987 38\n",
      "1235 22\n",
      "2666 15\n",
      "648 13\n",
      "788 44\n",
      "2542 19\n",
      "2668 19\n",
      "255 11\n",
      "1220 11\n",
      "61 32\n",
      "2369 5\n",
      "32 10\n",
      "1774 8\n",
      "480 35\n",
      "659 6\n",
      "1628 14\n",
      "1743 21\n",
      "2495 15\n",
      "413 5\n",
      "380 6\n",
      "215 5\n",
      "2444 5\n",
      "449 7\n"
     ]
    }
   ],
   "source": [
    "print(len(collapsed_dict))\n",
    "\n",
    "for k in collapsed_dict.keys():\n",
    "    print(k,len(collapsed_dict[k]))\n"
   ]
  },
  {
   "cell_type": "code",
   "execution_count": 10,
   "metadata": {},
   "outputs": [],
   "source": [
    "import gzip\n",
    "with gzip.open(fpath+\"_rp_bulk_dict.txt.gz\", 'wt') as f: \n",
    "    for key, value in collapsed_dict.items(): \n",
    "        f.write('%s:%s\\n' % (key, value))"
   ]
  },
  {
   "cell_type": "code",
   "execution_count": 15,
   "metadata": {},
   "outputs": [
    {
     "data": {
      "text/plain": [
       "<module '_neighbour' from '/home/BCCRC.CA/ssubedi/projects/experiments/fastsca/fastsca/_neighbour.py'>"
      ]
     },
     "execution_count": 15,
     "metadata": {},
     "output_type": "execute_result"
    }
   ],
   "source": [
    "import importlib\n",
    "importlib.reload(_neighbour)"
   ]
  },
  {
   "cell_type": "code",
   "execution_count": 11,
   "metadata": {},
   "outputs": [
    {
     "name": "stdout",
     "output_type": "stream",
     "text": [
      "1 515\n",
      "3 341\n",
      "5 192\n",
      "6 163\n",
      "0 638\n",
      "4 295\n",
      "2 445\n",
      "7 36\n",
      "8 13\n"
     ]
    }
   ],
   "source": [
    "fpath = sca.config.home + sca.config.experiment +sca.config.output + sca.config.sample_id+'/'+sca.config.sample_id\n",
    "\n",
    "dfp = pd.read_csv(fpath+'_prior_label.csv.gz')\n",
    "\n",
    "\n",
    "dp = {}\n",
    "for idx,row in dfp.iterrows():\n",
    "    if row[1] in dp:\n",
    "        dp[row[1]].append(row[0])\n",
    "    else:\n",
    "        dp[row[1]] = [row[0]]\n",
    "        \n",
    "for k in dp.keys():print(k,len(dp[k]))\n"
   ]
  },
  {
   "cell_type": "code",
   "execution_count": 12,
   "metadata": {},
   "outputs": [],
   "source": [
    "rp_count = []\n",
    "for chk_indx in collapsed_dict.keys(): \n",
    "    cells = pd.DataFrame(sca.data.rows).iloc[collapsed_dict[chk_indx]].values.flatten()\n",
    "    prior_count = []\n",
    "    for k in dp.keys():\n",
    "        count = 0\n",
    "        for c in cells:\n",
    "            if c in dp[k]: count += 1\n",
    "        prior_count.append(count)\n",
    "    rp_count.append(prior_count)\n",
    "\n",
    "df_res = pd.DataFrame(rp_count)\n",
    "df_res.columns = dp.keys()\n",
    "df_res.index = collapsed_dict.keys()    "
   ]
  },
  {
   "cell_type": "code",
   "execution_count": 13,
   "metadata": {},
   "outputs": [
    {
     "name": "stdout",
     "output_type": "stream",
     "text": [
      "        1   3  5   6    0   4  2  7  8\n",
      "1652   14  13  0  11   31  27  1  0  0\n",
      "1191   22   0  0   0   41   1  0  0  0\n",
      "1796   24   5  0   1   18  13  0  0  0\n",
      "1202  101  19  0   2  109  24  0  6  0\n",
      "2250   12   0  0   0    4   4  0  0  0\n",
      "...   ...  .. ..  ..  ...  .. .. .. ..\n",
      "413     3   1  0   0    1   0  0  0  0\n",
      "380     0   0  0   0    0   0  0  6  0\n",
      "215     0   0  0   0    1   4  0  0  0\n",
      "2444    4   0  0   0    1   0  0  0  0\n",
      "449     3   2  0   0    1   0  0  0  0\n",
      "\n",
      "[72 rows x 9 columns]\n"
     ]
    }
   ],
   "source": [
    "print(df_res)\n",
    "df_res = df_res.div(df_res.sum(axis=1), axis=0)"
   ]
  },
  {
   "cell_type": "code",
   "execution_count": 14,
   "metadata": {},
   "outputs": [
    {
     "data": {
      "text/plain": [
       "<seaborn.matrix.ClusterGrid at 0x7f5f9f7a37c0>"
      ]
     },
     "execution_count": 14,
     "metadata": {},
     "output_type": "execute_result"
    },
    {
     "data": {
      "image/png": "[encoded data removed]",
      "text/plain": [
       "<Figure size 720x720 with 4 Axes>"
      ]
     },
     "metadata": {
      "needs_background": "light"
     },
     "output_type": "display_data"
    }
   ],
   "source": [
    "import matplotlib.pylab as plt\n",
    "import seaborn as sns\n",
    "\n",
    "sns.clustermap(df_res,cmap=sns.color_palette('viridis'))"
   ]
  },
  {
   "cell_type": "code",
   "execution_count": 15,
   "metadata": {},
   "outputs": [],
   "source": [
    "# read collapsed dictionary and construct collapsed expression matrix\n",
    "\n",
    "bulk = {}\n",
    "for key, value in collapsed_dict.items(): \n",
    "    bulk[key] = np.asarray(sca.data.mtx[value].mean(0))[0]\n",
    "\n",
    "pd.DataFrame.from_dict(bulk,orient='index').reset_index().to_csv(fpath+\"_rp_bulk.csv.gz\",compression='gzip',index=False)"
   ]
  },
  {
   "cell_type": "code",
   "execution_count": null,
   "metadata": {},
   "outputs": [],
   "source": [
    "df = pd.read_csv(fpath+\"_rp_bulk.csv.gz\")"
   ]
  },
  {
   "cell_type": "code",
   "execution_count": null,
   "metadata": {},
   "outputs": [],
   "source": [
    "df.shape"
   ]
  }
 ],
 "metadata": {
  "kernelspec": {
   "display_name": "Python 3.9.9 ('ssubedi')",
   "language": "python",
   "name": "python3"
  },
  "language_info": {
   "codemirror_mode": {
    "name": "ipython",
    "version": 3
   },
   "file_extension": ".py",
   "mimetype": "text/x-python",
   "name": "python",
   "nbconvert_exporter": "python",
   "pygments_lexer": "ipython3",
   "version": "3.9.9"
  },
  "orig_nbformat": 4,
  "vscode": {
   "interpreter": {
    "hash": "456174486433d0df38b6c3d43662f9cf9ff34eb8be065c50f397edd6e06d981c"
   }
  }
 },
 "nbformat": 4,
 "nbformat_minor": 2
}
