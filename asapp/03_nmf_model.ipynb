{
 "cells": [
  {
   "cell_type": "markdown",
   "metadata": {},
   "source": [
    "Aim: poisson decomposition of bulk data.\n"
   ]
  },
  {
   "cell_type": "code",
   "execution_count": 1,
   "metadata": {},
   "outputs": [],
   "source": [
    "from util._io import read_config\n",
    "from collections import namedtuple\n",
    "from pathlib import Path\n",
    "import pandas as pd\n",
    "import numpy as np\n",
    "import fastsca\n",
    "import logging"
   ]
  },
  {
   "cell_type": "code",
   "execution_count": 2,
   "metadata": {},
   "outputs": [
    {
     "data": {
      "text/plain": [
       "(155913, 20265)"
      ]
     },
     "execution_count": 2,
     "metadata": {},
     "output_type": "execute_result"
    }
   ],
   "source": [
    "experiment = '/projects/experiments/fastsca/'\n",
    "server = Path.home().as_posix()\n",
    "experiment_home = server+experiment\n",
    "experiment_config = read_config(experiment_home+'config.yaml')\n",
    "args = namedtuple('Struct',experiment_config.keys())(*experiment_config.values())\n",
    "\n",
    "sca = fastsca.FASTSCA()\n",
    "sca.config = args\n",
    "sca.initdata()\n",
    "sca.loaddata()\n",
    "sca.data.mtx.shape"
   ]
  },
  {
   "cell_type": "code",
   "execution_count": 3,
   "metadata": {},
   "outputs": [
    {
     "data": {
      "text/plain": [
       "(3257, 20265)"
      ]
     },
     "execution_count": 3,
     "metadata": {},
     "output_type": "execute_result"
    }
   ],
   "source": [
    "fpath = sca.config.home + sca.config.experiment +sca.config.output + sca.config.sample_id+'/'+sca.config.sample_id\n",
    "df = pd.read_csv(fpath+\"_rp_bulk.csv.gz\")\n",
    "df.shape"
   ]
  },
  {
   "cell_type": "code",
   "execution_count": 4,
   "metadata": {},
   "outputs": [
    {
     "data": {
      "text/plain": [
       "<module '_pmf' from '/home/BCCRC.CA/ssubedi/projects/experiments/fastsca/fastsca/_pmf.py'>"
      ]
     },
     "execution_count": 4,
     "metadata": {},
     "output_type": "execute_result"
    }
   ],
   "source": [
    "import _pmf\n",
    "import importlib\n",
    "importlib.reload(_pmf)"
   ]
  },
  {
   "cell_type": "code",
   "execution_count": 5,
   "metadata": {},
   "outputs": [
    {
     "name": "stderr",
     "output_type": "stream",
     "text": [
      "/home/BCCRC.CA/ssubedi/projects/experiments/fastsca/fastsca/_pmf.py:127: RuntimeWarning: invalid value encountered in double_scalars\n",
      "  improvement = (bound - old_bd) / abs(old_bd)\n"
     ]
    },
    {
     "name": "stdout",
     "output_type": "stream",
     "text": [
      "\tAfter ITERATION: 0\tObjective: 5095681100.47\tOld objective: -inf\tImprovement: nan\n",
      "\tAfter ITERATION: 1\tObjective: 5096956637.44\tOld objective: 5095681100.47\tImprovement: 0.00025\n",
      "\tAfter ITERATION: 2\tObjective: 5101019412.79\tOld objective: 5096956637.44\tImprovement: 0.00080\n",
      "\tAfter ITERATION: 3\tObjective: 5110581428.53\tOld objective: 5101019412.79\tImprovement: 0.00187\n",
      "\tAfter ITERATION: 4\tObjective: 5124926213.34\tOld objective: 5110581428.53\tImprovement: 0.00281\n",
      "\tAfter ITERATION: 5\tObjective: 5139244829.73\tOld objective: 5124926213.34\tImprovement: 0.00279\n",
      "\tAfter ITERATION: 6\tObjective: 5149904066.53\tOld objective: 5139244829.73\tImprovement: 0.00207\n",
      "\tAfter ITERATION: 7\tObjective: 5158668631.25\tOld objective: 5149904066.53\tImprovement: 0.00170\n",
      "\tAfter ITERATION: 8\tObjective: 5168522536.18\tOld objective: 5158668631.25\tImprovement: 0.00191\n",
      "\tAfter ITERATION: 9\tObjective: 5181909545.14\tOld objective: 5168522536.18\tImprovement: 0.00259\n",
      "\tAfter ITERATION: 10\tObjective: 5200351092.73\tOld objective: 5181909545.14\tImprovement: 0.00356\n",
      "\tAfter ITERATION: 11\tObjective: 5223433729.43\tOld objective: 5200351092.73\tImprovement: 0.00444\n",
      "\tAfter ITERATION: 12\tObjective: 5248620991.18\tOld objective: 5223433729.43\tImprovement: 0.00482\n",
      "\tAfter ITERATION: 13\tObjective: 5272999909.97\tOld objective: 5248620991.18\tImprovement: 0.00464\n",
      "\tAfter ITERATION: 14\tObjective: 5295166911.73\tOld objective: 5272999909.97\tImprovement: 0.00420\n",
      "\tAfter ITERATION: 15\tObjective: 5314138359.78\tOld objective: 5295166911.73\tImprovement: 0.00358\n",
      "\tAfter ITERATION: 16\tObjective: 5328976368.10\tOld objective: 5314138359.78\tImprovement: 0.00279\n",
      "\tAfter ITERATION: 17\tObjective: 5340660337.15\tOld objective: 5328976368.10\tImprovement: 0.00219\n",
      "\tAfter ITERATION: 18\tObjective: 5349940761.19\tOld objective: 5340660337.15\tImprovement: 0.00174\n",
      "\tAfter ITERATION: 19\tObjective: 5357607154.67\tOld objective: 5349940761.19\tImprovement: 0.00143\n",
      "\tAfter ITERATION: 20\tObjective: 5364074519.85\tOld objective: 5357607154.67\tImprovement: 0.00121\n",
      "\tAfter ITERATION: 21\tObjective: 5369495840.36\tOld objective: 5364074519.85\tImprovement: 0.00101\n",
      "\tAfter ITERATION: 22\tObjective: 5374169191.87\tOld objective: 5369495840.36\tImprovement: 0.00087\n",
      "\tAfter ITERATION: 23\tObjective: 5378302435.84\tOld objective: 5374169191.87\tImprovement: 0.00077\n",
      "\tAfter ITERATION: 24\tObjective: 5381996401.81\tOld objective: 5378302435.84\tImprovement: 0.00069\n",
      "\tAfter ITERATION: 25\tObjective: 5385335358.33\tOld objective: 5381996401.81\tImprovement: 0.00062\n",
      "\tAfter ITERATION: 26\tObjective: 5388525306.90\tOld objective: 5385335358.33\tImprovement: 0.00059\n",
      "\tAfter ITERATION: 27\tObjective: 5391746094.36\tOld objective: 5388525306.90\tImprovement: 0.00060\n",
      "\tAfter ITERATION: 28\tObjective: 5394759785.88\tOld objective: 5391746094.36\tImprovement: 0.00056\n",
      "\tAfter ITERATION: 29\tObjective: 5397149206.92\tOld objective: 5394759785.88\tImprovement: 0.00044\n",
      "\tAfter ITERATION: 30\tObjective: 5399031395.38\tOld objective: 5397149206.92\tImprovement: 0.00035\n",
      "\tAfter ITERATION: 31\tObjective: 5400661180.33\tOld objective: 5399031395.38\tImprovement: 0.00030\n",
      "\tAfter ITERATION: 32\tObjective: 5402118051.35\tOld objective: 5400661180.33\tImprovement: 0.00027\n",
      "\tAfter ITERATION: 33\tObjective: 5403404100.13\tOld objective: 5402118051.35\tImprovement: 0.00024\n",
      "\tAfter ITERATION: 34\tObjective: 5404495674.77\tOld objective: 5403404100.13\tImprovement: 0.00020\n",
      "\tAfter ITERATION: 35\tObjective: 5405434103.20\tOld objective: 5404495674.77\tImprovement: 0.00017\n",
      "\tAfter ITERATION: 36\tObjective: 5406328507.51\tOld objective: 5405434103.20\tImprovement: 0.00017\n",
      "\tAfter ITERATION: 37\tObjective: 5407275826.39\tOld objective: 5406328507.51\tImprovement: 0.00018\n",
      "\tAfter ITERATION: 38\tObjective: 5408320798.95\tOld objective: 5407275826.39\tImprovement: 0.00019\n",
      "\tAfter ITERATION: 39\tObjective: 5409263772.36\tOld objective: 5408320798.95\tImprovement: 0.00017\n",
      "\tAfter ITERATION: 40\tObjective: 5410028160.43\tOld objective: 5409263772.36\tImprovement: 0.00014\n",
      "\tAfter ITERATION: 41\tObjective: 5410615935.84\tOld objective: 5410028160.43\tImprovement: 0.00011\n",
      "\tAfter ITERATION: 42\tObjective: 5411053182.74\tOld objective: 5410615935.84\tImprovement: 0.00008\n",
      "\tAfter ITERATION: 43\tObjective: 5411425220.75\tOld objective: 5411053182.74\tImprovement: 0.00007\n",
      "\tAfter ITERATION: 44\tObjective: 5411780066.86\tOld objective: 5411425220.75\tImprovement: 0.00007\n",
      "\tAfter ITERATION: 45\tObjective: 5412199490.18\tOld objective: 5411780066.86\tImprovement: 0.00008\n",
      "\tAfter ITERATION: 46\tObjective: 5412850809.55\tOld objective: 5412199490.18\tImprovement: 0.00012\n",
      "\tAfter ITERATION: 47\tObjective: 5413496922.24\tOld objective: 5412850809.55\tImprovement: 0.00012\n",
      "\tAfter ITERATION: 48\tObjective: 5413842074.67\tOld objective: 5413496922.24\tImprovement: 0.00006\n",
      "\tAfter ITERATION: 49\tObjective: 5414067692.59\tOld objective: 5413842074.67\tImprovement: 0.00004\n",
      "\tAfter ITERATION: 50\tObjective: 5414267707.78\tOld objective: 5414067692.59\tImprovement: 0.00004\n",
      "\tAfter ITERATION: 51\tObjective: 5414448916.35\tOld objective: 5414267707.78\tImprovement: 0.00003\n",
      "\tAfter ITERATION: 52\tObjective: 5414608105.06\tOld objective: 5414448916.35\tImprovement: 0.00003\n",
      "\tAfter ITERATION: 53\tObjective: 5414758810.54\tOld objective: 5414608105.06\tImprovement: 0.00003\n",
      "\tAfter ITERATION: 54\tObjective: 5414904202.20\tOld objective: 5414758810.54\tImprovement: 0.00003\n",
      "\tAfter ITERATION: 55\tObjective: 5415045937.22\tOld objective: 5414904202.20\tImprovement: 0.00003\n",
      "\tAfter ITERATION: 56\tObjective: 5415184125.36\tOld objective: 5415045937.22\tImprovement: 0.00003\n",
      "\tAfter ITERATION: 57\tObjective: 5415317541.64\tOld objective: 5415184125.36\tImprovement: 0.00002\n",
      "\tAfter ITERATION: 58\tObjective: 5415445784.22\tOld objective: 5415317541.64\tImprovement: 0.00002\n",
      "\tAfter ITERATION: 59\tObjective: 5415567654.03\tOld objective: 5415445784.22\tImprovement: 0.00002\n",
      "\tAfter ITERATION: 60\tObjective: 5415681918.32\tOld objective: 5415567654.03\tImprovement: 0.00002\n",
      "\tAfter ITERATION: 61\tObjective: 5415789504.88\tOld objective: 5415681918.32\tImprovement: 0.00002\n",
      "\tAfter ITERATION: 62\tObjective: 5415892322.37\tOld objective: 5415789504.88\tImprovement: 0.00002\n",
      "\tAfter ITERATION: 63\tObjective: 5415992001.20\tOld objective: 5415892322.37\tImprovement: 0.00002\n",
      "\tAfter ITERATION: 64\tObjective: 5416100140.99\tOld objective: 5415992001.20\tImprovement: 0.00002\n",
      "\tAfter ITERATION: 65\tObjective: 5416217652.52\tOld objective: 5416100140.99\tImprovement: 0.00002\n",
      "\tAfter ITERATION: 66\tObjective: 5416317294.41\tOld objective: 5416217652.52\tImprovement: 0.00002\n",
      "\tAfter ITERATION: 67\tObjective: 5416417347.82\tOld objective: 5416317294.41\tImprovement: 0.00002\n",
      "\tAfter ITERATION: 68\tObjective: 5416519982.52\tOld objective: 5416417347.82\tImprovement: 0.00002\n",
      "\tAfter ITERATION: 69\tObjective: 5416626461.90\tOld objective: 5416519982.52\tImprovement: 0.00002\n",
      "\tAfter ITERATION: 70\tObjective: 5416737669.68\tOld objective: 5416626461.90\tImprovement: 0.00002\n",
      "\tAfter ITERATION: 71\tObjective: 5416854193.67\tOld objective: 5416737669.68\tImprovement: 0.00002\n",
      "\tAfter ITERATION: 72\tObjective: 5416976603.72\tOld objective: 5416854193.67\tImprovement: 0.00002\n",
      "\tAfter ITERATION: 73\tObjective: 5417105521.24\tOld objective: 5416976603.72\tImprovement: 0.00002\n",
      "\tAfter ITERATION: 74\tObjective: 5417241876.96\tOld objective: 5417105521.24\tImprovement: 0.00003\n",
      "\tAfter ITERATION: 75\tObjective: 5417387283.48\tOld objective: 5417241876.96\tImprovement: 0.00003\n",
      "\tAfter ITERATION: 76\tObjective: 5417547922.41\tOld objective: 5417387283.48\tImprovement: 0.00003\n",
      "\tAfter ITERATION: 77\tObjective: 5417742267.77\tOld objective: 5417547922.41\tImprovement: 0.00004\n",
      "\tAfter ITERATION: 78\tObjective: 5417950503.37\tOld objective: 5417742267.77\tImprovement: 0.00004\n",
      "\tAfter ITERATION: 79\tObjective: 5418150177.19\tOld objective: 5417950503.37\tImprovement: 0.00004\n",
      "\tAfter ITERATION: 80\tObjective: 5418350346.09\tOld objective: 5418150177.19\tImprovement: 0.00004\n",
      "\tAfter ITERATION: 81\tObjective: 5418548611.28\tOld objective: 5418350346.09\tImprovement: 0.00004\n",
      "\tAfter ITERATION: 82\tObjective: 5418755272.71\tOld objective: 5418548611.28\tImprovement: 0.00004\n",
      "\tAfter ITERATION: 83\tObjective: 5418963950.73\tOld objective: 5418755272.71\tImprovement: 0.00004\n",
      "\tAfter ITERATION: 84\tObjective: 5419150354.22\tOld objective: 5418963950.73\tImprovement: 0.00003\n",
      "\tAfter ITERATION: 85\tObjective: 5419288782.46\tOld objective: 5419150354.22\tImprovement: 0.00003\n",
      "\tAfter ITERATION: 86\tObjective: 5419378806.32\tOld objective: 5419288782.46\tImprovement: 0.00002\n",
      "\tAfter ITERATION: 87\tObjective: 5419438576.31\tOld objective: 5419378806.32\tImprovement: 0.00001\n",
      "\tAfter ITERATION: 88\tObjective: 5419483757.66\tOld objective: 5419438576.31\tImprovement: 0.00001\n",
      "\tAfter ITERATION: 89\tObjective: 5419522117.51\tOld objective: 5419483757.66\tImprovement: 0.00001\n",
      "\tAfter ITERATION: 90\tObjective: 5419556739.59\tOld objective: 5419522117.51\tImprovement: 0.00001\n",
      "\tAfter ITERATION: 91\tObjective: 5419588852.50\tOld objective: 5419556739.59\tImprovement: 0.00001\n",
      "\tAfter ITERATION: 92\tObjective: 5419618960.29\tOld objective: 5419588852.50\tImprovement: 0.00001\n",
      "\tAfter ITERATION: 93\tObjective: 5419647394.05\tOld objective: 5419618960.29\tImprovement: 0.00001\n",
      "\tAfter ITERATION: 94\tObjective: 5419674364.65\tOld objective: 5419647394.05\tImprovement: 0.00000\n",
      "\tAfter ITERATION: 95\tObjective: 5419700040.91\tOld objective: 5419674364.65\tImprovement: 0.00000\n",
      "\tAfter ITERATION: 96\tObjective: 5419724526.64\tOld objective: 5419700040.91\tImprovement: 0.00000\n",
      "\tAfter ITERATION: 97\tObjective: 5419747916.23\tOld objective: 5419724526.64\tImprovement: 0.00000\n",
      "\tAfter ITERATION: 98\tObjective: 5419770331.11\tOld objective: 5419747916.23\tImprovement: 0.00000\n",
      "\tAfter ITERATION: 99\tObjective: 5419791901.39\tOld objective: 5419770331.11\tImprovement: 0.00000\n",
      "\n",
      "\n"
     ]
    },
    {
     "data": {
      "text/plain": [
       "<_pmf.PoissonMF at 0x7fa1e90052e0>"
      ]
     },
     "execution_count": 5,
     "metadata": {},
     "output_type": "execute_result"
    }
   ],
   "source": [
    "m = _pmf.PoissonMF(n_components=10)\n",
    "m.fit(df.to_numpy())"
   ]
  },
  {
   "cell_type": "code",
   "execution_count": 6,
   "metadata": {},
   "outputs": [],
   "source": [
    "H = m.gamma_b\n",
    "W = m.gamma_t"
   ]
  },
  {
   "cell_type": "code",
   "execution_count": 7,
   "metadata": {},
   "outputs": [
    {
     "data": {
      "text/plain": [
       "array([ 6502448.09983273,  4219866.72908989,  2441769.90904154,\n",
       "        1916742.38201514,  1159795.28892259,  8758106.12703174,\n",
       "        1213081.09970317,  6053524.38707936, 16158707.36061627,\n",
       "        4946175.12571346])"
      ]
     },
     "execution_count": 7,
     "metadata": {},
     "output_type": "execute_result"
    }
   ],
   "source": [
    "H.max(1)"
   ]
  },
  {
   "cell_type": "code",
   "execution_count": 52,
   "metadata": {},
   "outputs": [
    {
     "name": "stderr",
     "output_type": "stream",
     "text": [
      "/home/BCCRC.CA/ssubedi/.conda/envs/ssubedi/lib/python3.9/site-packages/sklearn/decomposition/_nmf.py:1637: ConvergenceWarning: Maximum number of iterations 200 reached. Increase it to improve convergence.\n",
      "  warnings.warn(\n"
     ]
    }
   ],
   "source": [
    "from sklearn.decomposition import NMF\n",
    "model = NMF(n_components=10, init='random', random_state=0)\n",
    "W = model.fit_transform(df.to_numpy())\n",
    "H = model.components_\n"
   ]
  },
  {
   "cell_type": "code",
   "execution_count": null,
   "metadata": {},
   "outputs": [],
   "source": [
    "import _topics_util as tpu \n",
    "\n",
    "dfh = pd.DataFrame(H)\n",
    "\n",
    "dfh.columns = sca.data.cols\n",
    "df_top = tpu.get_topic_top_genes(dfh,10)\n",
    "\n",
    "df_top = df_top.pivot(index='Topic',columns='Gene',values='Proportion')"
   ]
  },
  {
   "cell_type": "code",
   "execution_count": 12,
   "metadata": {},
   "outputs": [
    {
     "data": {
      "text/plain": [
       "<seaborn.matrix.ClusterGrid at 0x7f3214e3a9a0>"
      ]
     },
     "execution_count": 12,
     "metadata": {},
     "output_type": "execute_result"
    },
    {
     "data": {
      "image/png": "[encoded data removed]",
      "text/plain": [
       "<Figure size 720x720 with 4 Axes>"
      ]
     },
     "metadata": {
      "needs_background": "light"
     },
     "output_type": "display_data"
    }
   ],
   "source": [
    "#pbmc\n",
    "import matplotlib.pylab as plt\n",
    "import seaborn as sns\n",
    "sns.clustermap(df_top.T,cmap='viridis')"
   ]
  },
  {
   "cell_type": "code",
   "execution_count": 9,
   "metadata": {},
   "outputs": [
    {
     "data": {
      "text/plain": [
       "<seaborn.matrix.ClusterGrid at 0x7fa1ef2445b0>"
      ]
     },
     "execution_count": 9,
     "metadata": {},
     "output_type": "execute_result"
    },
    {
     "data": {
      "image/png": "[encoded data removed]",
      "text/plain": [
       "<Figure size 720x720 with 4 Axes>"
      ]
     },
     "metadata": {
      "needs_background": "light"
     },
     "output_type": "display_data"
    }
   ],
   "source": [
    "#tnbc \n",
    "import matplotlib.pylab as plt\n",
    "import seaborn as sns\n",
    "sns.clustermap(df_top.T,cmap='viridis')"
   ]
  },
  {
   "cell_type": "code",
   "execution_count": 10,
   "metadata": {},
   "outputs": [],
   "source": [
    "df_theta = pd.DataFrame(W)\n",
    "df_theta['celltopic'] = [x for x in df_theta.iloc[:,1:].idxmax(axis=1)]\n",
    "df_theta = df_theta[['celltopic']]"
   ]
  },
  {
   "cell_type": "code",
   "execution_count": 11,
   "metadata": {},
   "outputs": [],
   "source": [
    "fpath = sca.config.home + sca.config.experiment +sca.config.output + sca.config.sample_id+'/'+sca.config.sample_id\n",
    "df_index = pd.read_csv(fpath+\"_rp_bulk_index.csv.gz\")\n"
   ]
  },
  {
   "cell_type": "code",
   "execution_count": 12,
   "metadata": {},
   "outputs": [],
   "source": [
    "cell_topic_assignment = []\n",
    "for indx,row in df_index.iterrows():\n",
    "    for i in row[pd.Series(row).notna()].values:\n",
    "        cell_topic_assignment.append([int(i),df_theta.loc[indx,'celltopic']])"
   ]
  },
  {
   "cell_type": "code",
   "execution_count": 13,
   "metadata": {},
   "outputs": [],
   "source": [
    "df_pmf = pd.DataFrame(cell_topic_assignment,columns=['cell_index','topic'])\n",
    "df_pmf = df_pmf.sort_values('cell_index')\n",
    "df_pmf['index'] = sca.data.rows\n"
   ]
  },
  {
   "cell_type": "code",
   "execution_count": 14,
   "metadata": {},
   "outputs": [
    {
     "data": {
      "text/html": [
       "<div>\n",
       "<style scoped>\n",
       "    .dataframe tbody tr th:only-of-type {\n",
       "        vertical-align: middle;\n",
       "    }\n",
       "\n",
       "    .dataframe tbody tr th {\n",
       "        vertical-align: top;\n",
       "    }\n",
       "\n",
       "    .dataframe thead th {\n",
       "        text-align: right;\n",
       "    }\n",
       "</style>\n",
       "<table border=\"1\" class=\"dataframe\">\n",
       "  <thead>\n",
       "    <tr style=\"text-align: right;\">\n",
       "      <th></th>\n",
       "      <th>cell_index</th>\n",
       "      <th>topic</th>\n",
       "      <th>index</th>\n",
       "    </tr>\n",
       "  </thead>\n",
       "  <tbody>\n",
       "    <tr>\n",
       "      <th>107280</th>\n",
       "      <td>0</td>\n",
       "      <td>9</td>\n",
       "      <td>CID3586_AAGACCTCAGCATGAG_GSE176078</td>\n",
       "    </tr>\n",
       "    <tr>\n",
       "      <th>107948</th>\n",
       "      <td>1</td>\n",
       "      <td>5</td>\n",
       "      <td>CID3586_AAGGTTCGTAGTACCT_GSE176078</td>\n",
       "    </tr>\n",
       "    <tr>\n",
       "      <th>16807</th>\n",
       "      <td>2</td>\n",
       "      <td>1</td>\n",
       "      <td>CID3586_ACCAGTAGTTGTGGCC_GSE176078</td>\n",
       "    </tr>\n",
       "    <tr>\n",
       "      <th>37156</th>\n",
       "      <td>3</td>\n",
       "      <td>8</td>\n",
       "      <td>CID3586_ACCCACTAGATGTCGG_GSE176078</td>\n",
       "    </tr>\n",
       "    <tr>\n",
       "      <th>63063</th>\n",
       "      <td>4</td>\n",
       "      <td>4</td>\n",
       "      <td>CID3586_ACTGATGGTCAACTGT_GSE176078</td>\n",
       "    </tr>\n",
       "    <tr>\n",
       "      <th>...</th>\n",
       "      <td>...</td>\n",
       "      <td>...</td>\n",
       "      <td>...</td>\n",
       "    </tr>\n",
       "    <tr>\n",
       "      <th>39087</th>\n",
       "      <td>155908</td>\n",
       "      <td>4</td>\n",
       "      <td>TTTGTTGCAGAGGAAA-1_GSM5022606_D11_GSE164898</td>\n",
       "    </tr>\n",
       "    <tr>\n",
       "      <th>39044</th>\n",
       "      <td>155909</td>\n",
       "      <td>4</td>\n",
       "      <td>TTTGTTGCATGCCATA-1_GSM5022606_D11_GSE164898</td>\n",
       "    </tr>\n",
       "    <tr>\n",
       "      <th>102388</th>\n",
       "      <td>155910</td>\n",
       "      <td>1</td>\n",
       "      <td>TTTGTTGCATTGCCTC-1_GSM5022606_D11_GSE164898</td>\n",
       "    </tr>\n",
       "    <tr>\n",
       "      <th>31111</th>\n",
       "      <td>155911</td>\n",
       "      <td>7</td>\n",
       "      <td>TTTGTTGGTTGCATCA-1_GSM5022606_D11_GSE164898</td>\n",
       "    </tr>\n",
       "    <tr>\n",
       "      <th>108142</th>\n",
       "      <td>155912</td>\n",
       "      <td>4</td>\n",
       "      <td>TTTGTTGGTTGGACCC-1_GSM5022606_D11_GSE164898</td>\n",
       "    </tr>\n",
       "  </tbody>\n",
       "</table>\n",
       "<p>155913 rows × 3 columns</p>\n",
       "</div>"
      ],
      "text/plain": [
       "        cell_index  topic                                        index\n",
       "107280           0      9           CID3586_AAGACCTCAGCATGAG_GSE176078\n",
       "107948           1      5           CID3586_AAGGTTCGTAGTACCT_GSE176078\n",
       "16807            2      1           CID3586_ACCAGTAGTTGTGGCC_GSE176078\n",
       "37156            3      8           CID3586_ACCCACTAGATGTCGG_GSE176078\n",
       "63063            4      4           CID3586_ACTGATGGTCAACTGT_GSE176078\n",
       "...            ...    ...                                          ...\n",
       "39087       155908      4  TTTGTTGCAGAGGAAA-1_GSM5022606_D11_GSE164898\n",
       "39044       155909      4  TTTGTTGCATGCCATA-1_GSM5022606_D11_GSE164898\n",
       "102388      155910      1  TTTGTTGCATTGCCTC-1_GSM5022606_D11_GSE164898\n",
       "31111       155911      7  TTTGTTGGTTGCATCA-1_GSM5022606_D11_GSE164898\n",
       "108142      155912      4  TTTGTTGGTTGGACCC-1_GSM5022606_D11_GSE164898\n",
       "\n",
       "[155913 rows x 3 columns]"
      ]
     },
     "execution_count": 14,
     "metadata": {},
     "output_type": "execute_result"
    }
   ],
   "source": [
    "df_pmf"
   ]
  },
  {
   "cell_type": "code",
   "execution_count": 15,
   "metadata": {},
   "outputs": [
    {
     "data": {
      "text/html": [
       "<div>\n",
       "<style scoped>\n",
       "    .dataframe tbody tr th:only-of-type {\n",
       "        vertical-align: middle;\n",
       "    }\n",
       "\n",
       "    .dataframe tbody tr th {\n",
       "        vertical-align: top;\n",
       "    }\n",
       "\n",
       "    .dataframe thead th {\n",
       "        text-align: right;\n",
       "    }\n",
       "</style>\n",
       "<table border=\"1\" class=\"dataframe\">\n",
       "  <thead>\n",
       "    <tr style=\"text-align: right;\">\n",
       "      <th></th>\n",
       "      <th>index</th>\n",
       "      <th>celltype</th>\n",
       "    </tr>\n",
       "  </thead>\n",
       "  <tbody>\n",
       "    <tr>\n",
       "      <th>0</th>\n",
       "      <td>TGGGTTAAGTTACGTC-1_GSM5022606_D11_GSE164898</td>\n",
       "      <td>B</td>\n",
       "    </tr>\n",
       "    <tr>\n",
       "      <th>1</th>\n",
       "      <td>CATCCACGTGGCTTGC-1_GSM5022605_D6-D10_Pool_HN_G...</td>\n",
       "      <td>B</td>\n",
       "    </tr>\n",
       "    <tr>\n",
       "      <th>2</th>\n",
       "      <td>GTTGTCCCATCCTTCG-1_GSM5022605_D6-D10_Pool_HN_G...</td>\n",
       "      <td>B</td>\n",
       "    </tr>\n",
       "    <tr>\n",
       "      <th>3</th>\n",
       "      <td>AAGCGTTGTTCTAAGC-1_GSM5022604_D6-D10_Pool_CMG_...</td>\n",
       "      <td>B</td>\n",
       "    </tr>\n",
       "    <tr>\n",
       "      <th>4</th>\n",
       "      <td>GTTCTATTCATTGAGC-1_GSM5022604_D6-D10_Pool_CMG_...</td>\n",
       "      <td>B</td>\n",
       "    </tr>\n",
       "    <tr>\n",
       "      <th>...</th>\n",
       "      <td>...</td>\n",
       "      <td>...</td>\n",
       "    </tr>\n",
       "    <tr>\n",
       "      <th>155908</th>\n",
       "      <td>CID4513_TCGTACCGTCAGAGGT_GSE176078</td>\n",
       "      <td>T</td>\n",
       "    </tr>\n",
       "    <tr>\n",
       "      <th>155909</th>\n",
       "      <td>CID3963_GTTCATTGTAACGACG_GSE176078</td>\n",
       "      <td>T</td>\n",
       "    </tr>\n",
       "    <tr>\n",
       "      <th>155910</th>\n",
       "      <td>CID4398_GGCAATTAGGGTCGAT_GSE176078</td>\n",
       "      <td>T</td>\n",
       "    </tr>\n",
       "    <tr>\n",
       "      <th>155911</th>\n",
       "      <td>CID44041_GACCTGGGTCAAAGCG_GSE176078</td>\n",
       "      <td>T</td>\n",
       "    </tr>\n",
       "    <tr>\n",
       "      <th>155912</th>\n",
       "      <td>CGACTTCAGATCGATA-1_GSM5022602_D4_GSE164898</td>\n",
       "      <td>T</td>\n",
       "    </tr>\n",
       "  </tbody>\n",
       "</table>\n",
       "<p>155913 rows × 2 columns</p>\n",
       "</div>"
      ],
      "text/plain": [
       "                                                    index celltype\n",
       "0             TGGGTTAAGTTACGTC-1_GSM5022606_D11_GSE164898        B\n",
       "1       CATCCACGTGGCTTGC-1_GSM5022605_D6-D10_Pool_HN_G...        B\n",
       "2       GTTGTCCCATCCTTCG-1_GSM5022605_D6-D10_Pool_HN_G...        B\n",
       "3       AAGCGTTGTTCTAAGC-1_GSM5022604_D6-D10_Pool_CMG_...        B\n",
       "4       GTTCTATTCATTGAGC-1_GSM5022604_D6-D10_Pool_CMG_...        B\n",
       "...                                                   ...      ...\n",
       "155908                 CID4513_TCGTACCGTCAGAGGT_GSE176078        T\n",
       "155909                 CID3963_GTTCATTGTAACGACG_GSE176078        T\n",
       "155910                 CID4398_GGCAATTAGGGTCGAT_GSE176078        T\n",
       "155911                CID44041_GACCTGGGTCAAAGCG_GSE176078        T\n",
       "155912         CGACTTCAGATCGATA-1_GSM5022602_D4_GSE164898        T\n",
       "\n",
       "[155913 rows x 2 columns]"
      ]
     },
     "execution_count": 15,
     "metadata": {},
     "output_type": "execute_result"
    }
   ],
   "source": [
    "fpath = sca.config.home + sca.config.experiment +sca.config.output + sca.config.sample_id+'/'+sca.config.sample_id\n",
    "df_pl = pd.read_csv(fpath+\"_prior_label.csv.gz\")\n",
    "df_pl"
   ]
  },
  {
   "cell_type": "code",
   "execution_count": 21,
   "metadata": {},
   "outputs": [
    {
     "data": {
      "text/html": [
       "<div>\n",
       "<style scoped>\n",
       "    .dataframe tbody tr th:only-of-type {\n",
       "        vertical-align: middle;\n",
       "    }\n",
       "\n",
       "    .dataframe tbody tr th {\n",
       "        vertical-align: top;\n",
       "    }\n",
       "\n",
       "    .dataframe thead th {\n",
       "        text-align: right;\n",
       "    }\n",
       "</style>\n",
       "<table border=\"1\" class=\"dataframe\">\n",
       "  <thead>\n",
       "    <tr style=\"text-align: right;\">\n",
       "      <th>topic</th>\n",
       "      <th>1</th>\n",
       "      <th>2</th>\n",
       "      <th>3</th>\n",
       "      <th>4</th>\n",
       "      <th>5</th>\n",
       "      <th>6</th>\n",
       "      <th>7</th>\n",
       "      <th>8</th>\n",
       "      <th>9</th>\n",
       "    </tr>\n",
       "    <tr>\n",
       "      <th>celltype</th>\n",
       "      <th></th>\n",
       "      <th></th>\n",
       "      <th></th>\n",
       "      <th></th>\n",
       "      <th></th>\n",
       "      <th></th>\n",
       "      <th></th>\n",
       "      <th></th>\n",
       "      <th></th>\n",
       "    </tr>\n",
       "  </thead>\n",
       "  <tbody>\n",
       "    <tr>\n",
       "      <th>B</th>\n",
       "      <td>0.000000</td>\n",
       "      <td>0.000000</td>\n",
       "      <td>0.000000</td>\n",
       "      <td>0.000000</td>\n",
       "      <td>0.157453</td>\n",
       "      <td>0.000000</td>\n",
       "      <td>0.104205</td>\n",
       "      <td>0.083820</td>\n",
       "      <td>0.088620</td>\n",
       "    </tr>\n",
       "    <tr>\n",
       "      <th>CAF</th>\n",
       "      <td>0.000000</td>\n",
       "      <td>0.000000</td>\n",
       "      <td>0.000000</td>\n",
       "      <td>0.360319</td>\n",
       "      <td>0.000000</td>\n",
       "      <td>0.000000</td>\n",
       "      <td>0.000000</td>\n",
       "      <td>0.000000</td>\n",
       "      <td>0.000000</td>\n",
       "    </tr>\n",
       "    <tr>\n",
       "      <th>Cancer</th>\n",
       "      <td>0.056204</td>\n",
       "      <td>0.148211</td>\n",
       "      <td>0.682235</td>\n",
       "      <td>0.086447</td>\n",
       "      <td>0.000000</td>\n",
       "      <td>0.126582</td>\n",
       "      <td>0.116586</td>\n",
       "      <td>0.538990</td>\n",
       "      <td>0.000000</td>\n",
       "    </tr>\n",
       "    <tr>\n",
       "      <th>Endothelial</th>\n",
       "      <td>0.060173</td>\n",
       "      <td>0.000000</td>\n",
       "      <td>0.000000</td>\n",
       "      <td>0.000000</td>\n",
       "      <td>0.000000</td>\n",
       "      <td>0.000000</td>\n",
       "      <td>0.000000</td>\n",
       "      <td>0.000000</td>\n",
       "      <td>0.400610</td>\n",
       "    </tr>\n",
       "    <tr>\n",
       "      <th>Epithelial</th>\n",
       "      <td>0.068667</td>\n",
       "      <td>0.000000</td>\n",
       "      <td>0.000000</td>\n",
       "      <td>0.056515</td>\n",
       "      <td>0.000000</td>\n",
       "      <td>0.000000</td>\n",
       "      <td>0.441432</td>\n",
       "      <td>0.000000</td>\n",
       "      <td>0.103586</td>\n",
       "    </tr>\n",
       "    <tr>\n",
       "      <th>Myeloid</th>\n",
       "      <td>0.612844</td>\n",
       "      <td>0.000000</td>\n",
       "      <td>0.000000</td>\n",
       "      <td>0.000000</td>\n",
       "      <td>0.000000</td>\n",
       "      <td>0.000000</td>\n",
       "      <td>0.000000</td>\n",
       "      <td>0.000000</td>\n",
       "      <td>0.065145</td>\n",
       "    </tr>\n",
       "    <tr>\n",
       "      <th>PVL</th>\n",
       "      <td>0.000000</td>\n",
       "      <td>0.000000</td>\n",
       "      <td>0.000000</td>\n",
       "      <td>0.197670</td>\n",
       "      <td>0.000000</td>\n",
       "      <td>0.000000</td>\n",
       "      <td>0.000000</td>\n",
       "      <td>0.000000</td>\n",
       "      <td>0.073596</td>\n",
       "    </tr>\n",
       "    <tr>\n",
       "      <th>Plasma</th>\n",
       "      <td>0.000000</td>\n",
       "      <td>0.544293</td>\n",
       "      <td>0.000000</td>\n",
       "      <td>0.092875</td>\n",
       "      <td>0.000000</td>\n",
       "      <td>0.585707</td>\n",
       "      <td>0.105057</td>\n",
       "      <td>0.122832</td>\n",
       "      <td>0.000000</td>\n",
       "    </tr>\n",
       "    <tr>\n",
       "      <th>T</th>\n",
       "      <td>0.095975</td>\n",
       "      <td>0.156729</td>\n",
       "      <td>0.096848</td>\n",
       "      <td>0.114303</td>\n",
       "      <td>0.652213</td>\n",
       "      <td>0.085707</td>\n",
       "      <td>0.090121</td>\n",
       "      <td>0.067234</td>\n",
       "      <td>0.127648</td>\n",
       "    </tr>\n",
       "  </tbody>\n",
       "</table>\n",
       "</div>"
      ],
      "text/plain": [
       "topic               1         2         3         4         5         6  \\\n",
       "celltype                                                                  \n",
       "B            0.000000  0.000000  0.000000  0.000000  0.157453  0.000000   \n",
       "CAF          0.000000  0.000000  0.000000  0.360319  0.000000  0.000000   \n",
       "Cancer       0.056204  0.148211  0.682235  0.086447  0.000000  0.126582   \n",
       "Endothelial  0.060173  0.000000  0.000000  0.000000  0.000000  0.000000   \n",
       "Epithelial   0.068667  0.000000  0.000000  0.056515  0.000000  0.000000   \n",
       "Myeloid      0.612844  0.000000  0.000000  0.000000  0.000000  0.000000   \n",
       "PVL          0.000000  0.000000  0.000000  0.197670  0.000000  0.000000   \n",
       "Plasma       0.000000  0.544293  0.000000  0.092875  0.000000  0.585707   \n",
       "T            0.095975  0.156729  0.096848  0.114303  0.652213  0.085707   \n",
       "\n",
       "topic               7         8         9  \n",
       "celltype                                   \n",
       "B            0.104205  0.083820  0.088620  \n",
       "CAF          0.000000  0.000000  0.000000  \n",
       "Cancer       0.116586  0.538990  0.000000  \n",
       "Endothelial  0.000000  0.000000  0.400610  \n",
       "Epithelial   0.441432  0.000000  0.103586  \n",
       "Myeloid      0.000000  0.000000  0.065145  \n",
       "PVL          0.000000  0.000000  0.073596  \n",
       "Plasma       0.105057  0.122832  0.000000  \n",
       "T            0.090121  0.067234  0.127648  "
      ]
     },
     "execution_count": 21,
     "metadata": {},
     "output_type": "execute_result"
    },
    {
     "data": {
      "image/png": "[encoded data removed]",
      "text/plain": [
       "<Figure size 720x720 with 4 Axes>"
      ]
     },
     "metadata": {
      "needs_background": "light"
     },
     "output_type": "display_data"
    }
   ],
   "source": [
    "df_join = pd.merge(df_pl,df_pmf,on='index')\n",
    "df_match = df_join.groupby(['celltype','topic']).count().reset_index()\n",
    "df_match = df_match.pivot('celltype','topic','index')\n",
    "df_match = df_match.fillna(0)\n",
    "df_match = df_match/df_match.sum(0)\n",
    "\n",
    "df_match[df_match<0.05]=0.0\n",
    "import matplotlib.pylab as plt\n",
    "import seaborn as sns\n",
    "sns.clustermap(df_match)\n",
    "df_match\n"
   ]
  },
  {
   "cell_type": "code",
   "execution_count": 18,
   "metadata": {},
   "outputs": [
    {
     "data": {
      "text/html": [
       "<div>\n",
       "<style scoped>\n",
       "    .dataframe tbody tr th:only-of-type {\n",
       "        vertical-align: middle;\n",
       "    }\n",
       "\n",
       "    .dataframe tbody tr th {\n",
       "        vertical-align: top;\n",
       "    }\n",
       "\n",
       "    .dataframe thead th {\n",
       "        text-align: right;\n",
       "    }\n",
       "</style>\n",
       "<table border=\"1\" class=\"dataframe\">\n",
       "  <thead>\n",
       "    <tr style=\"text-align: right;\">\n",
       "      <th></th>\n",
       "      <th>index</th>\n",
       "      <th>celltype</th>\n",
       "      <th>cell_index</th>\n",
       "      <th>topic</th>\n",
       "    </tr>\n",
       "  </thead>\n",
       "  <tbody>\n",
       "    <tr>\n",
       "      <th>0</th>\n",
       "      <td>TGGGTTAAGTTACGTC-1_GSM5022606_D11_GSE164898</td>\n",
       "      <td>B</td>\n",
       "      <td>155157</td>\n",
       "      <td>5</td>\n",
       "    </tr>\n",
       "    <tr>\n",
       "      <th>1</th>\n",
       "      <td>CATCCACGTGGCTTGC-1_GSM5022605_D6-D10_Pool_HN_G...</td>\n",
       "      <td>B</td>\n",
       "      <td>140685</td>\n",
       "      <td>5</td>\n",
       "    </tr>\n",
       "    <tr>\n",
       "      <th>2</th>\n",
       "      <td>GTTGTCCCATCCTTCG-1_GSM5022605_D6-D10_Pool_HN_G...</td>\n",
       "      <td>B</td>\n",
       "      <td>144835</td>\n",
       "      <td>5</td>\n",
       "    </tr>\n",
       "    <tr>\n",
       "      <th>3</th>\n",
       "      <td>AAGCGTTGTTCTAAGC-1_GSM5022604_D6-D10_Pool_CMG_...</td>\n",
       "      <td>B</td>\n",
       "      <td>127340</td>\n",
       "      <td>9</td>\n",
       "    </tr>\n",
       "    <tr>\n",
       "      <th>4</th>\n",
       "      <td>GTTCTATTCATTGAGC-1_GSM5022604_D6-D10_Pool_CMG_...</td>\n",
       "      <td>B</td>\n",
       "      <td>134784</td>\n",
       "      <td>5</td>\n",
       "    </tr>\n",
       "    <tr>\n",
       "      <th>...</th>\n",
       "      <td>...</td>\n",
       "      <td>...</td>\n",
       "      <td>...</td>\n",
       "      <td>...</td>\n",
       "    </tr>\n",
       "    <tr>\n",
       "      <th>155908</th>\n",
       "      <td>CID4513_TCGTACCGTCAGAGGT_GSE176078</td>\n",
       "      <td>T</td>\n",
       "      <td>47264</td>\n",
       "      <td>5</td>\n",
       "    </tr>\n",
       "    <tr>\n",
       "      <th>155909</th>\n",
       "      <td>CID3963_GTTCATTGTAACGACG_GSE176078</td>\n",
       "      <td>T</td>\n",
       "      <td>61093</td>\n",
       "      <td>5</td>\n",
       "    </tr>\n",
       "    <tr>\n",
       "      <th>155910</th>\n",
       "      <td>CID4398_GGCAATTAGGGTCGAT_GSE176078</td>\n",
       "      <td>T</td>\n",
       "      <td>98956</td>\n",
       "      <td>5</td>\n",
       "    </tr>\n",
       "    <tr>\n",
       "      <th>155911</th>\n",
       "      <td>CID44041_GACCTGGGTCAAAGCG_GSE176078</td>\n",
       "      <td>T</td>\n",
       "      <td>21076</td>\n",
       "      <td>5</td>\n",
       "    </tr>\n",
       "    <tr>\n",
       "      <th>155912</th>\n",
       "      <td>CGACTTCAGATCGATA-1_GSM5022602_D4_GSE164898</td>\n",
       "      <td>T</td>\n",
       "      <td>120244</td>\n",
       "      <td>9</td>\n",
       "    </tr>\n",
       "  </tbody>\n",
       "</table>\n",
       "<p>155913 rows × 4 columns</p>\n",
       "</div>"
      ],
      "text/plain": [
       "                                                    index celltype  \\\n",
       "0             TGGGTTAAGTTACGTC-1_GSM5022606_D11_GSE164898        B   \n",
       "1       CATCCACGTGGCTTGC-1_GSM5022605_D6-D10_Pool_HN_G...        B   \n",
       "2       GTTGTCCCATCCTTCG-1_GSM5022605_D6-D10_Pool_HN_G...        B   \n",
       "3       AAGCGTTGTTCTAAGC-1_GSM5022604_D6-D10_Pool_CMG_...        B   \n",
       "4       GTTCTATTCATTGAGC-1_GSM5022604_D6-D10_Pool_CMG_...        B   \n",
       "...                                                   ...      ...   \n",
       "155908                 CID4513_TCGTACCGTCAGAGGT_GSE176078        T   \n",
       "155909                 CID3963_GTTCATTGTAACGACG_GSE176078        T   \n",
       "155910                 CID4398_GGCAATTAGGGTCGAT_GSE176078        T   \n",
       "155911                CID44041_GACCTGGGTCAAAGCG_GSE176078        T   \n",
       "155912         CGACTTCAGATCGATA-1_GSM5022602_D4_GSE164898        T   \n",
       "\n",
       "        cell_index  topic  \n",
       "0           155157      5  \n",
       "1           140685      5  \n",
       "2           144835      5  \n",
       "3           127340      9  \n",
       "4           134784      5  \n",
       "...            ...    ...  \n",
       "155908       47264      5  \n",
       "155909       61093      5  \n",
       "155910       98956      5  \n",
       "155911       21076      5  \n",
       "155912      120244      9  \n",
       "\n",
       "[155913 rows x 4 columns]"
      ]
     },
     "execution_count": 18,
     "metadata": {},
     "output_type": "execute_result"
    }
   ],
   "source": [
    "df_join"
   ]
  },
  {
   "cell_type": "code",
   "execution_count": 83,
   "metadata": {},
   "outputs": [
    {
     "data": {
      "text/html": [
       "<div>\n",
       "<style scoped>\n",
       "    .dataframe tbody tr th:only-of-type {\n",
       "        vertical-align: middle;\n",
       "    }\n",
       "\n",
       "    .dataframe tbody tr th {\n",
       "        vertical-align: top;\n",
       "    }\n",
       "\n",
       "    .dataframe thead th {\n",
       "        text-align: right;\n",
       "    }\n",
       "</style>\n",
       "<table border=\"1\" class=\"dataframe\">\n",
       "  <thead>\n",
       "    <tr style=\"text-align: right;\">\n",
       "      <th>topic</th>\n",
       "      <th>1</th>\n",
       "      <th>2</th>\n",
       "      <th>3</th>\n",
       "      <th>4</th>\n",
       "      <th>5</th>\n",
       "      <th>6</th>\n",
       "      <th>7</th>\n",
       "      <th>8</th>\n",
       "      <th>9</th>\n",
       "    </tr>\n",
       "    <tr>\n",
       "      <th>leiden</th>\n",
       "      <th></th>\n",
       "      <th></th>\n",
       "      <th></th>\n",
       "      <th></th>\n",
       "      <th></th>\n",
       "      <th></th>\n",
       "      <th></th>\n",
       "      <th></th>\n",
       "      <th></th>\n",
       "    </tr>\n",
       "  </thead>\n",
       "  <tbody>\n",
       "    <tr>\n",
       "      <th>0</th>\n",
       "      <td>0.000000</td>\n",
       "      <td>0.0</td>\n",
       "      <td>0.505976</td>\n",
       "      <td>0.0</td>\n",
       "      <td>0.000000</td>\n",
       "      <td>0.000000</td>\n",
       "      <td>0.0</td>\n",
       "      <td>0.000</td>\n",
       "      <td>0.0</td>\n",
       "    </tr>\n",
       "    <tr>\n",
       "      <th>1</th>\n",
       "      <td>0.000000</td>\n",
       "      <td>0.0</td>\n",
       "      <td>0.000000</td>\n",
       "      <td>0.0</td>\n",
       "      <td>0.000000</td>\n",
       "      <td>0.000000</td>\n",
       "      <td>0.0</td>\n",
       "      <td>0.000</td>\n",
       "      <td>0.0</td>\n",
       "    </tr>\n",
       "    <tr>\n",
       "      <th>2</th>\n",
       "      <td>0.000000</td>\n",
       "      <td>0.0</td>\n",
       "      <td>0.000000</td>\n",
       "      <td>0.0</td>\n",
       "      <td>0.000000</td>\n",
       "      <td>0.808864</td>\n",
       "      <td>0.0</td>\n",
       "      <td>0.000</td>\n",
       "      <td>0.0</td>\n",
       "    </tr>\n",
       "    <tr>\n",
       "      <th>3</th>\n",
       "      <td>0.000000</td>\n",
       "      <td>0.0</td>\n",
       "      <td>0.000000</td>\n",
       "      <td>0.0</td>\n",
       "      <td>0.000000</td>\n",
       "      <td>0.000000</td>\n",
       "      <td>0.0</td>\n",
       "      <td>0.525</td>\n",
       "      <td>0.0</td>\n",
       "    </tr>\n",
       "    <tr>\n",
       "      <th>4</th>\n",
       "      <td>0.000000</td>\n",
       "      <td>0.0</td>\n",
       "      <td>0.000000</td>\n",
       "      <td>0.0</td>\n",
       "      <td>0.000000</td>\n",
       "      <td>0.000000</td>\n",
       "      <td>0.0</td>\n",
       "      <td>0.000</td>\n",
       "      <td>0.0</td>\n",
       "    </tr>\n",
       "    <tr>\n",
       "      <th>5</th>\n",
       "      <td>0.540625</td>\n",
       "      <td>0.0</td>\n",
       "      <td>0.000000</td>\n",
       "      <td>0.0</td>\n",
       "      <td>0.000000</td>\n",
       "      <td>0.000000</td>\n",
       "      <td>0.0</td>\n",
       "      <td>0.000</td>\n",
       "      <td>0.0</td>\n",
       "    </tr>\n",
       "    <tr>\n",
       "      <th>6</th>\n",
       "      <td>0.000000</td>\n",
       "      <td>0.0</td>\n",
       "      <td>0.000000</td>\n",
       "      <td>0.0</td>\n",
       "      <td>0.516949</td>\n",
       "      <td>0.000000</td>\n",
       "      <td>0.0</td>\n",
       "      <td>0.000</td>\n",
       "      <td>0.0</td>\n",
       "    </tr>\n",
       "    <tr>\n",
       "      <th>7</th>\n",
       "      <td>0.000000</td>\n",
       "      <td>0.0</td>\n",
       "      <td>0.000000</td>\n",
       "      <td>0.0</td>\n",
       "      <td>0.000000</td>\n",
       "      <td>0.000000</td>\n",
       "      <td>0.0</td>\n",
       "      <td>0.000</td>\n",
       "      <td>0.0</td>\n",
       "    </tr>\n",
       "    <tr>\n",
       "      <th>8</th>\n",
       "      <td>0.000000</td>\n",
       "      <td>0.0</td>\n",
       "      <td>0.000000</td>\n",
       "      <td>0.0</td>\n",
       "      <td>0.000000</td>\n",
       "      <td>0.000000</td>\n",
       "      <td>0.0</td>\n",
       "      <td>0.000</td>\n",
       "      <td>0.5</td>\n",
       "    </tr>\n",
       "  </tbody>\n",
       "</table>\n",
       "</div>"
      ],
      "text/plain": [
       "topic          1    2         3    4         5         6    7      8    9\n",
       "leiden                                                                   \n",
       "0       0.000000  0.0  0.505976  0.0  0.000000  0.000000  0.0  0.000  0.0\n",
       "1       0.000000  0.0  0.000000  0.0  0.000000  0.000000  0.0  0.000  0.0\n",
       "2       0.000000  0.0  0.000000  0.0  0.000000  0.808864  0.0  0.000  0.0\n",
       "3       0.000000  0.0  0.000000  0.0  0.000000  0.000000  0.0  0.525  0.0\n",
       "4       0.000000  0.0  0.000000  0.0  0.000000  0.000000  0.0  0.000  0.0\n",
       "5       0.540625  0.0  0.000000  0.0  0.000000  0.000000  0.0  0.000  0.0\n",
       "6       0.000000  0.0  0.000000  0.0  0.516949  0.000000  0.0  0.000  0.0\n",
       "7       0.000000  0.0  0.000000  0.0  0.000000  0.000000  0.0  0.000  0.0\n",
       "8       0.000000  0.0  0.000000  0.0  0.000000  0.000000  0.0  0.000  0.5"
      ]
     },
     "execution_count": 83,
     "metadata": {},
     "output_type": "execute_result"
    },
    {
     "data": {
      "image/png": "[encoded data removed]",
      "text/plain": [
       "<Figure size 720x720 with 4 Axes>"
      ]
     },
     "metadata": {
      "needs_background": "light"
     },
     "output_type": "display_data"
    }
   ],
   "source": [
    "\n",
    "#pbmc \n",
    "\n",
    "df_join = pd.merge(df_pl,df_pmf,on='index')\n",
    "df_match = df_join.groupby(['leiden','topic']).count().reset_index()\n",
    "df_match = df_match.pivot('leiden','topic','index')\n",
    "df_match = df_match.fillna(0)\n",
    "df_match = df_match/df_match.sum(0)\n",
    "\n",
    "df_match[df_match<0.5]=0.0\n",
    "import matplotlib.pylab as plt\n",
    "import seaborn as sns\n",
    "sns.clustermap(df_match)\n",
    "df_match\n"
   ]
  },
  {
   "cell_type": "code",
   "execution_count": 82,
   "metadata": {},
   "outputs": [],
   "source": []
  },
  {
   "cell_type": "code",
   "execution_count": 65,
   "metadata": {},
   "outputs": [
    {
     "data": {
      "text/plain": [
       "2638.0"
      ]
     },
     "execution_count": 65,
     "metadata": {},
     "output_type": "execute_result"
    }
   ],
   "source": [
    "df_match.sum().sum()"
   ]
  },
  {
   "cell_type": "code",
   "execution_count": null,
   "metadata": {},
   "outputs": [],
   "source": [
    "### compare with etm\n",
    "\n",
    "df_etm = pd.read_csv(fpath+'_rp_model_h.csv.gz')\n",
    "df_etm['celltopic'] = [x.replace('h','') for x in df_etm.iloc[:,1:].idxmax(axis=1)]\n",
    "df_etm = df_etm[['cell','celltopic']]\n",
    "\n",
    "df_join = pd.merge(df_pl,df_etm,on='cell')\n",
    "df_match = df_join.groupby(['celltype','celltopic']).count().reset_index()\n",
    "df_match = df_match.pivot('celltype','celltopic','cell')\n",
    "import matplotlib.pylab as plt\n",
    "import seaborn as sns\n",
    "sns.clustermap(df_match)"
   ]
  }
 ],
 "metadata": {
  "kernelspec": {
   "display_name": "Python 3.9.9 ('ssubedi')",
   "language": "python",
   "name": "python3"
  },
  "language_info": {
   "codemirror_mode": {
    "name": "ipython",
    "version": 3
   },
   "file_extension": ".py",
   "mimetype": "text/x-python",
   "name": "python",
   "nbconvert_exporter": "python",
   "pygments_lexer": "ipython3",
   "version": "3.9.9"
  },
  "orig_nbformat": 4,
  "vscode": {
   "interpreter": {
    "hash": "456174486433d0df38b6c3d43662f9cf9ff34eb8be065c50f397edd6e06d981c"
   }
  }
 },
 "nbformat": 4,
 "nbformat_minor": 2
}
