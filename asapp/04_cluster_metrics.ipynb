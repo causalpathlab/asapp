{
 "cells": [
  {
   "cell_type": "code",
   "execution_count": null,
   "metadata": {},
   "outputs": [],
   "source": [
    "from util._io import read_config\n",
    "from collections import namedtuple\n",
    "from pathlib import Path\n",
    "import pandas as pd\n",
    "import numpy as np\n",
    "import fastsca\n",
    "from sklearn.metrics.cluster import contingency_matrix,adjusted_rand_score\n",
    "import matplotlib.pylab as plt\n",
    "import seaborn as sns\n",
    "np.random.seed(42)\n",
    "import warnings\n",
    "warnings.simplefilter(action='ignore', category=FutureWarning)"
   ]
  },
  {
   "cell_type": "code",
   "execution_count": null,
   "metadata": {},
   "outputs": [],
   "source": [
    "experiment = '/projects/experiments/asapp/'\n",
    "server = Path.home().as_posix()\n",
    "experiment_home = server+experiment\n",
    "experiment_config = read_config(experiment_home+'config.yaml')\n",
    "args = namedtuple('Struct',experiment_config.keys())(*experiment_config.values())\n",
    "\n",
    "sca = fastsca.FASTSCA()\n",
    "sca.config = args\n",
    "sca.initdata()\n",
    "fn = sca.config.home + sca.config.experiment +sca.config.output + sca.config.sample_id+'/'+sca.config.sample_id"
   ]
  },
  {
   "cell_type": "code",
   "execution_count": null,
   "metadata": {},
   "outputs": [],
   "source": [
    "\n",
    "\n",
    "df_gt = pd.read_csv(fn+'_metadata.csv.gz')\n",
    "df_tl = pd.read_csv(fn+'_scanpy_label.csv.gz')\n",
    "df_join = pd.merge(df_tl,df_gt,on='cell',how='left')\n",
    "print('ARI',adjusted_rand_score(df_join.label_y,df_join.label_x))\n",
    "df_scmatch = pd.DataFrame(contingency_matrix(df_join.label_x,df_join.label_y))\n",
    "df_scmatch = df_scmatch.div(df_scmatch.sum(axis=1), axis=0)\n",
    "sns.distplot(df_scmatch.max(1).values,hist=False)\n",
    "plt.xlabel('Proportion of cell type')\n",
    "plt.ylabel('Leiden group count')\n",
    "\n",
    "print('clust_max',df_scmatch.max(1).sum()/df_scmatch.shape[0])\n"
   ]
  },
  {
   "cell_type": "code",
   "execution_count": null,
   "metadata": {},
   "outputs": [],
   "source": [
    "import matplotlib.pylab as plt\n",
    "import seaborn as sns\n",
    "\n",
    "df = pd.read_csv(fn+'_cluster_trace.csv.gz')\n",
    "\n",
    "for i in range(df.shape[0]):\n",
    "    sns.distplot(df.iloc[i,:],label=i,hist=False)\n",
    "plt.xlabel('proportion of clust max')\n",
    "plt.legend()\n"
   ]
  },
  {
   "cell_type": "code",
   "execution_count": null,
   "metadata": {},
   "outputs": [],
   "source": [
    "dfv = pd.read_csv(fn+'_cluster_val_trace.csv.gz')\n",
    "dfv"
   ]
  },
  {
   "cell_type": "code",
   "execution_count": null,
   "metadata": {},
   "outputs": [],
   "source": [
    "import _topics_util as tpu \n",
    "import matplotlib.pylab as plt\n",
    "import seaborn as sns\n",
    "\n",
    "dfh = pd.read_csv(fn+'_10_beta.csv.gz')\n",
    "\n",
    "dfh.columns = sca.data.cols\n",
    "df_top = tpu.get_topic_top_genes(dfh,10)\n",
    "\n",
    "df_top = df_top.pivot(index='Topic',columns='Gene',values='Proportion')\n",
    "sns.clustermap(df_top.T,cmap='viridis')"
   ]
  },
  {
   "cell_type": "code",
   "execution_count": null,
   "metadata": {},
   "outputs": [],
   "source": [
    "\n",
    "df = pd.read_csv(fn+'_cluster_val_trace.csv.gz')\n",
    "df"
   ]
  },
  {
   "cell_type": "code",
   "execution_count": null,
   "metadata": {},
   "outputs": [],
   "source": [
    "import _topics_util as tpu \n",
    "import matplotlib.pylab as plt\n",
    "import seaborn as sns\n",
    "\n",
    "dfh = pd.read_csv(fn+'_10_beta.csv.gz')\n",
    "\n",
    "dfh.columns = sca.data.cols\n",
    "df_top = tpu.get_topic_top_genes(dfh,20)\n",
    "\n",
    "df_top = df_top.pivot(index='Topic',columns='Gene',values='Proportion')\n",
    "sns.clustermap(df_top.T,cmap='viridis')"
   ]
  },
  {
   "cell_type": "code",
   "execution_count": null,
   "metadata": {},
   "outputs": [],
   "source": [
    "import matplotlib.pylab as plt\n",
    "import seaborn as sns\n",
    "\n",
    "df = pd.read_csv(fn+'_cluster_trace_NMF.csv.gz')\n",
    "\n",
    "for i in range(df.shape[0]):\n",
    "    sns.distplot(df.iloc[i,:],label=i,hist=False)\n",
    "plt.xlabel('proportion of clust max')\n",
    "plt.legend()"
   ]
  },
  {
   "cell_type": "code",
   "execution_count": null,
   "metadata": {},
   "outputs": [],
   "source": [
    "dfv = pd.read_csv(fn+'_cluster_val_trace_NMF.csv.gz')\n",
    "dfv"
   ]
  }
 ],
 "metadata": {
  "kernelspec": {
   "display_name": "Python 3.9.9 ('ssubedi')",
   "language": "python",
   "name": "python3"
  },
  "language_info": {
   "codemirror_mode": {
    "name": "ipython",
    "version": 3
   },
   "file_extension": ".py",
   "mimetype": "text/x-python",
   "name": "python",
   "nbconvert_exporter": "python",
   "pygments_lexer": "ipython3",
   "version": "3.9.9 | packaged by conda-forge | (main, Dec 20 2021, 02:41:03) \n[GCC 9.4.0]"
  },
  "orig_nbformat": 4,
  "vscode": {
   "interpreter": {
    "hash": "456174486433d0df38b6c3d43662f9cf9ff34eb8be065c50f397edd6e06d981c"
   }
  }
 },
 "nbformat": 4,
 "nbformat_minor": 2
}
