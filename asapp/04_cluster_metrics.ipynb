{
 "cells": [
  {
   "cell_type": "markdown",
   "metadata": {},
   "source": [
    "Aim 1: design a pseudo bulk estimation procedure using random projection and tree data structure."
   ]
  },
  {
   "cell_type": "code",
   "execution_count": 1,
   "metadata": {},
   "outputs": [],
   "source": [
    "from util._io import read_config\n",
    "from collections import namedtuple\n",
    "from pathlib import Path\n",
    "import pandas as pd\n",
    "import numpy as np\n",
    "import fastsca\n",
    "import logging"
   ]
  },
  {
   "cell_type": "code",
   "execution_count": 3,
   "metadata": {},
   "outputs": [],
   "source": [
    "experiment = '/projects/experiments/asapp/'\n",
    "server = Path.home().as_posix()\n",
    "experiment_home = server+experiment\n",
    "experiment_config = read_config(experiment_home+'config.yaml')\n",
    "args = namedtuple('Struct',experiment_config.keys())(*experiment_config.values())\n",
    "\n",
    "sca = fastsca.FASTSCA()\n",
    "sca.config = args\n",
    "sca.initdata()\n"
   ]
  },
  {
   "cell_type": "code",
   "execution_count": 20,
   "metadata": {},
   "outputs": [],
   "source": [
    "fn = sca.config.home + sca.config.experiment +sca.config.output + sca.config.sample_id+'/'+sca.config.sample_id\n",
    "\n",
    "df_gt = pd.read_csv(fn+'_metadata.csv.gz')\n",
    "df_tl = pd.read_csv(fn+'_scanpy_label.csv.gz')\n",
    "\n",
    "df_join = pd.merge(df_tl,df_gt,on='cell',how='left')"
   ]
  },
  {
   "cell_type": "code",
   "execution_count": 21,
   "metadata": {},
   "outputs": [
    {
     "data": {
      "text/html": [
       "<div>\n",
       "<style scoped>\n",
       "    .dataframe tbody tr th:only-of-type {\n",
       "        vertical-align: middle;\n",
       "    }\n",
       "\n",
       "    .dataframe tbody tr th {\n",
       "        vertical-align: top;\n",
       "    }\n",
       "\n",
       "    .dataframe thead th {\n",
       "        text-align: right;\n",
       "    }\n",
       "</style>\n",
       "<table border=\"1\" class=\"dataframe\">\n",
       "  <thead>\n",
       "    <tr style=\"text-align: right;\">\n",
       "      <th></th>\n",
       "      <th>cell</th>\n",
       "      <th>label_x</th>\n",
       "      <th>label_y</th>\n",
       "    </tr>\n",
       "  </thead>\n",
       "  <tbody>\n",
       "    <tr>\n",
       "      <th>0</th>\n",
       "      <td>CID3586_AAGACCTCAGCATGAG</td>\n",
       "      <td>4</td>\n",
       "      <td>Endothelial</td>\n",
       "    </tr>\n",
       "    <tr>\n",
       "      <th>1</th>\n",
       "      <td>CID3586_AAGGTTCGTAGTACCT</td>\n",
       "      <td>4</td>\n",
       "      <td>Endothelial</td>\n",
       "    </tr>\n",
       "    <tr>\n",
       "      <th>2</th>\n",
       "      <td>CID3586_ACCAGTAGTTGTGGCC</td>\n",
       "      <td>4</td>\n",
       "      <td>Endothelial</td>\n",
       "    </tr>\n",
       "    <tr>\n",
       "      <th>3</th>\n",
       "      <td>CID3586_ACCCACTAGATGTCGG</td>\n",
       "      <td>4</td>\n",
       "      <td>Endothelial</td>\n",
       "    </tr>\n",
       "    <tr>\n",
       "      <th>4</th>\n",
       "      <td>CID3586_ACTGATGGTCAACTGT</td>\n",
       "      <td>4</td>\n",
       "      <td>Endothelial</td>\n",
       "    </tr>\n",
       "    <tr>\n",
       "      <th>...</th>\n",
       "      <td>...</td>\n",
       "      <td>...</td>\n",
       "      <td>...</td>\n",
       "    </tr>\n",
       "    <tr>\n",
       "      <th>78024</th>\n",
       "      <td>CID4398_TCAGGTAGTACTCAAC</td>\n",
       "      <td>3</td>\n",
       "      <td>Myeloid</td>\n",
       "    </tr>\n",
       "    <tr>\n",
       "      <th>78025</th>\n",
       "      <td>CID4398_TCTATTGTCGCCATAA</td>\n",
       "      <td>3</td>\n",
       "      <td>Myeloid</td>\n",
       "    </tr>\n",
       "    <tr>\n",
       "      <th>78026</th>\n",
       "      <td>CID4398_TCTTTCCCAGTAAGCG</td>\n",
       "      <td>3</td>\n",
       "      <td>Myeloid</td>\n",
       "    </tr>\n",
       "    <tr>\n",
       "      <th>78027</th>\n",
       "      <td>CID4398_TGCCCATGTTACGGAG</td>\n",
       "      <td>3</td>\n",
       "      <td>Myeloid</td>\n",
       "    </tr>\n",
       "    <tr>\n",
       "      <th>78028</th>\n",
       "      <td>CID4398_TTGAACGTCCTATTCA</td>\n",
       "      <td>3</td>\n",
       "      <td>Myeloid</td>\n",
       "    </tr>\n",
       "  </tbody>\n",
       "</table>\n",
       "<p>78029 rows × 3 columns</p>\n",
       "</div>"
      ],
      "text/plain": [
       "                           cell  label_x      label_y\n",
       "0      CID3586_AAGACCTCAGCATGAG        4  Endothelial\n",
       "1      CID3586_AAGGTTCGTAGTACCT        4  Endothelial\n",
       "2      CID3586_ACCAGTAGTTGTGGCC        4  Endothelial\n",
       "3      CID3586_ACCCACTAGATGTCGG        4  Endothelial\n",
       "4      CID3586_ACTGATGGTCAACTGT        4  Endothelial\n",
       "...                         ...      ...          ...\n",
       "78024  CID4398_TCAGGTAGTACTCAAC        3      Myeloid\n",
       "78025  CID4398_TCTATTGTCGCCATAA        3      Myeloid\n",
       "78026  CID4398_TCTTTCCCAGTAAGCG        3      Myeloid\n",
       "78027  CID4398_TGCCCATGTTACGGAG        3      Myeloid\n",
       "78028  CID4398_TTGAACGTCCTATTCA        3      Myeloid\n",
       "\n",
       "[78029 rows x 3 columns]"
      ]
     },
     "execution_count": 21,
     "metadata": {},
     "output_type": "execute_result"
    }
   ],
   "source": [
    "df_join"
   ]
  },
  {
   "cell_type": "code",
   "execution_count": 27,
   "metadata": {},
   "outputs": [
    {
     "data": {
      "text/plain": [
       "0.9076905521971236"
      ]
     },
     "execution_count": 27,
     "metadata": {},
     "output_type": "execute_result"
    }
   ],
   "source": [
    "from sklearn.metrics.cluster import contingency_matrix,adjusted_rand_score\n",
    "# contingency_matrix(df_join.label_x,df_join.label_y)\n",
    "adjusted_rand_score(df_join.label_y,df_join.label_x)"
   ]
  },
  {
   "cell_type": "code",
   "execution_count": null,
   "metadata": {},
   "outputs": [],
   "source": []
  }
 ],
 "metadata": {
  "kernelspec": {
   "display_name": "Python 3.9.9 ('ssubedi')",
   "language": "python",
   "name": "python3"
  },
  "language_info": {
   "codemirror_mode": {
    "name": "ipython",
    "version": 3
   },
   "file_extension": ".py",
   "mimetype": "text/x-python",
   "name": "python",
   "nbconvert_exporter": "python",
   "pygments_lexer": "ipython3",
   "version": "3.9.9"
  },
  "orig_nbformat": 4,
  "vscode": {
   "interpreter": {
    "hash": "456174486433d0df38b6c3d43662f9cf9ff34eb8be065c50f397edd6e06d981c"
   }
  }
 },
 "nbformat": 4,
 "nbformat_minor": 2
}
