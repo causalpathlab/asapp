{
 "cells": [
  {
   "cell_type": "markdown",
   "metadata": {},
   "source": [
    "Aim 1: design a pseudo bulk estimation procedure using random projection and tree data structure."
   ]
  },
  {
   "cell_type": "code",
   "execution_count": null,
   "metadata": {},
   "outputs": [],
   "source": [
    "from util._io import read_config\n",
    "from collections import namedtuple\n",
    "from pathlib import Path\n",
    "import pandas as pd\n",
    "import numpy as np\n",
    "import fastsca\n",
    "import logging\n",
    "import _rpstruct as rp\n",
    "import importlib\n",
    "importlib.reload(rp)\n",
    "from sklearn.metrics.cluster import contingency_matrix,adjusted_rand_score\n",
    "import matplotlib.pylab as plt\n",
    "import seaborn as sns\n",
    "import _scanpy as s\n",
    "np.random.seed(42)\n",
    "\n",
    "experiment = '/projects/experiments/asapp/'\n",
    "server = Path.home().as_posix()\n",
    "experiment_home = server+experiment\n",
    "experiment_config = read_config(experiment_home+'config.yaml')\n",
    "args = namedtuple('Struct',experiment_config.keys())(*experiment_config.values())\n",
    "\n",
    "sca = fastsca.FASTSCA()\n",
    "sca.config = args\n",
    "sca.initdata()\n",
    "sca.loaddata()\n",
    "sca.data.mtx.shape\n",
    "fn = sca.config.home + sca.config.experiment +sca.config.output + sca.config.sample_id+'/'+sca.config.sample_id"
   ]
  },
  {
   "cell_type": "code",
   "execution_count": null,
   "metadata": {},
   "outputs": [],
   "source": [
    "## generate scanpy \n",
    "s.run_scanpy(sca.data.mtx,sca.data.rows,sca.data.cols,fn)"
   ]
  },
  {
   "cell_type": "code",
   "execution_count": null,
   "metadata": {},
   "outputs": [],
   "source": [
    "## generate rp \n",
    "min_leaf = 250\n",
    "max_depth = 25\n",
    "\n",
    "\n",
    "rp_mat = []\n",
    "for i in range(max_depth):\n",
    "    rp_mat.append(np.random.normal(size = (sca.data.mtx.shape[1],1)).flatten())\n",
    "\n",
    "rp_mat = np.asarray(rp_mat)\n",
    "rp_mat.shape\n",
    "\n",
    "tree = rp.StepTree(sca.data.mtx,rp_mat)\n",
    "tree.build_tree(min_leaf,max_depth)\n",
    "bulkd = tree.make_bulk()\n",
    "print(len(bulkd))\n",
    "sum = 0\n",
    "for k in bulkd.keys(): sum += len(bulkd[k])\n",
    "print(sum)\n",
    "\n",
    "\n",
    "bulk = {}\n",
    "for key, value in bulkd.items(): \n",
    "    bulk[key] = np.asarray(sca.data.mtx[value].sum(0))[0]\n",
    "pd.DataFrame.from_dict(bulk,orient='index').to_csv(fn+\"_rp_bulk.csv.gz\",compression='gzip',index=False)"
   ]
  },
  {
   "cell_type": "markdown",
   "metadata": {},
   "source": [
    "Validation of bulk data"
   ]
  },
  {
   "cell_type": "code",
   "execution_count": null,
   "metadata": {},
   "outputs": [],
   "source": [
    "bulk_index = {}\n",
    "for key, value in bulkd.items(): \n",
    "    bulk_index[key] = value\n",
    "\n",
    "df_index = pd.DataFrame.from_dict(bulk_index,orient='index')\n",
    "df_index.to_csv(fn+\"_rp_bulk_index.csv.gz\",compression='gzip',index=False)\n",
    "df_index.shape\n"
   ]
  },
  {
   "cell_type": "code",
   "execution_count": null,
   "metadata": {},
   "outputs": [],
   "source": [
    "df_gt = pd.read_csv(fn+'_metadata.csv.gz')\n",
    "df_index = pd.read_csv(fn+\"_rp_bulk_index.csv.gz\")\n",
    "cell_topic_assignment = []\n",
    "for indx,row in df_index.iterrows():\n",
    "    for i in row[pd.Series(row).notna()].values:\n",
    "        i = int(i)\n",
    "        cell_topic_assignment.append([ indx, df_gt.loc[i,'cell'],df_gt.loc[i,'label']])\n",
    "df_rp = pd.DataFrame(cell_topic_assignment,columns=['tree_leaf','cell','label'])\n",
    "df_match = pd.DataFrame(contingency_matrix(df_rp.tree_leaf,df_rp.label))\n",
    "df_match = df_match.div(df_match.sum(axis=1), axis=0)\n",
    "sns.displot(df_match.max(1).values,bins=10)\n",
    "plt.xlabel('Proportion of cell type')\n",
    "plt.ylabel('Pseudobulk count')"
   ]
  },
  {
   "cell_type": "code",
   "execution_count": null,
   "metadata": {},
   "outputs": [],
   "source": [
    "#positive control \n",
    "\n",
    "df_scanpy = pd.read_csv(fn+'_scanpy_label.csv.gz')\n",
    "df_join = pd.merge(df_scanpy,df_gt,on='cell',how='left')\n",
    "df_scmatch = pd.DataFrame(contingency_matrix(df_join.label_x,df_join.label_y))\n",
    "df_scmatch = df_scmatch.div(df_scmatch.sum(axis=1), axis=0)\n",
    "sns.displot(df_scmatch.max(1).values,bins=10)\n",
    "plt.xlabel('Proportion of cell type')\n",
    "plt.ylabel('Leiden group count')"
   ]
  },
  {
   "cell_type": "code",
   "execution_count": null,
   "metadata": {},
   "outputs": [],
   "source": [
    "arr = np.arange(sca.data.mtx.shape[0])\n",
    "np.random.shuffle(arr)\n",
    "n=848\n",
    "df_index_r = pd.DataFrame([arr[i:i + n] for i in range(0, len(arr), n)])\n",
    "df_index_r = df_index_r.T\n",
    "cell_topic_assignment = []\n",
    "for indx,row in df_index_r.iterrows():\n",
    "    for i in row[pd.Series(row).notna()].values:\n",
    "        cell_topic_assignment.append([ indx, df_gt.loc[i,'cell'],df_gt.loc[i,'label']])\n",
    "df_r = pd.DataFrame(cell_topic_assignment,columns=['tree_leaf','cell','label'])\n",
    "df_rmatch = pd.DataFrame(contingency_matrix(df_r.tree_leaf,df_r.label))\n",
    "df_rmatch = df_rmatch.div(df_rmatch.sum(axis=1), axis=0)\n",
    "sns.displot(df_rmatch.max(1).values,bins=10)\n",
    "plt.xlabel('Proportion of cell type')\n",
    "plt.ylabel('Random group count')"
   ]
  },
  {
   "cell_type": "code",
   "execution_count": null,
   "metadata": {},
   "outputs": [],
   "source": [
    "dfrows = pd.DataFrame(sca.data.rows,columns=['cell'])\n",
    "dfjoin = pd.merge(dfrows,df_rp,how='left',on='cell')\n",
    "dfjoin"
   ]
  },
  {
   "cell_type": "code",
   "execution_count": null,
   "metadata": {},
   "outputs": [],
   "source": [
    "from sklearn.metrics import silhouette_score,calinski_harabasz_score,davies_bouldin_score\n",
    "\n",
    "print(davies_bouldin_score(sca.data.mtx,dfjoin.label))"
   ]
  }
 ],
 "metadata": {
  "kernelspec": {
   "display_name": "Python 3.9.9 ('ssubedi')",
   "language": "python",
   "name": "python3"
  },
  "language_info": {
   "codemirror_mode": {
    "name": "ipython",
    "version": 3
   },
   "file_extension": ".py",
   "mimetype": "text/x-python",
   "name": "python",
   "nbconvert_exporter": "python",
   "pygments_lexer": "ipython3",
   "version": "3.9.9 | packaged by conda-forge | (main, Dec 20 2021, 02:41:03) \n[GCC 9.4.0]"
  },
  "orig_nbformat": 4,
  "vscode": {
   "interpreter": {
    "hash": "456174486433d0df38b6c3d43662f9cf9ff34eb8be065c50f397edd6e06d981c"
   }
  }
 },
 "nbformat": 4,
 "nbformat_minor": 2
}
