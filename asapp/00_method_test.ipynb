{
 "cells": [
  {
   "cell_type": "code",
   "execution_count": null,
   "metadata": {},
   "outputs": [],
   "source": [
    "import pandas as pd\n",
    "import numpy as np\n",
    "import matplotlib.pylab as plt\n",
    "import seaborn as sns\n",
    "import warnings\n",
    "warnings.filterwarnings(\"ignore\")\n"
   ]
  },
  {
   "cell_type": "code",
   "execution_count": null,
   "metadata": {},
   "outputs": [],
   "source": [
    "from numpy.random import normal\n",
    "np.random.seed(37)\n",
    "\n",
    "\n",
    "M = 10000\n",
    "X = np.hstack([\n",
    "    normal(0.0, 1.0, M).reshape(M, 1),\n",
    "    normal(0.0, 1.0, M).reshape(M, 1),\n",
    "    normal(0.0, 1.0, M).reshape(M, 1)\n",
    "])\n",
    "z = np.dot(X, np.array([0.15, 0.5, 0.2])) + 2.0 + normal(0.0, 0.01, M)\n",
    "y = np.exp(z)"
   ]
  },
  {
   "cell_type": "code",
   "execution_count": null,
   "metadata": {},
   "outputs": [],
   "source": [
    "import _glm\n",
    "import importlib\n",
    "importlib.reload(_glm)\n",
    "beta,llik = _glm.poissonr_optimizer(X,y,1000)\n",
    "print(beta)\n",
    "llik\n",
    "sns.scatterplot(range(len(llik)),llik)\n"
   ]
  },
  {
   "cell_type": "code",
   "execution_count": null,
   "metadata": {},
   "outputs": [],
   "source": [
    "from sklearn import linear_model\n",
    "clf = linear_model.PoissonRegressor(fit_intercept=True)\n",
    "clf.fit(X, y)\n",
    "clf.coef_,clf.intercept_\n"
   ]
  },
  {
   "cell_type": "code",
   "execution_count": null,
   "metadata": {},
   "outputs": [],
   "source": [
    "from numpy.random import normal\n",
    "from scipy.stats import bernoulli\n",
    "np.random.seed(37)\n",
    "\n",
    "\n",
    "M = 10000\n",
    "X = np.hstack([\n",
    "    normal(0.0, 1.0, M).reshape(M, 1),\n",
    "    normal(0.0, 1.0, M).reshape(M, 1),\n",
    "    normal(0.0, 1.0, M).reshape(M, 1)\n",
    "])\n",
    "z = np.dot(X, np.array([0.15, 0.5, 0.2])) + 2.0 + normal(0.0, 0.01, M)\n",
    "y = np.array([ bernoulli.rvs(p) for p in 1/(1 + np.exp(-z))])"
   ]
  },
  {
   "cell_type": "code",
   "execution_count": null,
   "metadata": {},
   "outputs": [],
   "source": [
    "from sklearn.linear_model import LogisticRegression\n",
    "clf = LogisticRegression(random_state=0).fit(X, y)\n",
    "clf.coef_,clf.intercept_"
   ]
  },
  {
   "cell_type": "code",
   "execution_count": null,
   "metadata": {},
   "outputs": [],
   "source": [
    "import _glm\n",
    "import importlib\n",
    "importlib.reload(_glm)\n",
    "beta,llik = _glm.lr_optimizer(X,y,20)\n",
    "print(beta)\n",
    "print(llik)\n",
    "sns.scatterplot(range(len(llik)),llik)"
   ]
  },
  {
   "attachments": {},
   "cell_type": "markdown",
   "metadata": {},
   "source": [
    "Test ppca code"
   ]
  },
  {
   "cell_type": "code",
   "execution_count": null,
   "metadata": {},
   "outputs": [],
   "source": [
    "import pandas as pd \n",
    "import numpy as np\n",
    "from sklearn.decomposition import PCA\n",
    "from sklearn.datasets import load_iris\n",
    "data = load_iris()\n",
    "X,y= data['data'],data['target']\n",
    "pca = PCA(n_components=2)\n",
    "pca.fit(X)\n",
    "\n",
    "print(pca.explained_variance_ratio_)\n",
    "\n",
    "print(pca.singular_values_)\n",
    "\n"
   ]
  },
  {
   "cell_type": "code",
   "execution_count": null,
   "metadata": {},
   "outputs": [],
   "source": [
    "import _ppca\n",
    "import importlib\n",
    "importlib.reload(_ppca)\n",
    "\n",
    "W = _ppca.ppca(X,2,'eigen',n_iter=200)\n",
    "dfw = pd.DataFrame(W)"
   ]
  },
  {
   "cell_type": "code",
   "execution_count": null,
   "metadata": {},
   "outputs": [],
   "source": [
    "import matplotlib.pylab as plt\n",
    "import seaborn as sns\n",
    "import pandas as pd\n",
    "\n",
    "sns.scatterplot(dfw.iloc[:,0],dfw.iloc[:,1])"
   ]
  }
 ],
 "metadata": {
  "kernelspec": {
   "display_name": "Python 3.9.9 ('ssubedi')",
   "language": "python",
   "name": "python3"
  },
  "language_info": {
   "codemirror_mode": {
    "name": "ipython",
    "version": 3
   },
   "file_extension": ".py",
   "mimetype": "text/x-python",
   "name": "python",
   "nbconvert_exporter": "python",
   "pygments_lexer": "ipython3",
   "version": "3.9.9 | packaged by conda-forge | (main, Dec 20 2021, 02:41:03) \n[GCC 9.4.0]"
  },
  "orig_nbformat": 4,
  "vscode": {
   "interpreter": {
    "hash": "456174486433d0df38b6c3d43662f9cf9ff34eb8be065c50f397edd6e06d981c"
   }
  }
 },
 "nbformat": 4,
 "nbformat_minor": 2
}
