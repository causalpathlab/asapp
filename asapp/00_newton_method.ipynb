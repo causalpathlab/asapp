{
 "cells": [
  {
   "cell_type": "code",
   "execution_count": 48,
   "metadata": {},
   "outputs": [],
   "source": [
    "import pandas as pd\n",
    "import numpy as np\n",
    "import matplotlib.pylab as plt\n",
    "import seaborn as sns\n",
    "import warnings\n",
    "warnings.filterwarnings(\"ignore\")\n"
   ]
  },
  {
   "cell_type": "code",
   "execution_count": 49,
   "metadata": {},
   "outputs": [],
   "source": [
    "from numpy.random import normal\n",
    "np.random.seed(37)\n",
    "\n",
    "\n",
    "M = 10000\n",
    "X = np.hstack([\n",
    "    normal(0.0, 1.0, M).reshape(M, 1),\n",
    "    normal(0.0, 1.0, M).reshape(M, 1),\n",
    "    normal(0.0, 1.0, M).reshape(M, 1)\n",
    "])\n",
    "z = np.dot(X, np.array([0.15, 0.5, 0.2])) + 2.0 + normal(0.0, 0.01, M)\n",
    "y = np.exp(z)"
   ]
  },
  {
   "cell_type": "code",
   "execution_count": 50,
   "metadata": {},
   "outputs": [
    {
     "name": "stdout",
     "output_type": "stream",
     "text": [
      "[1.99996534 0.14999278 0.49976397 0.20017282]\n"
     ]
    },
    {
     "data": {
      "text/plain": [
       "<AxesSubplot:>"
      ]
     },
     "execution_count": 50,
     "metadata": {},
     "output_type": "execute_result"
    },
    {
     "data": {
      "image/png": "[encoded data removed]",
      "text/plain": [
       "<Figure size 432x288 with 1 Axes>"
      ]
     },
     "metadata": {
      "needs_background": "light"
     },
     "output_type": "display_data"
    }
   ],
   "source": [
    "import _glm\n",
    "import importlib\n",
    "importlib.reload(_glm)\n",
    "beta,llik = _glm.poissonr_optimizer(X,y,1000)\n",
    "print(beta)\n",
    "llik\n",
    "sns.scatterplot(range(len(llik)),llik)\n"
   ]
  },
  {
   "cell_type": "code",
   "execution_count": 51,
   "metadata": {},
   "outputs": [
    {
     "data": {
      "text/plain": [
       "(array([0.13554465, 0.44964595, 0.17958408]), 2.0302357295140374)"
      ]
     },
     "execution_count": 51,
     "metadata": {},
     "output_type": "execute_result"
    }
   ],
   "source": [
    "from sklearn import linear_model\n",
    "clf = linear_model.PoissonRegressor(fit_intercept=True)\n",
    "clf.fit(X, y)\n",
    "clf.coef_,clf.intercept_\n"
   ]
  },
  {
   "cell_type": "code",
   "execution_count": 52,
   "metadata": {},
   "outputs": [],
   "source": [
    "from numpy.random import normal\n",
    "from scipy.stats import bernoulli\n",
    "np.random.seed(37)\n",
    "\n",
    "\n",
    "M = 10000\n",
    "X = np.hstack([\n",
    "    normal(0.0, 1.0, M).reshape(M, 1),\n",
    "    normal(0.0, 1.0, M).reshape(M, 1),\n",
    "    normal(0.0, 1.0, M).reshape(M, 1)\n",
    "])\n",
    "z = np.dot(X, np.array([0.15, 0.5, 0.2])) + 2.0 + normal(0.0, 0.01, M)\n",
    "y = np.array([ bernoulli.rvs(p) for p in 1/(1 + np.exp(-z))])"
   ]
  },
  {
   "cell_type": "code",
   "execution_count": 53,
   "metadata": {},
   "outputs": [
    {
     "data": {
      "text/plain": [
       "(array([[0.09258814, 0.45523283, 0.19295505]]), array([2.02078226]))"
      ]
     },
     "execution_count": 53,
     "metadata": {},
     "output_type": "execute_result"
    }
   ],
   "source": [
    "from sklearn.linear_model import LogisticRegression\n",
    "clf = LogisticRegression(random_state=0).fit(X, y)\n",
    "clf.coef_,clf.intercept_"
   ]
  },
  {
   "cell_type": "code",
   "execution_count": 54,
   "metadata": {},
   "outputs": [
    {
     "name": "stdout",
     "output_type": "stream",
     "text": [
      "[2.02096359 0.09268011 0.45568358 0.19314621]\n",
      "[0.38466390472253204, 0.3685063647671678, 0.36774863250640477, 0.36774514901141425, 0.3677451489246439, 0.36774514892464394]\n"
     ]
    },
    {
     "data": {
      "text/plain": [
       "<AxesSubplot:>"
      ]
     },
     "execution_count": 54,
     "metadata": {},
     "output_type": "execute_result"
    },
    {
     "data": {
      "image/png": "[encoded data removed]",
      "text/plain": [
       "<Figure size 432x288 with 1 Axes>"
      ]
     },
     "metadata": {
      "needs_background": "light"
     },
     "output_type": "display_data"
    }
   ],
   "source": [
    "import _glm\n",
    "import importlib\n",
    "importlib.reload(_glm)\n",
    "beta,llik = _glm.lr_optimizer(X,y,20)\n",
    "print(beta)\n",
    "print(llik)\n",
    "sns.scatterplot(range(len(llik)),llik)"
   ]
  },
  {
   "cell_type": "code",
   "execution_count": 4,
   "metadata": {},
   "outputs": [],
   "source": [
    "import numpy as np\n",
    "import pandas as pd\n",
    "from numpy.random import normal\n",
    "np.random.seed(37)\n",
    "dfht = pd.DataFrame([\n",
    "[0.8,0.15,0.05],\n",
    "[0.75,0.15,0.1],\n",
    "[0.15,0.05,0.8],\n",
    "[0.05,0.8,0.15],\n",
    "])\n",
    "\n",
    "a = list(normal(5,1,10)) + list(normal(1,1,10)) + list(normal(1,1,10))\n",
    "b = list(normal(1,1,10)) + list(normal(1,1,10)) + list(normal(5,1,10))\n",
    "c = list(normal(1,1,10)) + list(normal(5,1,10)) + list(normal(1,1,10))\n",
    "dfwt = pd.DataFrame([a,b,c])\n",
    "\n",
    "\n",
    "dfy = pd.DataFrame(np.dot(dfwt.T.to_numpy(),dfht.T.to_numpy()))"
   ]
  },
  {
   "cell_type": "code",
   "execution_count": 7,
   "metadata": {},
   "outputs": [],
   "source": [
    "from sklearn.decomposition import NMF\n",
    "model = NMF(n_components=3, init='random', random_state=0)\n",
    "W = model.fit_transform(np.exp(dfy.to_numpy()))\n",
    "H = model.components_"
   ]
  },
  {
   "cell_type": "code",
   "execution_count": 10,
   "metadata": {},
   "outputs": [
    {
     "data": {
      "text/plain": [
       "<AxesSubplot:>"
      ]
     },
     "execution_count": 10,
     "metadata": {},
     "output_type": "execute_result"
    },
    {
     "data": {
      "image/png": "[encoded data removed]",
      "text/plain": [
       "<Figure size 432x288 with 2 Axes>"
      ]
     },
     "metadata": {
      "needs_background": "light"
     },
     "output_type": "display_data"
    }
   ],
   "source": [
    "import matplotlib.pylab as plt\n",
    "import seaborn as sns\n",
    "\n",
    "sns.heatmap(H)"
   ]
  },
  {
   "cell_type": "code",
   "execution_count": 9,
   "metadata": {},
   "outputs": [
    {
     "data": {
      "text/plain": [
       "<AxesSubplot:>"
      ]
     },
     "execution_count": 9,
     "metadata": {},
     "output_type": "execute_result"
    },
    {
     "data": {
      "image/png": "[encoded data removed]",
      "text/plain": [
       "<Figure size 432x288 with 2 Axes>"
      ]
     },
     "metadata": {
      "needs_background": "light"
     },
     "output_type": "display_data"
    }
   ],
   "source": [
    "sns.heatmap(W)"
   ]
  },
  {
   "cell_type": "markdown",
   "metadata": {},
   "source": [
    "TODO-  recheck code and test\n",
    "\n",
    "### Alternative local Poisson approximation\n",
    "\n",
    "Let $Y_{gb}$ be pseudobulk matrix.\n",
    "\n",
    "$$\\mathbb{E}\\!\\left[Y_{gb}\\right] = \\exp\\left( \\sum_{k} W_{gk} H_{bk} \\right)$$\n",
    "\n",
    "Let $\\eta_{gb} = \\sum_{k} W_{gk} H_{bk}$\n",
    "\n",
    "$$\\sum_{g,b} Y_{gb} \\ln \\eta_{gb} - \\eta_{gb}$$\n",
    "\n",
    "\n",
    "We can construct quadratic approximation from previous $\\tilde{\\eta}$\n",
    "\n",
    "$\\tilde{Y}_{gb} = Y_{gb} -1 + \\tilde{\\eta}_{gb} + \\exp(-\\tilde{\\eta}_{gb})$\n",
    "\n",
    "$\\tilde{w}_{gb} = \\exp(\\tilde{\\eta}_{gb})$\n",
    "\n",
    "Solving for $H$ given $W$:\n",
    "$$\\sum_{g}\\tilde{w}_{gb} \\left( \\tilde{Y}_{gb} - \\sum_{k} W_{gk} H_{bk} \\right)^{2}$$\n",
    "\n",
    "\n",
    "$$H_{bk} \\gets \n",
    "\\frac{\\sum_{g} \\tilde{w}_{gb} (\\tilde{Y} - \\sum_{s \\neq k} W_{gs} H_{bs}) W_{gk}}\n",
    "     {\\sum_{g} \\tilde{w}_{gb} W_{gk}^{2}}$$\n",
    "\n",
    "Solving for $W$ given $H$:\n",
    "\n",
    "$$\\sum_{b}\\tilde{w}_{gb} \\left( \\tilde{Y}_{gb} - \\sum_{k} H_{bk} W_{gk} \\right)^{2}$$\n",
    "\n",
    "\n",
    "$$W_{gk} \\gets \n",
    "\\frac{\\sum_{b} \\tilde{w}_{gb} (\\tilde{Y}_{gb} - \\sum_{s \\neq k} H_{bs} W_{gs} )H_{bk} }\n",
    "     {\\sum_{b} \\tilde{w}_{gb} H_{bk}^{2}}$$\n",
    "\n",
    "\n"
   ]
  },
  {
   "cell_type": "code",
   "execution_count": null,
   "metadata": {},
   "outputs": [],
   "source": [
    "from numpy.random import normal \n",
    "\n",
    "y= np.matrix(df.to_numpy())\n",
    "k = 10\n",
    "g = y.shape[1]\n",
    "b = y.shape[0]\n",
    "W = np.matrix(normal(0.0, 1.0, g * k).reshape(g, k))\n",
    "H = np.matrix(normal(0.0, 1.0, k * b).reshape(k, b))\n",
    "\n",
    "w = np.exp(np.dot(W,H))\n",
    "#update \n",
    "for iter in range(100):\n",
    "    yhat = np.dot(W,H)\n",
    "    \n",
    "    for ki in range(k):\n",
    "\n",
    "        yhat_k = np.dot(W[:,ki],H[ki,:])\n",
    "        yhat_ex_k = yhat - yhat_k\n",
    "        res = y.T - yhat_ex_k    \n",
    "        res_gb = np.multiply(res,w)\n",
    "        res_kb = np.dot(W[:,ki].T,res_gb)\n",
    "        res_allk = np.dot(np.square(W[:,ki]).T,w)\n",
    "        H[ki,:] =  res_kb / res_allk\n",
    "\n",
    "    for ki in range(k):\n",
    "\n",
    "\n",
    "        yhat_k = np.dot(W[:,ki],H[ki,:])\n",
    "        yhat_ex_k = yhat - yhat_k\n",
    "        res = y.T - yhat_ex_k\n",
    "        res_gb = np.multiply(res,w)\n",
    "        res_kg = np.dot(H[ki,:],res_gb.T)\n",
    "        res_allk = np.dot(np.square(H[ki,:]),w.T)\n",
    "        W[:,ki] =  (res_kg / res_allk).T\n"
   ]
  }
 ],
 "metadata": {
  "kernelspec": {
   "display_name": "Python 3.9.9 ('ssubedi')",
   "language": "python",
   "name": "python3"
  },
  "language_info": {
   "codemirror_mode": {
    "name": "ipython",
    "version": 3
   },
   "file_extension": ".py",
   "mimetype": "text/x-python",
   "name": "python",
   "nbconvert_exporter": "python",
   "pygments_lexer": "ipython3",
   "version": "3.9.9"
  },
  "orig_nbformat": 4,
  "vscode": {
   "interpreter": {
    "hash": "456174486433d0df38b6c3d43662f9cf9ff34eb8be065c50f397edd6e06d981c"
   }
  }
 },
 "nbformat": 4,
 "nbformat_minor": 2
}
