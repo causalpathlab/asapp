{
 "cells": [
  {
   "cell_type": "markdown",
   "metadata": {},
   "source": []
  },
  {
   "cell_type": "markdown",
   "metadata": {},
   "source": [
    "ASAP\n",
    "\n",
    "We will first create a dataset for asap object. The dataset can be created from multiple or single source dataset in H5, H5AD, and MTX format. "
   ]
  },
  {
   "cell_type": "code",
   "execution_count": 3,
   "metadata": {},
   "outputs": [
    {
     "name": "stdout",
     "output_type": "stream",
     "text": [
      "Dataset : BRCA_GSE176078_expression , cells : 89471, genes : 24960\n"
     ]
    }
   ],
   "source": [
    "from asappy.dataprep.read_write import CreateDatasetFromH5 \n",
    "ds = CreateDatasetFromH5('./data/') \n",
    "ds.get_datainfo() "
   ]
  },
  {
   "cell_type": "code",
   "execution_count": 3,
   "metadata": {},
   "outputs": [
    {
     "name": "stdout",
     "output_type": "stream",
     "text": [
      "processing...BRCA_GSE176078_expression\n"
     ]
    }
   ],
   "source": [
    "ds.merge_genes()\n",
    "ds.merge_data('pbmc')"
   ]
  },
  {
   "cell_type": "code",
   "execution_count": null,
   "metadata": {},
   "outputs": [],
   "source": [
    "from asappy.asappy import asap\n",
    "\n",
    "asap_object = asap('pbmc',batch_size= 2500)\n",
    "asap_object.generate_pseudobulk()\n",
    "asap_object.filter_pseudobulk()\n",
    "asap_object.run_nmf()\n",
    "asap_object.save_model()\n"
   ]
  }
 ],
 "metadata": {
  "kernelspec": {
   "display_name": "ssubedi",
   "language": "python",
   "name": "python3"
  },
  "language_info": {
   "codemirror_mode": {
    "name": "ipython",
    "version": 3
   },
   "file_extension": ".py",
   "mimetype": "text/x-python",
   "name": "python",
   "nbconvert_exporter": "python",
   "pygments_lexer": "ipython3",
   "version": "3.9.9"
  },
  "orig_nbformat": 4
 },
 "nbformat": 4,
 "nbformat_minor": 2
}
