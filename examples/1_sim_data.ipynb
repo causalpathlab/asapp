{
 "cells": [
  {
   "cell_type": "code",
   "execution_count": 1,
   "metadata": {},
   "outputs": [
    {
     "name": "stdout",
     "output_type": "stream",
     "text": [
      "/home/BCCRC.CA/ssubedi/projects/experiments/asapp/data/simdata/simdata\n",
      "/home/BCCRC.CA/ssubedi/projects/experiments/asapp/result/simdata/simdata\n"
     ]
    }
   ],
   "source": [
    "import sys\n",
    "sys.path.insert(1, '/home/BCCRC.CA/ssubedi/projects/experiments/asapp/asap/')\n",
    "sys.path.insert(1, '/home/BCCRC.CA/ssubedi/projects/experiments/asapp/asap/python')\n",
    "\n",
    "from util._io import read_config\n",
    "from collections import namedtuple\n",
    "from pathlib import Path\n",
    "import pandas as pd\n",
    "import numpy as np\n",
    "import logging\n",
    "from scannotation import ASAPP\n",
    "from data._dataloader import DataSet\n",
    "from util import _topics\n",
    "\n",
    "\n",
    "import matplotlib.pylab as plt\n",
    "import seaborn as sns\n",
    "import colorcet as cc\n",
    "\n",
    "from data import _sim \n",
    "from scipy import stats\n",
    "from sklearn.metrics import mean_squared_error as mse\n",
    "\n",
    "import joblib\n",
    "\n",
    "experiment = '/projects/experiments/asapp/'\n",
    "server = Path.home().as_posix()\n",
    "experiment_home = server+experiment\n",
    "experiment_config = read_config(experiment_home+'config.yaml')\n",
    "args = namedtuple('Struct',experiment_config.keys())(*experiment_config.values())\n",
    "\n",
    "dl = DataSet(data_mode='sparse',data_ondisk=False)\n",
    "dl.config = args\n",
    "dl.initialize_path()\n",
    "print(dl.inpath)\n",
    "print(dl.outpath)\n",
    "\n",
    "## for sim data\n",
    "N = 1000\n",
    "K = 10\n",
    "P = 2000\n",
    "X = pd.read_csv(dl.inpath+'_X.csv.gz')\n",
    "\n",
    "\n",
    "dl.mtx = np.asmatrix(X)\n",
    "dl.rows = ['c_'+str(i) for i in range(N) ]\n",
    "dl.cols = ['g_'+str(i) for i in range(P) ]\n",
    "\n",
    "logging.basicConfig(filename=dl.outpath+'_model.log',\n",
    "\t\t\t\t\t\tformat='%(asctime)s %(levelname)-8s %(message)s',\n",
    "\t\t\t\t\t\tlevel=logging.INFO,\n",
    "\t\t\t\t\t\tdatefmt='%Y-%m-%d %H:%M:%S')"
   ]
  },
  {
   "cell_type": "code",
   "execution_count": 2,
   "metadata": {},
   "outputs": [
    {
     "data": {
      "text/plain": [
       "(336, 2000)"
      ]
     },
     "execution_count": 2,
     "metadata": {},
     "output_type": "execute_result"
    }
   ],
   "source": [
    "asap = ASAPP(adata=dl)\n",
    "asap.get_pbulk()\n",
    "asap.pbulk_mat.shape"
   ]
  },
  {
   "cell_type": "code",
   "execution_count": null,
   "metadata": {},
   "outputs": [],
   "source": [
    "asap.factorize()"
   ]
  },
  {
   "cell_type": "code",
   "execution_count": null,
   "metadata": {},
   "outputs": [],
   "source": [
    "asap.model.xaux"
   ]
  },
  {
   "cell_type": "code",
   "execution_count": 3,
   "metadata": {},
   "outputs": [],
   "source": [
    "import asapc\n",
    "K = 10\n",
    "nmfm = asapc.ASAPNMFDC(asap.pbulk_mat.T,K)\n",
    "nmf = nmfm.run()"
   ]
  },
  {
   "cell_type": "code",
   "execution_count": 4,
   "metadata": {},
   "outputs": [
    {
     "data": {
      "text/plain": [
       "array([[ 6.8873916, 13.242411 ,  1.7794547, ..., 13.557775 ,  6.494294 ,\n",
       "         7.7222595],\n",
       "       [ 3.7825615,  7.265341 , 10.332585 , ...,  1.2436494,  6.098948 ,\n",
       "         7.522414 ],\n",
       "       [ 4.024631 , 15.689924 , 14.598123 , ...,  0.3916098,  6.9534388,\n",
       "        11.646958 ],\n",
       "       ...,\n",
       "       [ 5.103748 ,  6.7615595,  8.059132 , ...,  6.2478757, 27.933792 ,\n",
       "        16.209389 ],\n",
       "       [ 6.68465  ,  7.065723 ,  7.249892 , ..., 17.800129 , 30.085651 ,\n",
       "        23.369818 ],\n",
       "       [ 4.350777 ,  6.8479633, 15.360726 , ...,  6.7737894, 31.337889 ,\n",
       "         9.508867 ]], dtype=float32)"
      ]
     },
     "execution_count": 4,
     "metadata": {},
     "output_type": "execute_result"
    }
   ],
   "source": [
    "nmf.beta"
   ]
  },
  {
   "cell_type": "code",
   "execution_count": 5,
   "metadata": {},
   "outputs": [
    {
     "data": {
      "text/plain": [
       "<matplotlib.legend.Legend at 0x7ffb93742190>"
      ]
     },
     "execution_count": 5,
     "metadata": {},
     "output_type": "execute_result"
    },
    {
     "data": {
      "image/png": "[encoded data removed]",
      "text/plain": [
       "<Figure size 432x288 with 1 Axes>"
      ]
     },
     "metadata": {
      "needs_background": "light"
     },
     "output_type": "display_data"
    }
   ],
   "source": [
    "plt.plot(nmf.llik_trace,'b',label='llik')\n",
    "plt.legend()"
   ]
  },
  {
   "cell_type": "code",
   "execution_count": null,
   "metadata": {},
   "outputs": [],
   "source": [
    "df_beta = pd.DataFrame(nmf.beta.T)\n",
    "df_beta.columns = dl.cols\n",
    "df_top = _topics.get_topic_top_genes(df_beta.iloc[:,:],top_n=100)\n",
    "df_top = df_top.pivot(index='Topic',columns='Gene',values='Proportion')\n",
    "\n",
    "# df_top[df_top>100] = 100\n",
    "sns.clustermap(df_top.T,cmap='viridis')"
   ]
  },
  {
   "cell_type": "code",
   "execution_count": null,
   "metadata": {},
   "outputs": [],
   "source": [
    "import umap\n",
    "df_sctheta = pd.DataFrame(asap.model.Etheta)\n",
    "df_btheta = pd.DataFrame(asapsc.model.Etheta)\n",
    "df_umap= pd.DataFrame()\n",
    "df_umap['cell'] = dl.rows\n",
    "df_umap['topic_sc'] = [x for x in df_sctheta.iloc[:,1:].idxmax(axis=1)]\n",
    "df_umap['topic_bulk'] = [x for x in df_btheta.iloc[:,1:].idxmax(axis=1)]\n",
    "\n",
    "umap_2d = umap.UMAP(n_components=2, init='random', random_state=0,min_dist=0.0,metric='cosine')\n",
    "proj_2d = umap_2d.fit(df_sctheta.iloc[:,1:])\n",
    "df_umap[['umap1','umap2']] = umap_2d.embedding_[:,[0,1]]\n",
    "df_umap"
   ]
  },
  {
   "cell_type": "code",
   "execution_count": null,
   "metadata": {},
   "outputs": [],
   "source": [
    "cp = sns.color_palette(cc.glasbey_dark, n_colors=len(df_umap['topic_sc'].unique()))\n",
    "p = sns.scatterplot(data=df_umap, x='umap1', y='umap2', hue='topic_sc',s=25,palette=cp,legend=True)\n",
    "plt.legend(title='Topic',title_fontsize=18, fontsize=14,loc='center left', bbox_to_anchor=(1, 0.5))\n",
    "p.axes.set_title(\"topics from scNMF\",fontsize=30)\n",
    "p.set_xlabel(\"UMAP1\",fontsize=20)\n",
    "p.set_ylabel(\"UMAP2\",fontsize=20)"
   ]
  },
  {
   "cell_type": "code",
   "execution_count": null,
   "metadata": {},
   "outputs": [],
   "source": [
    "cp = sns.color_palette(cc.glasbey_dark, n_colors=len(df_umap['topic_bulk'].unique()))\n",
    "p = sns.scatterplot(data=df_umap, x='umap1', y='umap2', hue='topic_bulk',s=25,palette=cp,legend=True)\n",
    "plt.legend(title='Topic',title_fontsize=18, fontsize=14,loc='center left', bbox_to_anchor=(1, 0.5))\n",
    "p.axes.set_title(\"topics from bulkNMF\",fontsize=30)\n",
    "p.set_xlabel(\"UMAP1\",fontsize=20)\n",
    "p.set_ylabel(\"UMAP2\",fontsize=20)"
   ]
  },
  {
   "cell_type": "code",
   "execution_count": null,
   "metadata": {},
   "outputs": [],
   "source": [
    "df_scbeta = pd.DataFrame(asap.model.Ebeta)\n",
    "df_bbeta = pd.DataFrame(asapsc.model.Ebeta)\n",
    "\n",
    "\n",
    "sel_top_genes = list(np.unique(_topics.get_topic_top_genes(df_scbeta.iloc[:,1:],top_n=10)['Gene'].values))\n",
    "K=10\n",
    "corr=[]\n",
    "for i in range(K):\n",
    "    cr = []\n",
    "    for j in range(K):\n",
    "        cr.append(np.corrcoef(df_bbeta.loc[i,sel_top_genes],df_scbeta.loc[j,sel_top_genes])[0,1])\n",
    "    corr.append(cr)\n",
    "sns.clustermap(corr)\n",
    "plt.xlabel('sc')\n",
    "plt.ylabel('bulk')"
   ]
  },
  {
   "cell_type": "code",
   "execution_count": null,
   "metadata": {},
   "outputs": [],
   "source": [
    "df_top = _topics.get_topic_top_genes(df_scbeta.iloc[:,1:],top_n=100)\n",
    "df_top = df_top.pivot(index='Topic',columns='Gene',values='Proportion')\n",
    "sns.clustermap(df_top.T,cmap='viridis')\n",
    "\n"
   ]
  },
  {
   "cell_type": "code",
   "execution_count": null,
   "metadata": {},
   "outputs": [],
   "source": [
    "df_top = _topics.get_topic_top_genes(df_bbeta.iloc[:,1:],top_n=100)\n",
    "df_top = df_top.pivot(index='Topic',columns='Gene',values='Proportion')\n",
    "sns.clustermap(df_top.T,cmap='viridis')"
   ]
  }
 ],
 "metadata": {
  "kernelspec": {
   "display_name": "Python 3.9.9 ('ssubedi')",
   "language": "python",
   "name": "python3"
  },
  "language_info": {
   "codemirror_mode": {
    "name": "ipython",
    "version": 3
   },
   "file_extension": ".py",
   "mimetype": "text/x-python",
   "name": "python",
   "nbconvert_exporter": "python",
   "pygments_lexer": "ipython3",
   "version": "3.9.9"
  },
  "orig_nbformat": 4,
  "vscode": {
   "interpreter": {
    "hash": "456174486433d0df38b6c3d43662f9cf9ff34eb8be065c50f397edd6e06d981c"
   }
  }
 },
 "nbformat": 4,
 "nbformat_minor": 2
}
