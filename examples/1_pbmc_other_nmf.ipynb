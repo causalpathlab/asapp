{
 "cells": [
  {
   "cell_type": "code",
   "execution_count": 1,
   "metadata": {},
   "outputs": [],
   "source": [
    "from asap.util.io import read_config\n",
    "from collections import namedtuple\n",
    "from pathlib import Path\n",
    "import pandas as pd\n",
    "import numpy as np\n",
    "from asap.data.dataloader import DataSet\n",
    "from asap.annotation import ASAPNMF\n",
    "from asap.util import topics\n",
    "import matplotlib.pylab as plt\n",
    "import seaborn as sns\n",
    "from sklearn.preprocessing import StandardScaler\n",
    "import logging\n",
    "\n",
    "experiment = '/projects/experiments/asapp/'\n",
    "server = Path.home().as_posix()\n",
    "experiment_home = server+experiment\n",
    "experiment_config = read_config(experiment_home+'config.yaml')\n",
    "args = namedtuple('Struct',experiment_config.keys())(*experiment_config.values())\n",
    "\n",
    "sample_in = args.home + args.experiment + args.input+ args.sample_id +'/'+args.sample_id\n",
    "sample_out = args.home + args.experiment + args.output+ args.sample_id +'/'+args.sample_id\n",
    "\n",
    "\n",
    "logging.basicConfig(filename=sample_out+'_model.log',\n",
    "                        format='%(asctime)s %(levelname)-8s %(message)s',\n",
    "                        level=logging.INFO,\n",
    "                        datefmt='%Y-%m-%d %H:%M:%S')\n",
    "\n",
    "tree_max_depth = 10\n",
    "num_factors = 10\n",
    "batch_size = 10000\n",
    "batch_iteration = 1\n",
    "downsample_pseudobulk = False\n",
    "downsample_size = 10\n",
    "\n",
    "dl = DataSet(sample_in,sample_out)\n",
    "sample_list = dl.get_samplenames()\n",
    "dl.initialize_data(sample_list,batch_size)\n",
    "asap = ASAPNMF(dl,tree_max_depth,num_factors,downsample_pseudobulk,downsample_size)\n",
    "asap.method\n",
    "\n",
    "X_rows = dl.mtx.shape[0]\n",
    "tree_max_depth = 10\n",
    "\n",
    "rp_mat = []\n",
    "for _ in range(tree_max_depth):\n",
    "    rp_mat.append(np.random.normal(size = (X_rows,1)).flatten())                      \n",
    "rp_mat = np.asarray(rp_mat)\n",
    "pbulk=asap.generate_pbulk_mat(asap.adata.mtx,rp_mat,asap.adata.batch_label)\n",
    "\n",
    "\n"
   ]
  },
  {
   "cell_type": "code",
   "execution_count": 2,
   "metadata": {},
   "outputs": [
    {
     "data": {
      "text/plain": [
       "(36511, 502)"
      ]
     },
     "execution_count": 2,
     "metadata": {},
     "output_type": "execute_result"
    }
   ],
   "source": [
    "pbulk.shape"
   ]
  },
  {
   "cell_type": "code",
   "execution_count": 12,
   "metadata": {},
   "outputs": [
    {
     "data": {
      "text/plain": [
       "(502, 502)"
      ]
     },
     "execution_count": 12,
     "metadata": {},
     "output_type": "execute_result"
    }
   ],
   "source": [
    "u, _, _ = np.linalg.svd(pbulk.T,full_matrices=False)\n",
    "u.shape"
   ]
  },
  {
   "cell_type": "code",
   "execution_count": 13,
   "metadata": {},
   "outputs": [
    {
     "name": "stdout",
     "output_type": "stream",
     "text": [
      "iteration 1: 7.238817024922083\n",
      "iteration 2: 6.972442624108431\n",
      "iteration 3: 6.8670759095496505\n",
      "iteration 4: 6.7986278832477565\n",
      "iteration 5: 6.755108254941799\n",
      "iteration 6: 6.7295939815012895\n",
      "iteration 7: 6.71373178656485\n",
      "iteration 8: 6.702732602824796\n",
      "iteration 9: 6.694520144455281\n",
      "iteration 10: 6.689276881828875\n",
      "iteration 11: 6.68524326395858\n",
      "iteration 12: 6.681612640847952\n",
      "iteration 13: 6.6786393080973\n",
      "iteration 14: 6.6763281200654125\n",
      "iteration 15: 6.674346268982615\n",
      "iteration 16: 6.672728063027185\n",
      "iteration 17: 6.67094337718045\n",
      "iteration 18: 6.669156270544016\n",
      "iteration 19: 6.667412442954309\n",
      "iteration 20: 6.6659057733071405\n",
      "iteration 21: 6.665143861186895\n",
      "iteration 22: 6.6645523981856805\n",
      "iteration 23: 6.664019378734815\n",
      "iteration 24: 6.6633963648646715\n",
      "iteration 25: 6.66267096873835\n"
     ]
    }
   ],
   "source": [
    "from asap.model import nmf\n",
    "mu = nmf.als(u[:,:50],10,25)"
   ]
  },
  {
   "cell_type": "code",
   "execution_count": 14,
   "metadata": {},
   "outputs": [
    {
     "data": {
      "text/plain": [
       "<seaborn.matrix.ClusterGrid at 0x7f71e313e7f0>"
      ]
     },
     "execution_count": 14,
     "metadata": {},
     "output_type": "execute_result"
    },
    {
     "data": {
      "image/png": "[encoded data removed]",
      "text/plain": [
       "<Figure size 720x720 with 4 Axes>"
      ]
     },
     "metadata": {
      "needs_background": "light"
     },
     "output_type": "display_data"
    }
   ],
   "source": [
    "df_beta = pd.DataFrame(mu['H'])\n",
    "df_beta.shape\n",
    "df_top = topics.get_topic_top_genes(df_beta.iloc[:,:],top_n=50)\n",
    "df_top = df_top.pivot(index='Topic',columns='Gene',values='Proportion')\n",
    "# df_top[df_top>20] = 20\n",
    "sns.clustermap(df_top.T,cmap='viridis')"
   ]
  },
  {
   "cell_type": "code",
   "execution_count": null,
   "metadata": {},
   "outputs": [],
   "source": [
    "mu = nmf.als(d.T,10,100)"
   ]
  }
 ],
 "metadata": {
  "kernelspec": {
   "display_name": "ssubedi",
   "language": "python",
   "name": "python3"
  },
  "language_info": {
   "codemirror_mode": {
    "name": "ipython",
    "version": 3
   },
   "file_extension": ".py",
   "mimetype": "text/x-python",
   "name": "python",
   "nbconvert_exporter": "python",
   "pygments_lexer": "ipython3",
   "version": "3.9.9"
  },
  "orig_nbformat": 4
 },
 "nbformat": 4,
 "nbformat_minor": 2
}
