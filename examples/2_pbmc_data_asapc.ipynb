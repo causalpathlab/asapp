{
 "cells": [
  {
   "cell_type": "code",
   "execution_count": 1,
   "metadata": {},
   "outputs": [
    {
     "name": "stdout",
     "output_type": "stream",
     "text": [
      "/home/BCCRC.CA/ssubedi/projects/experiments/asapp/data/pbmc/pbmc\n",
      "/home/BCCRC.CA/ssubedi/projects/experiments/asapp/result/pbmc/pbmc\n"
     ]
    }
   ],
   "source": [
    "import sys\n",
    "sys.path.insert(1, '/home/BCCRC.CA/ssubedi/projects/experiments/asapp/asap/python')\n",
    "sys.path.insert(1, '/home/BCCRC.CA/ssubedi/projects/experiments/asapp/asap')\n",
    "\n",
    "from util._io import read_config\n",
    "from collections import namedtuple\n",
    "from pathlib import Path\n",
    "import pandas as pd\n",
    "import numpy as np\n",
    "import logging\n",
    "from scannotation import ASAPP\n",
    "import asapc \n",
    "from data._dataloader import DataSet\n",
    "from util import _topics\n",
    "\n",
    "\n",
    "import matplotlib.pylab as plt\n",
    "import seaborn as sns\n",
    "import colorcet as cc\n",
    "\n",
    "from data import _sim \n",
    "from scipy import stats\n",
    "from sklearn.metrics import mean_squared_error as mse\n",
    "\n",
    "import joblib\n",
    "\n",
    "experiment = '/projects/experiments/asapp/'\n",
    "server = Path.home().as_posix()\n",
    "experiment_home = server+experiment\n",
    "experiment_config = read_config(experiment_home+'config.yaml')\n",
    "args = namedtuple('Struct',experiment_config.keys())(*experiment_config.values())\n",
    "\n",
    "dl = DataSet(data_mode='sparse',data_ondisk=False)\n",
    "dl.config = args\n",
    "dl.initialize_path()\n",
    "dl.initialize_data()\n",
    "print(dl.inpath)\n",
    "print(dl.outpath)\n"
   ]
  },
  {
   "cell_type": "code",
   "execution_count": 2,
   "metadata": {},
   "outputs": [],
   "source": [
    "dl.load_data()\n",
    "asap = ASAPP(adata=dl)\n",
    "asap.get_pbulk()"
   ]
  },
  {
   "cell_type": "code",
   "execution_count": 3,
   "metadata": {},
   "outputs": [
    {
     "data": {
      "text/plain": [
       "(573, 13745)"
      ]
     },
     "execution_count": 3,
     "metadata": {},
     "output_type": "execute_result"
    }
   ],
   "source": [
    "asap.pbulk_mat.shape"
   ]
  },
  {
   "cell_type": "code",
   "execution_count": 4,
   "metadata": {},
   "outputs": [],
   "source": [
    "\n",
    "K = 10\n",
    "nmfm = asapc.ASAPNMFDC(asap.pbulk_mat.T,K)\n",
    "nmf = nmfm.run()"
   ]
  },
  {
   "cell_type": "code",
   "execution_count": 6,
   "metadata": {},
   "outputs": [
    {
     "data": {
      "text/plain": [
       "<matplotlib.legend.Legend at 0x7f7851b7b220>"
      ]
     },
     "execution_count": 6,
     "metadata": {},
     "output_type": "execute_result"
    },
    {
     "data": {
      "image/png": "[encoded data removed]",
      "text/plain": [
       "<Figure size 432x288 with 1 Axes>"
      ]
     },
     "metadata": {
      "needs_background": "light"
     },
     "output_type": "display_data"
    }
   ],
   "source": [
    "plt.plot(nmf.C,'b',label='llik')\n",
    "plt.legend()"
   ]
  },
  {
   "cell_type": "code",
   "execution_count": 9,
   "metadata": {},
   "outputs": [
    {
     "data": {
      "text/plain": [
       "(13745, 10)"
      ]
     },
     "execution_count": 9,
     "metadata": {},
     "output_type": "execute_result"
    }
   ],
   "source": [
    "nmf.A.shape"
   ]
  },
  {
   "cell_type": "code",
   "execution_count": 7,
   "metadata": {},
   "outputs": [
    {
     "name": "stderr",
     "output_type": "stream",
     "text": [
      "/home/BCCRC.CA/ssubedi/.conda/envs/ssubedi/lib/python3.9/site-packages/seaborn/matrix.py:717: UserWarning: Attempting to set identical bottom == top == 0 results in singular transformations; automatically expanding.\n",
      "  ax.set_ylim(0, max_dependent_coord * 1.05)\n"
     ]
    },
    {
     "data": {
      "text/plain": [
       "<seaborn.matrix.ClusterGrid at 0x7f7851b7b040>"
      ]
     },
     "execution_count": 7,
     "metadata": {},
     "output_type": "execute_result"
    },
    {
     "data": {
      "image/png": "[encoded data removed]",
      "text/plain": [
       "<Figure size 720x720 with 4 Axes>"
      ]
     },
     "metadata": {
      "needs_background": "light"
     },
     "output_type": "display_data"
    }
   ],
   "source": [
    "df_beta = pd.DataFrame(nmf.A.T)\n",
    "df_beta.columns = dl.cols\n",
    "df_top = _topics.get_topic_top_genes(df_beta.iloc[:,:],top_n=10)\n",
    "df_top = df_top.pivot(index='Topic',columns='Gene',values='Proportion')\n",
    "\n",
    "# df_top[df_top>100] = 100\n",
    "sns.clustermap(df_top.T,cmap='viridis')"
   ]
  },
  {
   "cell_type": "code",
   "execution_count": null,
   "metadata": {},
   "outputs": [],
   "source": [
    "regm = asapc.ASAPREG(dl.mtx.T,nmf.beta)\n",
    "reg = regm.regress()"
   ]
  },
  {
   "cell_type": "code",
   "execution_count": null,
   "metadata": {},
   "outputs": [],
   "source": [
    "# beta = nmf.beta\n",
    "# theta = reg.B\n",
    "# uu = beta.sum(0)\n",
    "# beta = beta/uu\n",
    "# prop = theta * uu\n",
    "# zz = prop.T.sum(0).reshape(theta.shape[0],1)\n",
    "# prop = prop/zz\n"
   ]
  },
  {
   "cell_type": "code",
   "execution_count": null,
   "metadata": {},
   "outputs": [],
   "source": [
    "reg.corr"
   ]
  },
  {
   "cell_type": "code",
   "execution_count": null,
   "metadata": {},
   "outputs": [],
   "source": [
    "import umap\n",
    "\n",
    "df_pl = pd.read_csv(dl.outpath+'_prior_label.csv.gz')\n",
    "\n",
    "df_theta = pd.DataFrame(reg.corr)\n",
    "df_umap= pd.DataFrame()\n",
    "df_umap['cell'] = dl.rows\n",
    "df_umap['topic'] = [x for x in df_theta.iloc[:,:].idxmax(axis=1)]\n",
    "\n",
    "umap_2d = umap.UMAP(n_components=2, init='random', random_state=0,min_dist=0.0,metric='cosine')\n",
    "proj_2d = umap_2d.fit(df_theta.iloc[:,1:])\n",
    "df_umap[['umap1','umap2']] = umap_2d.embedding_[:,[0,1]]\n",
    "df_umap\n",
    "df_umap = pd.merge(df_umap,df_pl[['cell','cell_type']],on='cell',how='left')\n",
    "df_umap = df_umap[~df_umap['cell_type'].isna()]\n",
    "df_umap\n",
    "\n"
   ]
  },
  {
   "cell_type": "code",
   "execution_count": null,
   "metadata": {},
   "outputs": [],
   "source": [
    "figure,axis = plt.subplots(2,1)\n",
    "plt.rcParams[\"figure.figsize\"] = (10,10)\n",
    "\n",
    "\n",
    "cp = sns.color_palette(cc.glasbey_dark, n_colors=len(df_umap['cell_type'].unique()))\n",
    "p = sns.scatterplot(data=df_umap, x='umap1', y='umap2', hue='cell_type',s=2,palette=cp,legend=True,ax=axis[0])\n",
    "plt.legend(title='Topic',title_fontsize=18, fontsize=14,loc='center left', bbox_to_anchor=(1, 0.5))\n",
    "p.axes.set_title(\"prev study\",fontsize=30)\n",
    "\n",
    "\n",
    "cp = sns.color_palette(cc.glasbey_dark, n_colors=len(df_umap['topic'].unique()))\n",
    "p = sns.scatterplot(data=df_umap, x='umap1', y='umap2', hue='topic',s=2,palette=cp,legend=True,ax=axis[1])\n",
    "plt.legend(title='Topic',title_fontsize=18, fontsize=14,loc='center left', bbox_to_anchor=(1, 0.5))\n",
    "p.axes.set_title(\"dcpmf\",fontsize=30)"
   ]
  }
 ],
 "metadata": {
  "kernelspec": {
   "display_name": "Python 3.9.9 ('ssubedi')",
   "language": "python",
   "name": "python3"
  },
  "language_info": {
   "codemirror_mode": {
    "name": "ipython",
    "version": 3
   },
   "file_extension": ".py",
   "mimetype": "text/x-python",
   "name": "python",
   "nbconvert_exporter": "python",
   "pygments_lexer": "ipython3",
   "version": "3.9.9"
  },
  "orig_nbformat": 4,
  "vscode": {
   "interpreter": {
    "hash": "456174486433d0df38b6c3d43662f9cf9ff34eb8be065c50f397edd6e06d981c"
   }
  }
 },
 "nbformat": 4,
 "nbformat_minor": 2
}
