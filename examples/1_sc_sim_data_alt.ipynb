{
 "cells": [
  {
   "cell_type": "code",
   "execution_count": null,
   "metadata": {},
   "outputs": [],
   "source": [
    "from asap.util.io import read_config\n",
    "from collections import namedtuple\n",
    "from pathlib import Path\n",
    "import pandas as pd\n",
    "import numpy as np\n",
    "from asap.data.dataloader import DataSet\n",
    "from asap.util import topics\n",
    "\n",
    "import matplotlib.pylab as plt\n",
    "import seaborn as sns\n",
    "import colorcet as cc\n",
    "\n",
    "\n",
    "experiment = '/projects/experiments/asapp/'\n",
    "server = Path.home().as_posix()\n",
    "experiment_home = server+experiment\n",
    "experiment_config = read_config(experiment_home+'config.yaml')\n",
    "args = namedtuple('Struct',experiment_config.keys())(*experiment_config.values())\n",
    "\n",
    "sample_in = args.home + args.experiment + args.input+ args.sample_id +'/'+args.sample_id\n",
    "sample_out = args.home + args.experiment + args.output+ args.sample_id +'/'+args.sample_id\n",
    "\n",
    "dl = DataSet(sample_in,sample_out,data_mode='sparse',data_ondisk=False)\n",
    "dl.config = args\n",
    "dl.initialize_data()\n",
    "print(dl.inpath)\n",
    "print(dl.outpath)\n"
   ]
  },
  {
   "cell_type": "code",
   "execution_count": null,
   "metadata": {},
   "outputs": [],
   "source": [
    "model = np.load(sample_out+'_altnmf.npz')"
   ]
  },
  {
   "cell_type": "code",
   "execution_count": null,
   "metadata": {},
   "outputs": [],
   "source": [
    "model['beta']"
   ]
  },
  {
   "cell_type": "code",
   "execution_count": null,
   "metadata": {},
   "outputs": [],
   "source": [
    "df_beta = pd.DataFrame(model['beta'].T)\n",
    "df_beta.columns = dl.cols\n",
    "df_top = topics.get_topic_top_genes(df_beta.iloc[:,:],top_n=10)\n",
    "df_top = df_top.pivot(index='Topic',columns='Gene',values='Proportion')\n",
    "sns.clustermap(df_top.T,cmap='viridis')"
   ]
  },
  {
   "cell_type": "code",
   "execution_count": null,
   "metadata": {},
   "outputs": [],
   "source": [
    "model['theta']"
   ]
  },
  {
   "cell_type": "code",
   "execution_count": null,
   "metadata": {},
   "outputs": [],
   "source": [
    "import umap\n",
    "df_theta = pd.DataFrame(model['theta'])\n",
    "df_umap= pd.DataFrame()\n",
    "df_umap['cell'] = dl.rows\n",
    "df_umap['topic_bulk'] = [x for x in df_theta.iloc[:,:].idxmax(axis=1)]\n",
    "\n",
    "umap_2d = umap.UMAP(n_components=2, init='random', random_state=0,min_dist=0.0,metric='cosine')\n",
    "proj_2d = umap_2d.fit(df_theta.iloc[:,1:])\n",
    "df_umap[['umap1','umap2']] = umap_2d.embedding_[:,[0,1]]\n",
    "df_umap"
   ]
  },
  {
   "cell_type": "code",
   "execution_count": null,
   "metadata": {},
   "outputs": [],
   "source": [
    "cp = sns.color_palette(cc.glasbey_dark, n_colors=len(df_umap['topic_bulk'].unique()))\n",
    "p = sns.scatterplot(data=df_umap, x='umap1', y='umap2', hue='topic_bulk',s=25,palette=cp,legend=True)\n",
    "plt.legend(title='Topic',title_fontsize=18, fontsize=14,loc='center left', bbox_to_anchor=(1, 0.5))\n",
    "p.axes.set_title(\"topics from bulkNMF\",fontsize=30)\n",
    "p.set_xlabel(\"UMAP1\",fontsize=20)\n",
    "p.set_ylabel(\"UMAP2\",fontsize=20)"
   ]
  },
  {
   "cell_type": "code",
   "execution_count": null,
   "metadata": {},
   "outputs": [],
   "source": [
    "df_umap['cell_type'] = [x.split('_')[1] for x in df_umap['cell']]\n",
    "cp = sns.color_palette(cc.glasbey_dark, n_colors=len(df_umap['cell_type'].unique()))\n",
    "p = sns.scatterplot(data=df_umap, x='umap1', y='umap2', hue='cell_type',s=25,palette=cp,legend=True)\n",
    "plt.legend(title='Topic',title_fontsize=18, fontsize=14,loc='center left', bbox_to_anchor=(1, 0.5))\n",
    "p.axes.set_title(\"topics from bulkNMF\",fontsize=30)\n",
    "p.set_xlabel(\"UMAP1\",fontsize=20)\n",
    "p.set_ylabel(\"UMAP2\",fontsize=20)"
   ]
  },
  {
   "cell_type": "code",
   "execution_count": null,
   "metadata": {},
   "outputs": [],
   "source": [
    "bulk_data = '/home/BCCRC.CA/ssubedi/projects/experiments/asapp/resources/dice/mean_tpm_merged.csv.gz'\n",
    "df_dice = pd.read_csv(bulk_data,compression='zip')\n",
    "\n",
    "# remove non naive T cells\n",
    "df_dice = df_dice[['gene', 'NK cell, CD56dim CD16+',\n",
    "       'T cell, CD4, TFH', 'T cell, CD4, memory TREG', 'T cell, CD4, TH1/17',\n",
    "       'B cell, naive', 'T cell, CD4, TH2', 'T cell, CD4, TH1', 'T cell, CD4, TH17', 'Monocyte, classical',\n",
    "       'Monocyte, non-classical']]\n",
    "df_dice = df_dice.set_index('gene').T"
   ]
  },
  {
   "cell_type": "code",
   "execution_count": null,
   "metadata": {},
   "outputs": [],
   "source": [
    "sel_top_genes = list(np.unique(topics.get_topic_top_genes(df_beta.iloc[:,1:],top_n=10)['Gene'].values))\n",
    "K=10\n",
    "corr=[]\n",
    "for i in df_beta.index:\n",
    "    cr = []\n",
    "    for j in df_dice.index:\n",
    "        cr.append(np.corrcoef(df_beta.loc[i,sel_top_genes],df_dice.loc[j,sel_top_genes])[0,1])\n",
    "    corr.append(cr)\n",
    "\n",
    "df_corr = pd.DataFrame(corr)\n",
    "df_corr.index = df_beta.index\n",
    "df_corr.columns = df_dice.index\n",
    "sns.clustermap(df_corr)\n",
    "plt.xlabel('sc')\n",
    "plt.ylabel('bulk')"
   ]
  },
  {
   "cell_type": "code",
   "execution_count": null,
   "metadata": {},
   "outputs": [],
   "source": [
    "# \n",
    "df_theta = pd.DataFrame(model['corr'])\n",
    "df_theta.index = dl.rows\n",
    "df_theta\n",
    "sns.clustermap(df_theta)\n"
   ]
  },
  {
   "cell_type": "code",
   "execution_count": null,
   "metadata": {},
   "outputs": [],
   "source": [
    "sns.displot(model['beta'].flatten())"
   ]
  },
  {
   "cell_type": "code",
   "execution_count": null,
   "metadata": {},
   "outputs": [],
   "source": [
    "sns.displot(model['corr'].flatten())"
   ]
  }
 ],
 "metadata": {
  "kernelspec": {
   "display_name": "ssubedi",
   "language": "python",
   "name": "python3"
  },
  "language_info": {
   "codemirror_mode": {
    "name": "ipython",
    "version": 3
   },
   "file_extension": ".py",
   "mimetype": "text/x-python",
   "name": "python",
   "nbconvert_exporter": "python",
   "pygments_lexer": "ipython3",
   "version": "3.9.9"
  },
  "orig_nbformat": 4
 },
 "nbformat": 4,
 "nbformat_minor": 2
}
