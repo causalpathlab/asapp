{
 "cells": [
  {
   "cell_type": "code",
   "execution_count": 1,
   "metadata": {},
   "outputs": [
    {
     "name": "stdout",
     "output_type": "stream",
     "text": [
      "/home/BCCRC.CA/ssubedi/projects/experiments/asapp/data/pbmc/pbmc\n",
      "/home/BCCRC.CA/ssubedi/projects/experiments/asapp/result/pbmc/pbmc\n"
     ]
    }
   ],
   "source": [
    "\n",
    "import os\n",
    "os.chdir('/home/BCCRC.CA/ssubedi/projects/experiments/asapp')\n",
    "from asap.util.io import read_config\n",
    "from collections import namedtuple\n",
    "from pathlib import Path\n",
    "import pandas as pd\n",
    "import numpy as np\n",
    "from asap.util import topics\n",
    "\n",
    "import matplotlib.pylab as plt\n",
    "import seaborn as sns\n",
    "import colorcet as cc\n",
    "\n",
    "from asap.data.dataloader import DataSet\n",
    "from scipy.linalg import qr\n",
    "\n",
    "experiment = '/projects/experiments/asapp/'\n",
    "server = Path.home().as_posix()\n",
    "experiment_home = server+experiment\n",
    "experiment_config = read_config(experiment_home+'config.yaml')\n",
    "args = namedtuple('Struct',experiment_config.keys())(*experiment_config.values())\n",
    "\n",
    "sample_in = args.home + args.experiment + args.input+ args.sample_id +'/'+args.sample_id\n",
    "sample_out = args.home + args.experiment + args.output+ args.sample_id +'/'+args.sample_id\n",
    "\n",
    "dl = DataSet('pbmc',sample_in,sample_out)\n",
    "dl.initialize_data()\n",
    "\n",
    "print(dl.inpath)\n",
    "print(dl.outpath)\n",
    "\n",
    "dl.load_data()\n",
    "\n",
    "X_rows = dl.mtx.shape[0]\n",
    "tree_max_depth = 10 \n",
    "\n",
    "rp_mat = []\n",
    "for _ in range(tree_max_depth):\n",
    "    rp_mat.append(np.random.normal(size = (X_rows,1)).flatten())                      \n",
    "rp_mat = np.asarray(rp_mat)\n",
    "\n",
    "Z = np.dot(rp_mat,dl.mtx).T\n",
    "Q, _ = qr(Z,mode='economic')\n",
    "\n"
   ]
  },
  {
   "cell_type": "code",
   "execution_count": 2,
   "metadata": {},
   "outputs": [],
   "source": [
    "b = [ x.split('_')[1] for x in dl.barcodes]\n",
    "b3 = [ 1 if x =='3k' else 0 for x in b]\n",
    "b4 = [ 1 if x =='4k' else 0 for x in b]\n",
    "batch = np.array([b3,b4]).T\n"
   ]
  },
  {
   "cell_type": "code",
   "execution_count": 3,
   "metadata": {},
   "outputs": [],
   "source": [
    "from sklearn.preprocessing import StandardScaler\n",
    "\n",
    "Q_scaled = StandardScaler().fit_transform(Q)\n",
    "u, s, _ = np.linalg.svd(batch, full_matrices=True)\n",
    "Qres = Q_scaled - u@u.T@Q_scaled\n"
   ]
  },
  {
   "cell_type": "code",
   "execution_count": 17,
   "metadata": {},
   "outputs": [
    {
     "data": {
      "text/plain": [
       "(array([161.,  49.,  41.,  33.,  28.,  44.,  29.,  20.,  24.,  67.]),\n",
       " array([0. , 0.1, 0.2, 0.3, 0.4, 0.5, 0.6, 0.7, 0.8, 0.9, 1. ]),\n",
       " <BarContainer object of 10 artists>)"
      ]
     },
     "execution_count": 17,
     "metadata": {},
     "output_type": "execute_result"
    },
    {
     "data": {
      "image/png": "[encoded data removed]",
      "text/plain": [
       "<Figure size 432x288 with 1 Axes>"
      ]
     },
     "metadata": {
      "needs_background": "light"
     },
     "output_type": "display_data"
    }
   ],
   "source": [
    "Qt = (np.sign(Q) + 1)/2\n",
    "\n",
    "df = pd.DataFrame(Qt,dtype=int)\n",
    "df['code'] = df.astype(str).agg(''.join, axis=1)\n",
    "df = df.reset_index()\n",
    "df = df[['index','code']]\n",
    "pbulkd = df.groupby('code').agg(lambda x: list(x)).reset_index().set_index('code').to_dict()['index']\n",
    "mix_res = []\n",
    "for k in pbulkd.keys():\n",
    "    mix = np.array(b)[pbulkd[k]]\n",
    "    mix_res.append(len(mix[mix=='3k'])/len(mix))\n",
    "plt.hist(mix_res)"
   ]
  },
  {
   "cell_type": "code",
   "execution_count": 18,
   "metadata": {},
   "outputs": [
    {
     "data": {
      "text/plain": [
       "0111010010    82\n",
       "0001001011    68\n",
       "0001111110    67\n",
       "0001001010    57\n",
       "0111110010    57\n",
       "              ..\n",
       "0101100100     1\n",
       "0101010100     1\n",
       "0010110110     1\n",
       "0101000110     1\n",
       "0010010110     1\n",
       "Name: code, Length: 496, dtype: int64"
      ]
     },
     "execution_count": 18,
     "metadata": {},
     "output_type": "execute_result"
    }
   ],
   "source": [
    "df.code.value_counts()"
   ]
  },
  {
   "cell_type": "code",
   "execution_count": 20,
   "metadata": {},
   "outputs": [
    {
     "data": {
      "text/plain": [
       "array(['3k', '3k', '4k', '4k', '4k', '4k', '4k', '4k', '4k', '4k', '4k',\n",
       "       '4k', '4k', '4k', '4k', '4k', '4k', '4k', '4k', '4k', '4k', '4k',\n",
       "       '4k', '4k', '4k', '4k', '4k', '4k', '4k', '4k', '4k', '4k', '4k',\n",
       "       '4k', '4k', '4k', '4k', '4k', '4k', '4k', '4k', '4k', '4k', '4k',\n",
       "       '4k', '4k', '4k', '4k', '4k', '4k', '4k', '4k', '4k', '4k', '4k',\n",
       "       '4k', '4k'], dtype='<U2')"
      ]
     },
     "execution_count": 20,
     "metadata": {},
     "output_type": "execute_result"
    }
   ],
   "source": [
    "mix = np.array(b)[pbulkd['0111110010']]\n",
    "mix"
   ]
  },
  {
   "cell_type": "code",
   "execution_count": 4,
   "metadata": {},
   "outputs": [
    {
     "data": {
      "text/plain": [
       "(array([226.,   1.,   1.,   1.,   0.,   6.,   0.,   0.,   0., 200.]),\n",
       " array([0. , 0.1, 0.2, 0.3, 0.4, 0.5, 0.6, 0.7, 0.8, 0.9, 1. ]),\n",
       " <BarContainer object of 10 artists>)"
      ]
     },
     "execution_count": 4,
     "metadata": {},
     "output_type": "execute_result"
    },
    {
     "data": {
      "image/png": "[encoded data removed]",
      "text/plain": [
       "<Figure size 432x288 with 1 Axes>"
      ]
     },
     "metadata": {
      "needs_background": "light"
     },
     "output_type": "display_data"
    }
   ],
   "source": [
    "Qt_res = (np.sign(Qres) + 1)/2\n",
    "\n",
    "df = pd.DataFrame(Qt_res,dtype=int)\n",
    "df['code'] = df.astype(str).agg(''.join, axis=1)\n",
    "df = df.reset_index()\n",
    "df = df[['index','code']]\n",
    "pbulkd = df.groupby('code').agg(lambda x: list(x)).reset_index().set_index('code').to_dict()['index']\n",
    "mix_res = []\n",
    "for k in pbulkd.keys():\n",
    "    mix = np.array(b)[pbulkd[k]]\n",
    "    mix_res.append(len(mix[mix=='3k'])/len(mix))\n",
    "plt.hist(mix_res)"
   ]
  },
  {
   "cell_type": "code",
   "execution_count": 6,
   "metadata": {},
   "outputs": [],
   "source": [
    "pbulk = {}\n",
    "for key, value in pbulkd.items():\n",
    "    pbulk[key] = dl.mtx[:,value].sum(1)\n",
    "\n",
    "df= pd.DataFrame.from_dict(pbulk,orient='index')"
   ]
  },
  {
   "cell_type": "code",
   "execution_count": 8,
   "metadata": {},
   "outputs": [],
   "source": [
    "pbulk_mat = df.to_numpy().T\n",
    "np.savez(sample_out+'_pbulk.npz', pbulk= pbulk_mat)"
   ]
  },
  {
   "cell_type": "code",
   "execution_count": 7,
   "metadata": {},
   "outputs": [
    {
     "data": {
      "text/plain": [
       "0001101111    455\n",
       "1110010000    422\n",
       "0000101111    420\n",
       "0001101110    357\n",
       "0000101110    325\n",
       "             ... \n",
       "1011000100      1\n",
       "1010001011      1\n",
       "1110011111      1\n",
       "1011000011      1\n",
       "1000100111      1\n",
       "Name: code, Length: 564, dtype: int64"
      ]
     },
     "execution_count": 7,
     "metadata": {},
     "output_type": "execute_result"
    }
   ],
   "source": [
    "df.code.value_counts()"
   ]
  },
  {
   "cell_type": "code",
   "execution_count": 12,
   "metadata": {},
   "outputs": [
    {
     "data": {
      "text/plain": [
       "array(['4k', '4k', '4k', '4k', '4k', '4k', '4k', '4k', '4k', '4k', '4k',\n",
       "       '4k', '4k', '4k', '4k', '4k', '4k', '4k', '4k', '4k', '4k', '4k',\n",
       "       '4k', '4k', '4k', '4k', '4k', '4k', '4k', '4k', '4k', '4k', '4k',\n",
       "       '4k', '4k', '4k', '4k', '4k', '4k', '4k', '4k', '4k', '4k', '4k',\n",
       "       '4k', '4k', '4k', '4k', '4k', '4k', '4k', '4k', '4k', '4k', '4k',\n",
       "       '4k', '4k', '4k', '4k', '4k', '4k', '4k', '4k', '4k', '4k', '4k',\n",
       "       '4k', '4k', '4k', '4k', '4k', '4k', '4k', '4k', '4k', '4k', '4k',\n",
       "       '4k', '4k', '4k', '4k', '4k', '4k', '4k', '4k', '4k', '4k', '4k',\n",
       "       '4k', '4k', '4k', '4k', '4k', '4k', '4k', '4k', '4k', '4k', '4k',\n",
       "       '4k', '4k', '4k', '4k', '4k', '4k', '4k', '4k', '4k', '4k', '4k',\n",
       "       '4k', '4k', '4k', '4k', '4k', '4k', '4k', '4k', '4k', '4k', '4k',\n",
       "       '4k', '4k', '4k', '4k', '4k', '4k', '4k', '4k', '4k', '4k', '4k',\n",
       "       '4k', '4k', '4k', '4k', '4k', '4k', '4k', '4k', '4k', '4k', '4k',\n",
       "       '4k', '4k', '4k', '4k', '4k', '4k', '4k', '4k', '4k', '4k', '4k',\n",
       "       '4k', '4k', '4k', '4k', '4k', '4k', '4k', '4k', '4k', '4k', '4k',\n",
       "       '4k', '4k', '4k', '4k', '4k', '4k', '4k', '4k', '4k', '4k', '4k',\n",
       "       '4k', '4k', '4k', '4k', '4k', '4k', '4k', '4k', '4k', '4k', '4k',\n",
       "       '4k', '4k', '4k', '4k', '4k', '4k', '4k', '4k', '4k', '4k', '4k',\n",
       "       '4k', '4k', '4k', '4k', '4k', '4k', '4k', '4k', '4k', '4k', '4k',\n",
       "       '4k', '4k', '4k', '4k', '4k', '4k', '4k', '4k', '4k', '4k', '4k',\n",
       "       '4k', '4k', '4k', '4k', '4k', '4k', '4k', '4k', '4k', '4k', '4k',\n",
       "       '4k', '4k', '4k', '4k', '4k', '4k', '4k', '4k', '4k', '4k', '4k',\n",
       "       '4k', '4k', '4k', '4k', '4k', '4k', '4k', '4k', '4k', '4k', '4k',\n",
       "       '4k', '4k', '4k', '4k', '4k', '4k', '4k', '4k', '4k', '4k', '4k',\n",
       "       '4k', '4k', '4k', '4k', '4k', '4k', '4k', '4k', '4k', '4k', '4k',\n",
       "       '4k', '4k', '4k', '4k', '4k', '4k', '4k', '4k', '4k', '4k', '4k',\n",
       "       '4k', '4k', '4k', '4k', '4k', '4k', '4k', '4k', '4k', '4k', '4k',\n",
       "       '4k', '4k', '4k', '4k', '4k', '4k', '4k', '4k', '4k', '4k', '4k',\n",
       "       '4k', '4k', '4k', '4k', '4k', '4k', '4k', '4k', '4k', '4k', '4k',\n",
       "       '4k', '4k', '4k', '4k', '4k', '4k', '4k', '4k', '4k', '4k', '4k',\n",
       "       '4k', '4k', '4k', '4k', '4k', '4k', '4k', '4k', '4k', '4k', '4k',\n",
       "       '4k', '4k', '4k', '4k', '4k', '4k', '4k', '4k', '4k', '4k', '4k',\n",
       "       '4k', '4k', '4k', '4k', '4k', '4k', '4k', '4k', '4k', '4k', '4k',\n",
       "       '4k', '4k', '4k', '4k', '4k', '4k', '4k', '4k', '4k', '4k', '4k',\n",
       "       '4k', '4k', '4k', '4k', '4k', '4k', '4k', '4k', '4k', '4k', '4k',\n",
       "       '4k', '4k', '4k', '4k', '4k', '4k', '4k', '4k', '4k', '4k', '4k',\n",
       "       '4k', '4k', '4k', '4k', '4k', '4k', '4k', '4k', '4k', '4k', '4k',\n",
       "       '4k', '4k', '4k', '4k', '4k', '4k', '4k', '4k', '4k', '4k', '4k',\n",
       "       '4k', '4k'], dtype='<U2')"
      ]
     },
     "execution_count": 12,
     "metadata": {},
     "output_type": "execute_result"
    }
   ],
   "source": [
    "mix = np.array(b)[pbulkd['0000101111']]\n",
    "mix"
   ]
  },
  {
   "cell_type": "code",
   "execution_count": null,
   "metadata": {},
   "outputs": [],
   "source": [
    "from sklearn.decomposition import PCA\n",
    "\n",
    "\t\n",
    "# data scaling\n",
    "x_scaled = StandardScaler().fit_transform(dl.mtx.T)\n",
    "pca = PCA(n_components=2)\n",
    "pca_features = pca.fit_transform(x_scaled)\n",
    "df_pca = pd.DataFrame(\n",
    "    data=pca_features, \n",
    "    columns=['PC1', 'PC2'])"
   ]
  },
  {
   "cell_type": "code",
   "execution_count": null,
   "metadata": {},
   "outputs": [],
   "source": [
    "df_pca['batch'] = [x.split('_')[1] for x in dl.barcodes]\n",
    "cp = sns.color_palette(cc.glasbey_dark, n_colors=len(df_pca['batch'].unique()))\n",
    "p = sns.scatterplot(data=df_pca, x='PC1', y='PC2', hue='batch',s=5,palette=cp,legend=True)"
   ]
  },
  {
   "cell_type": "code",
   "execution_count": null,
   "metadata": {},
   "outputs": [],
   "source": [
    "dft = pd.DataFrame(Q[:,:2],columns=['PC1','PC2'])\n",
    "dft['batch'] = [x.split('_')[1] for x in dl.barcodes]\n",
    "p = sns.scatterplot(data=dft, x='PC1', y='PC2', hue='batch',s=5,palette=cp,legend=True)"
   ]
  },
  {
   "cell_type": "code",
   "execution_count": null,
   "metadata": {},
   "outputs": [],
   "source": [
    "dl.mtx.shape"
   ]
  },
  {
   "cell_type": "code",
   "execution_count": null,
   "metadata": {},
   "outputs": [],
   "source": [
    "### run pca here -->\n",
    "\n",
    "\n",
    "\n",
    "Q = (np.sign(Q) + 1)/2\n",
    "\n",
    "df = pd.DataFrame(Q,dtype=int)\n",
    "df['code'] = df.astype(str).agg(''.join, axis=1)\n",
    "df = df.reset_index()\n",
    "df = df[['index','code']]\n",
    "pbulkd = df.groupby('code').agg(lambda x: list(x)).reset_index().set_index('code').to_dict()['index']\n",
    "\n",
    "pbulk = {}\n",
    "for key, value in pbulkd.items():\n",
    "    pbulk[key] = mtx[:,value].sum(1)\n",
    "\n",
    "pd.DataFrame.from_dict(pbulk,orient='index')\n",
    "\n",
    "\n",
    "from asap.annotation import ASAPNMF\n",
    "asap = ASAPNMF(adata=dl)\n",
    "asap.get_pbulk()"
   ]
  },
  {
   "cell_type": "code",
   "execution_count": null,
   "metadata": {},
   "outputs": [],
   "source": [
    "nz_cutoff = 10\n",
    "dfall = dfall[dfall.iloc[:,2:].sum(1)>nz_cutoff].reset_index(drop=True)\n",
    "genes = dfall['gene'].values\n",
    "glens = dfall['length'].values\n",
    "dfall = dfall.drop(columns=['gene','length'])\n",
    "\n",
    "\n",
    "qt = QuantileTransformer(random_state=0)\n",
    "dfall_q = qt.fit_transform(dfall)\n",
    "\n",
    "mu_total = np.mean(dfall_q,axis=1)\n",
    " \n",
    "scaler = StandardScaler()\n",
    "dfall_q = pd.DataFrame(scaler.fit_transform(dfall_q.T).T,columns=dfall.columns)\n",
    "\n",
    "\n",
    "u,d,v = skrsvd(dfall_q.to_numpy()/np.sqrt(dfall_q.shape[1]),n_components=50,random_state=0)\n",
    "L_total = u * d"
   ]
  },
  {
   "cell_type": "code",
   "execution_count": null,
   "metadata": {},
   "outputs": [],
   "source": [
    "def get_sc(L_total,mu_total,dfct,L_ct,mu_ct,pve_ct):\n",
    "    z_total = np.dot(L_total,np.random.normal(size=L_total.shape[1])) + mu_total\n",
    "    z_ct = np.dot(L_ct,np.random.normal(size=L_ct.shape[1])) + mu_ct\n",
    "    x_sample = np.sort(dfct.apply(lambda x: np.random.choice(x), axis=1))\n",
    "    z_sample = np.array([np.nan] * len(x_sample))\n",
    "    z = z_ct * np.sqrt(pve_ct) + z_total * np.sqrt(1 - pve_ct)\n",
    "    z_sample[np.argsort(z)] = x_sample\n",
    "    return z_sample\n"
   ]
  },
  {
   "cell_type": "code",
   "execution_count": null,
   "metadata": {},
   "outputs": [],
   "source": [
    "ct_prop = {'NK':7.4,\n",
    " 'THSTAR':2.1,\n",
    " 'TH1':1.5,\n",
    " 'B_CELL_NAIVE':5.2,\n",
    " 'TREG_MEM':1.2,\n",
    " 'TH2':1.9,\n",
    " 'TREG_NAIVE':0.4,\n",
    " 'MONOCYTES':17.7,\n",
    " 'M2':1.6,\n",
    " 'TFH':2.7,\n",
    " 'CD8_NAIVE':6.4,\n",
    " 'CD4_NAIVE':11,\n",
    " 'TH17':3.2\n",
    "}"
   ]
  },
  {
   "cell_type": "code",
   "execution_count": null,
   "metadata": {},
   "outputs": [],
   "source": [
    "size= 2\n",
    "pve_ct = 0.99\n",
    "all_indx = []\n",
    "dfsc = pd.DataFrame()\n",
    "for ct in cts:\n",
    "    dfct = dfall[[x for x in dfall.columns if ct in x]]\n",
    "    dfct_q = dfall_q[[x for x in dfall_q.columns if ct in x]]\n",
    "\n",
    "    mu_ct = dfct_q.mean(1)\n",
    "\n",
    "    scaler = StandardScaler()\n",
    "    dfct_q = pd.DataFrame(scaler.fit_transform(dfct_q.T).T)\n",
    "\n",
    "    u,d,v = rsvd(dfct_q.to_numpy()/np.sqrt(dfct_q.shape[1]),n_components=50,random_state=0)\n",
    "    L_ct = u * d\n",
    "\n",
    "    ct_sc = []\n",
    "    for i in range(size):\n",
    "        ct_sc.append(get_sc(L_total,mu_total,dfct,L_ct,mu_ct,pve_ct))\n",
    "    df_ctsc = pd.DataFrame(ct_sc,columns=genes)\n",
    "\n",
    "    dfsc = pd.concat([dfsc,df_ctsc],axis=0,ignore_index=True)\n",
    "    all_indx.append([ str(i) + '_' + ct.replace(' ','') for i in range(size)])\n",
    "\n",
    "    print(ct)"
   ]
  },
  {
   "cell_type": "code",
   "execution_count": null,
   "metadata": {},
   "outputs": [],
   "source": [
    "dfsc.index = np.array(all_indx).flatten()\n",
    "dfsc"
   ]
  },
  {
   "cell_type": "code",
   "execution_count": null,
   "metadata": {},
   "outputs": [],
   "source": [
    "# sns.scatterplot(x=np.log(dfsc.loc['0_NK']),y=np.log(dfsc.loc['1_NK']),s=2)\n",
    "sns.scatterplot(x=np.log(dfsc.loc['1_NK']),y=np.log(dfsc.loc['0_M2']),s=2)"
   ]
  }
 ],
 "metadata": {
  "kernelspec": {
   "display_name": "ssubedi",
   "language": "python",
   "name": "python3"
  },
  "language_info": {
   "codemirror_mode": {
    "name": "ipython",
    "version": 3
   },
   "file_extension": ".py",
   "mimetype": "text/x-python",
   "name": "python",
   "nbconvert_exporter": "python",
   "pygments_lexer": "ipython3",
   "version": "3.9.9"
  },
  "orig_nbformat": 4
 },
 "nbformat": 4,
 "nbformat_minor": 2
}
