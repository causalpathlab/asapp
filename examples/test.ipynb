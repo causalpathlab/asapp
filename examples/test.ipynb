{
 "cells": [
  {
   "cell_type": "code",
   "execution_count": 1,
   "metadata": {},
   "outputs": [
    {
     "name": "stdout",
     "output_type": "stream",
     "text": [
      "NK\n",
      "THSTAR\n",
      "TH1\n",
      "B_CELL_NAIVE\n",
      "TREG_MEM\n",
      "TH2\n",
      "TREG_NAIVE\n",
      "MONOCYTES\n",
      "M2\n",
      "TFH\n",
      "CD8_NAIVE\n",
      "CD4_NAIVE\n",
      "TH17\n"
     ]
    }
   ],
   "source": [
    "import matplotlib.pylab as plt\n",
    "import seaborn as sns\n",
    "import scipy.stats as st\n",
    "import pandas as pd\n",
    "import numpy as np\n",
    "from sklearn.preprocessing import QuantileTransformer\n",
    "from sklearn.preprocessing import StandardScaler\n",
    "from sklearn.utils.extmath import randomized_svd as skrsvd\n",
    "import glob, os\n",
    "\n",
    "\n",
    "os.chdir(\".\")\n",
    "files = []\n",
    "for file in glob.glob(\"/home/BCCRC.CA/ssubedi/projects/experiments/asapp/resources/dice/*.csv\"):\n",
    "    files.append(file)\n",
    "\n",
    "dfall = pd.DataFrame()\n",
    "\n",
    "cts = []\n",
    "for i,f in enumerate(files):\n",
    "\n",
    "    df = pd.read_csv(f)\n",
    "    df = df[df['Additional_annotations'].str.contains('protein_coding')].reset_index(drop=True)\n",
    "    df = df.drop(columns=['Additional_annotations'])\n",
    "    \n",
    "    ct = os.path.basename(f).split('.')[0].replace('_TPM','')\n",
    "    cols = [str(x)+'_'+ct for x in range(df.shape[1]-2)]\n",
    "    df.columns = ['gene','length'] + cols\n",
    "    \n",
    "    if i == 0:\n",
    "        dfall = df\n",
    "    else:\n",
    "        dfall = pd.merge(dfall,df,on=['gene','length'],how='outer')\n",
    "    cts.append(ct)\n",
    "    print(ct)\n",
    "\n",
    "\n"
   ]
  },
  {
   "cell_type": "code",
   "execution_count": 2,
   "metadata": {},
   "outputs": [],
   "source": [
    "nz_cutoff = 10\n",
    "dfall = dfall[dfall.iloc[:,2:].sum(1)>nz_cutoff].reset_index(drop=True)\n",
    "genes = dfall['gene'].values\n",
    "glens = dfall['length'].values\n",
    "dfall = dfall.drop(columns=['gene','length'])\n",
    "\n",
    "\n",
    "qt = QuantileTransformer(random_state=0)\n",
    "dfall_q = qt.fit_transform(dfall)\n",
    "\n",
    "mu_total = np.mean(dfall_q,axis=1)\n",
    " \n",
    "scaler = StandardScaler()\n",
    "dfall_q = pd.DataFrame(scaler.fit_transform(dfall_q.T).T,columns=dfall.columns)\n",
    "\n",
    "\n",
    "u,d,v = skrsvd(dfall_q.to_numpy()/np.sqrt(dfall_q.shape[1]),n_components=50,random_state=0)\n",
    "L_total = u * d"
   ]
  },
  {
   "cell_type": "code",
   "execution_count": 16,
   "metadata": {},
   "outputs": [],
   "source": [
    "z = []\n",
    "for i in range(1000):\n",
    "    z_total = np.dot(L_total,np.random.normal(size=L_total.shape[1])) + mu_total\n",
    "    z.append(z_total)"
   ]
  },
  {
   "cell_type": "code",
   "execution_count": 45,
   "metadata": {},
   "outputs": [
    {
     "data": {
      "text/plain": [
       "(array([ 11.,   5.,   6.,  12.,  11.,  11.,  11.,  14.,  19.,  15.,  18.,\n",
       "         17.,  16.,  22.,  29.,  21.,  27.,  29.,  26.,  37.,  43.,  29.,\n",
       "         43.,  40.,  62.,  59.,  62.,  81.,  83., 141.]),\n",
       " array([0.01484288, 0.04768145, 0.08052001, 0.11335858, 0.14619715,\n",
       "        0.17903572, 0.21187429, 0.24471285, 0.27755142, 0.31038999,\n",
       "        0.34322856, 0.37606712, 0.40890569, 0.44174426, 0.47458283,\n",
       "        0.5074214 , 0.54025996, 0.57309853, 0.6059371 , 0.63877567,\n",
       "        0.67161424, 0.7044528 , 0.73729137, 0.77012994, 0.80296851,\n",
       "        0.83580707, 0.86864564, 0.90148421, 0.93432278, 0.96716135,\n",
       "        0.99999991]),\n",
       " <BarContainer object of 30 artists>)"
      ]
     },
     "execution_count": 45,
     "metadata": {},
     "output_type": "execute_result"
    },
    {
     "data": {
      "image/png": "[encoded data removed]",
      "text/plain": [
       "<Figure size 432x288 with 1 Axes>"
      ]
     },
     "metadata": {
      "needs_background": "light"
     },
     "output_type": "display_data"
    }
   ],
   "source": [
    "import scipy.stats as st\n",
    "dfz = pd.DataFrame(z)\n",
    "# dfz[dfz<20]=20\n",
    "plt.hist(st.norm.cdf(dfz.iloc[:,100].values),bins=30)\n",
    "# sns.scatterplot(dfz.iloc[:,0],dfz.iloc[:,100])"
   ]
  },
  {
   "cell_type": "code",
   "execution_count": null,
   "metadata": {},
   "outputs": [],
   "source": [
    "def get_sc(L_total,mu_total,dfct,L_ct,mu_ct,pve_ct):\n",
    "    z_total = np.dot(L_total,np.random.normal(size=L_total.shape[1])) + mu_total\n",
    "    z_ct = np.dot(L_ct,np.random.normal(size=L_ct.shape[1])) + mu_ct\n",
    "    x_sample = np.sort(dfct.apply(lambda x: np.random.choice(x), axis=1))\n",
    "    z_sample = np.array([np.nan] * len(x_sample))\n",
    "    z = z_ct * np.sqrt(pve_ct) + z_total * np.sqrt(1 - pve_ct)\n",
    "    z_sample[np.argsort(z)] = x_sample\n",
    "    return z_sample\n"
   ]
  },
  {
   "cell_type": "code",
   "execution_count": null,
   "metadata": {},
   "outputs": [],
   "source": [
    "size= 2\n",
    "pve_ct = 0.99\n",
    "all_indx = []\n",
    "dfsc = pd.DataFrame()\n",
    "for ct in cts:\n",
    "    dfct = dfall[[x for x in dfall.columns if ct in x]]\n",
    "    dfct_q = dfall_q[[x for x in dfall_q.columns if ct in x]]\n",
    "\n",
    "    mu_ct = dfct_q.mean(1)\n",
    "\n",
    "    scaler = StandardScaler()\n",
    "    dfct_q = pd.DataFrame(scaler.fit_transform(dfct_q.T).T)\n",
    "\n",
    "    u,d,v = rsvd(dfct_q.to_numpy()/np.sqrt(dfct_q.shape[1]),n_components=50,random_state=0)\n",
    "    L_ct = u * d\n",
    "\n",
    "    ct_sc = []\n",
    "    for i in range(size):\n",
    "        ct_sc.append(get_sc(L_total,mu_total,dfct,L_ct,mu_ct,pve_ct))\n",
    "    df_ctsc = pd.DataFrame(ct_sc,columns=genes)\n",
    "\n",
    "    dfsc = pd.concat([dfsc,df_ctsc],axis=0,ignore_index=True)\n",
    "    all_indx.append([ str(i) + '_' + ct.replace(' ','') for i in range(size)])\n",
    "\n",
    "    print(ct)"
   ]
  },
  {
   "cell_type": "code",
   "execution_count": null,
   "metadata": {},
   "outputs": [],
   "source": [
    "dfsc.index = np.array(all_indx).flatten()\n",
    "dfsc"
   ]
  },
  {
   "cell_type": "code",
   "execution_count": null,
   "metadata": {},
   "outputs": [],
   "source": [
    "# sns.scatterplot(x=np.log(dfsc.loc['0_NK']),y=np.log(dfsc.loc['1_NK']),s=2)\n",
    "sns.scatterplot(x=np.log(dfsc.loc['1_NK']),y=np.log(dfsc.loc['0_M2']),s=2)"
   ]
  }
 ],
 "metadata": {
  "kernelspec": {
   "display_name": "ssubedi",
   "language": "python",
   "name": "python3"
  },
  "language_info": {
   "codemirror_mode": {
    "name": "ipython",
    "version": 3
   },
   "file_extension": ".py",
   "mimetype": "text/x-python",
   "name": "python",
   "nbconvert_exporter": "python",
   "pygments_lexer": "ipython3",
   "version": "3.9.9"
  },
  "orig_nbformat": 4
 },
 "nbformat": 4,
 "nbformat_minor": 2
}
